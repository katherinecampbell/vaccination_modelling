{
 "cells": [
  {
   "cell_type": "code",
   "execution_count": 1,
   "metadata": {
    "scrolled": true
   },
   "outputs": [
    {
     "name": "stderr",
     "output_type": "stream",
     "text": [
      "C:\\Users\\kec52\\Anaconda3\\lib\\site-packages\\gensim\\utils.py:1209: UserWarning: detected Windows; aliasing chunkize to chunkize_serial\n",
      "  warnings.warn(\"detected Windows; aliasing chunkize to chunkize_serial\")\n"
     ]
    }
   ],
   "source": [
    "# imports needed and logging\n",
    "import os\n",
    "import sys\n",
    "import logging\n",
    "from time import time\n",
    "import pickle\n",
    "import io\n",
    "import matplotlib.pyplot as plt\n",
    "import pandas as pd\n",
    "import numpy as np\n",
    "import scipy as sp\n",
    "import gensim \n",
    "from gensim import corpora, models, similarities, utils\n",
    "from gensim.models.coherencemodel import CoherenceModel\n",
    "from gensim.corpora import MmCorpus, Dictionary\n",
    "from gensim.test.utils import datapath\n",
    "from gensim.utils import simple_preprocess\n",
    "from gensim.parsing.preprocessing import STOPWORDS\n",
    "import pyLDAvis.gensim\n",
    "import nltk\n",
    "from nltk.corpus import stopwords, wordnet as wn\n",
    "from nltk.stem.wordnet import WordNetLemmatizer\n",
    "from nltk.text import Text\n",
    "\n",
    "\n",
    "\n",
    " \n",
    "logging.basicConfig(format= '%(asctime)s : %(levelname)s : %(message)s', level=logging.INFO)"
   ]
  },
  {
   "cell_type": "code",
   "execution_count": 2,
   "metadata": {
    "collapsed": true
   },
   "outputs": [],
   "source": [
    "#lemmatize for verbs\n",
    "def get_lemma(word):\n",
    "    lemma = wn.morphy(word)\n",
    "    if lemma is None:\n",
    "        lemma = word\n",
    "    return lemma\n",
    "\n",
    "#lemmatize for nouns\n",
    "def get_lemma2(word):\n",
    "    return WordNetLemmatizer().lemmatize(word)"
   ]
  },
  {
   "cell_type": "code",
   "execution_count": 3,
   "metadata": {
    "collapsed": true
   },
   "outputs": [],
   "source": [
    "def tokenize(text):\n",
    "    return [token for token in simple_preprocess(text) if token not in STOPWORDS]"
   ]
  },
  {
   "cell_type": "code",
   "execution_count": 4,
   "metadata": {
    "collapsed": true
   },
   "outputs": [],
   "source": [
    "#clean texts\n",
    "def clean_txt(text):\n",
    "    tokens = tokenize(text)\n",
    "    tokens = [token for token in tokens if len(token) > 2]\n",
    "    tokens = [get_lemma(token) for token in tokens]\n",
    "    tokens = [get_lemma2(token) for token in tokens]\n",
    "    return tokens"
   ]
  },
  {
   "cell_type": "code",
   "execution_count": 5,
   "metadata": {
    "collapsed": true
   },
   "outputs": [],
   "source": [
    "def iter_documents(top_directory):\n",
    "    \"\"\"Iterate over all documents, yielding a document (=list of utf8 tokens) at a time.\"\"\"\n",
    "    for root, dirs, files in os.walk(top_directory):\n",
    "        for file in filter(lambda file: file.endswith('.txt'), files):\n",
    "            document = io.open(os.path.join(root, file), encoding='utf=8', errors='ignore').read() # read the entire document, as one big string\n",
    "            x = clean_txt(document) # or whatever tokenization suits\n",
    "            yield x\n"
   ]
  },
  {
   "cell_type": "code",
   "execution_count": 6,
   "metadata": {
    "collapsed": true
   },
   "outputs": [],
   "source": [
    "class MyCorpus(object):\n",
    "    \n",
    "    def __init__(self, top_dir):\n",
    "        self.top_dir = top_dir\n",
    "        self.dictionary = gensim.corpora.Dictionary(iter_documents(top_dir))\n",
    "        self.dictionary.filter_extremes(no_below=2, keep_n=30000) # check API docs for pruning params \n",
    "        \n",
    "    def __len__(self):\n",
    "        count = 0\n",
    "        for root, dirs, files in os.walk(self.top_dir):\n",
    "            for file in filter(lambda file: file.endswith('.txt'), files):\n",
    "                count += 1\n",
    "        self._data_len = int(count)\n",
    "        return self._data_len\n",
    "        \n",
    "        \n",
    "    def __iter__(self):\n",
    "        for tokens in iter_documents(self.top_dir):\n",
    "            yield self.dictionary.doc2bow(tokens)\n"
   ]
  },
  {
   "cell_type": "code",
   "execution_count": 7,
   "metadata": {
    "collapsed": true
   },
   "outputs": [],
   "source": [
    "#returns corpus, serialized corpus, and dict. args: top_dir, corpus_name\n",
    "#saves serialized corpus mm and dictionary as .dict\n",
    "#both args in ''\n",
    "\n",
    "def get_corpus_dict(top_dir, corpus_name):\n",
    "    corpus = MyCorpus(top_dir)\n",
    "    #save corpus\n",
    "    pickle.dump(corpus, open(corpus_name + '.pkl', 'wb'))\n",
    "    #save dictionary\n",
    "    dictionary = corpus.dictionary\n",
    "    dictionary.save(corpus_name +'_dictionary.dict')\n",
    "    new_corpus = [vector for vector in iter(corpus)]\n",
    "    corpora.MmCorpus.serialize(corpus_name+'_serialized.mm', new_corpus)\n",
    "    # Building reverse index.\n",
    "    for (token, uid) in dictionary.token2id.items():\n",
    "        dictionary.id2token[uid] = token\n",
    "    return corpus, new_corpus, dictionary"
   ]
  },
  {
   "cell_type": "code",
   "execution_count": 22,
   "metadata": {
    "collapsed": true
   },
   "outputs": [],
   "source": [
    "def lda_model(corpus,dictionary, num_passes, num_topics, chunksize):\n",
    "    start = time()\n",
    "    print('makin model')\n",
    "    LDA = gensim.models.ldamodel.LdaModel(corpus, id2word=dictionary, passes=num_passes, num_topics = num_topics, chunksize=chunksize)\n",
    "    #print time\n",
    "    print ('used: {:.2f}s'.format(time()-start))\n",
    "    return LDA"
   ]
  },
  {
   "cell_type": "code",
   "execution_count": 9,
   "metadata": {
    "collapsed": true
   },
   "outputs": [],
   "source": [
    "def print_topics(model, num_words):\n",
    "    topics = model.print_topics(num_words=num_words)\n",
    "    for topic in topics:\n",
    "        print(topic)"
   ]
  },
  {
   "cell_type": "code",
   "execution_count": 10,
   "metadata": {
    "collapsed": true
   },
   "outputs": [],
   "source": [
    "#print nice df of topics\n",
    "def get_topics(corpus_name, model, num_topics):\n",
    "    word_dict = {};\n",
    "    for i in range(num_topics):\n",
    "        words = model.show_topic(i, topn = 20)\n",
    "        word_dict['Topic # ' + '{:02d}'.format(i+1)] = [i[0] for i in words]\n",
    "    topics = pd.DataFrame(word_dict)\n",
    "    print(topics)\n",
    "    topics.to_csv(corpus_name+'_topics.csv')"
   ]
  },
  {
   "cell_type": "code",
   "execution_count": 11,
   "metadata": {
    "collapsed": true
   },
   "outputs": [],
   "source": [
    "def make_ldavis(model, serial_corpus, dictionary, corpus_name):\n",
    "    pyLDAvis.enable_notebook()\n",
    "    data = pyLDAvis.gensim.prepare(model, serial_corpus, dictionary)\n",
    "    pyLDAvis.save_html(data, corpus_name+'_lda.html')"
   ]
  },
  {
   "cell_type": "code",
   "execution_count": 38,
   "metadata": {
    "collapsed": true
   },
   "outputs": [],
   "source": [
    "#topic coherence - human interpretability of topic model using cv coherence\n",
    "# arguments: dictionary = Gensim dictionary, corpus =  Gensim corpus, limit = max num topics\n",
    "# Returns: lm_list = List of LDA topic models and c_v  = Coherence values corresponding to LDA model with respective num_topics\n",
    "\n",
    "def evaluate_graph(dictionary, corpus, num_passes, chunksize, limit):\n",
    "    c_v = []\n",
    "    lm_list = []\n",
    "    for num_topics in range(1, limit):\n",
    "        lm = lda_model(corpus=corpus, dictionary=dictionary, num_passes = num_passes, num_topics = num_topics, chunksize=chunksize)\n",
    "        lm_list.append(lm)\n",
    "        cm = CoherenceModel(model=lm, corpus=corpus, dictionary=dictionary, coherence='u_mass')\n",
    "        c_v.append(cm.get_coherence())\n",
    "        \n",
    "    # Show graph\n",
    "    x = range(1, limit)\n",
    "    plt.plot(x, c_v)\n",
    "    plt.xlabel(\"num_topics\")\n",
    "    plt.ylabel(\"Coherence score\")\n",
    "    plt.legend((\"c_v\"), loc='best')\n",
    "    fig1 = plt.gcf()\n",
    "    plt.show()\n",
    "    plt.draw\n",
    "    fig1.savefig('coherence_plot.png')\n",
    "    return lm_list, c_v"
   ]
  },
  {
   "cell_type": "markdown",
   "metadata": {},
   "source": [
    "#get everything for pro-texts\n",
    "pro_cor, pro_cor_serial, pro_dict = get_corpus_dict('C:/Users/kec52/Documents/BLtext_research/proVaxTextLib/proTexts', 'pro_corpus')"
   ]
  },
  {
   "cell_type": "code",
   "execution_count": 30,
   "metadata": {},
   "outputs": [
    {
     "name": "stderr",
     "output_type": "stream",
     "text": [
      "2018-09-04 22:47:00,020 : INFO : loaded corpus index from C:/Users/kec52/Documents/BLtext_research/pro_corpus_serialized.mm.index\n",
      "2018-09-04 22:47:00,020 : INFO : initializing cython corpus reader from C:/Users/kec52/Documents/BLtext_research/pro_corpus_serialized.mm\n",
      "2018-09-04 22:47:00,020 : INFO : accepted corpus with 16 documents, 7219 features, 24605 non-zero entries\n",
      "2018-09-04 22:47:00,024 : INFO : loading Dictionary object from C:/Users/kec52/Documents/BLtext_research/pro_corpus_dictionary.dict\n",
      "2018-09-04 22:47:00,028 : INFO : loaded C:/Users/kec52/Documents/BLtext_research/pro_corpus_dictionary.dict\n"
     ]
    }
   ],
   "source": [
    "pro_cor = pickle.load(open('C:/Users/kec52/Documents/BLtext_research/pro_corpus.pkl', 'rb'))\n",
    "pro_serial_corpus = MmCorpus(datapath('C:/Users/kec52/Documents/BLtext_research/pro_corpus_serialized.mm'))\n",
    "pro_dict = Dictionary.load('C:/Users/kec52/Documents/BLtext_research/pro_corpus_dictionary.dict')"
   ]
  },
  {
   "cell_type": "code",
   "execution_count": 31,
   "metadata": {},
   "outputs": [
    {
     "ename": "TypeError",
     "evalue": "lda_model() got an unexpected keyword argument 'passes'",
     "output_type": "error",
     "traceback": [
      "\u001b[1;31m---------------------------------------------------------------------------\u001b[0m",
      "\u001b[1;31mTypeError\u001b[0m                                 Traceback (most recent call last)",
      "\u001b[1;32m<ipython-input-31-e7be0041281e>\u001b[0m in \u001b[0;36m<module>\u001b[1;34m()\u001b[0m\n\u001b[1;32m----> 1\u001b[1;33m \u001b[0mevaluate_graph\u001b[0m\u001b[1;33m(\u001b[0m\u001b[0mpro_dict\u001b[0m\u001b[1;33m,\u001b[0m \u001b[0mpro_cor\u001b[0m\u001b[1;33m,\u001b[0m \u001b[1;36m10\u001b[0m\u001b[1;33m,\u001b[0m \u001b[1;36m100\u001b[0m\u001b[1;33m,\u001b[0m \u001b[1;36m11\u001b[0m\u001b[1;33m)\u001b[0m\u001b[1;33m\u001b[0m\u001b[0m\n\u001b[0m",
      "\u001b[1;32m<ipython-input-29-c3f6ac1111e0>\u001b[0m in \u001b[0;36mevaluate_graph\u001b[1;34m(dictionary, corpus, num_passes, chunksize, limit)\u001b[0m\n\u001b[0;32m      7\u001b[0m     \u001b[0mlm_list\u001b[0m \u001b[1;33m=\u001b[0m \u001b[1;33m[\u001b[0m\u001b[1;33m]\u001b[0m\u001b[1;33m\u001b[0m\u001b[0m\n\u001b[0;32m      8\u001b[0m     \u001b[1;32mfor\u001b[0m \u001b[0mnum_topics\u001b[0m \u001b[1;32min\u001b[0m \u001b[0mrange\u001b[0m\u001b[1;33m(\u001b[0m\u001b[1;36m1\u001b[0m\u001b[1;33m,\u001b[0m \u001b[0mlimit\u001b[0m\u001b[1;33m)\u001b[0m\u001b[1;33m:\u001b[0m\u001b[1;33m\u001b[0m\u001b[0m\n\u001b[1;32m----> 9\u001b[1;33m         \u001b[0mlm\u001b[0m \u001b[1;33m=\u001b[0m \u001b[0mlda_model\u001b[0m\u001b[1;33m(\u001b[0m\u001b[0mcorpus\u001b[0m\u001b[1;33m=\u001b[0m\u001b[0mcorpus\u001b[0m\u001b[1;33m,\u001b[0m \u001b[0mdictionary\u001b[0m\u001b[1;33m=\u001b[0m\u001b[0mdictionary\u001b[0m\u001b[1;33m,\u001b[0m \u001b[0mchunksize\u001b[0m\u001b[1;33m=\u001b[0m\u001b[0mchunksize\u001b[0m\u001b[1;33m,\u001b[0m \u001b[0mpasses\u001b[0m \u001b[1;33m=\u001b[0m \u001b[0mnum_passes\u001b[0m\u001b[1;33m,\u001b[0m \u001b[0mnum_topics\u001b[0m \u001b[1;33m=\u001b[0m \u001b[0mnum_topics\u001b[0m\u001b[1;33m)\u001b[0m\u001b[1;33m\u001b[0m\u001b[0m\n\u001b[0m\u001b[0;32m     10\u001b[0m         \u001b[0mlm_list\u001b[0m\u001b[1;33m.\u001b[0m\u001b[0mappend\u001b[0m\u001b[1;33m(\u001b[0m\u001b[0mlm\u001b[0m\u001b[1;33m)\u001b[0m\u001b[1;33m\u001b[0m\u001b[0m\n\u001b[0;32m     11\u001b[0m         \u001b[0mcm\u001b[0m \u001b[1;33m=\u001b[0m \u001b[0mCoherenceModel\u001b[0m\u001b[1;33m(\u001b[0m\u001b[0mmodel\u001b[0m\u001b[1;33m=\u001b[0m\u001b[0mlm\u001b[0m\u001b[1;33m,\u001b[0m \u001b[0mcorpus\u001b[0m\u001b[1;33m=\u001b[0m\u001b[0mcorpus\u001b[0m\u001b[1;33m,\u001b[0m \u001b[0mdictionary\u001b[0m\u001b[1;33m=\u001b[0m\u001b[0mdictionary\u001b[0m\u001b[1;33m,\u001b[0m \u001b[0mcoherence\u001b[0m\u001b[1;33m=\u001b[0m\u001b[1;34m'u_mass'\u001b[0m\u001b[1;33m)\u001b[0m\u001b[1;33m\u001b[0m\u001b[0m\n",
      "\u001b[1;31mTypeError\u001b[0m: lda_model() got an unexpected keyword argument 'passes'"
     ]
    }
   ],
   "source": [
    "evaluate_graph(pro_dict, pro_cor, 10, 100, 11)"
   ]
  },
  {
   "cell_type": "code",
   "execution_count": 32,
   "metadata": {},
   "outputs": [
    {
     "name": "stderr",
     "output_type": "stream",
     "text": [
      "2018-09-04 22:47:01,155 : INFO : using symmetric alpha at 0.25\n",
      "2018-09-04 22:47:01,159 : INFO : using symmetric eta at 0.25\n",
      "2018-09-04 22:47:01,163 : INFO : using serial LDA version on this node\n",
      "2018-09-04 22:47:01,167 : INFO : running online (multi-pass) LDA training, 4 topics, 30 passes over the supplied corpus of 16 documents, updating model once every 16 documents, evaluating perplexity every 16 documents, iterating 50x with a convergence threshold of 0.001000\n"
     ]
    },
    {
     "name": "stdout",
     "output_type": "stream",
     "text": [
      "makin model\n"
     ]
    },
    {
     "name": "stderr",
     "output_type": "stream",
     "text": [
      "2018-09-04 22:47:01,934 : INFO : -9.549 per-word bound, 749.2 perplexity estimate based on a held-out corpus of 16 documents with 76562 words\n",
      "2018-09-04 22:47:01,934 : INFO : PROGRESS: pass 0, at document #16/16\n",
      "2018-09-04 22:47:01,990 : INFO : topic #0 (0.250): 0.017*\"sheffield\" + 0.011*\"cent\" + 0.006*\"unvaccinated\" + 0.006*\"smallpox\" + 0.005*\"borough\" + 0.005*\"aged\" + 0.005*\"revaccinated\" + 0.004*\"pitted\" + 0.004*\"birch\" + 0.004*\"houses\"\n",
      "2018-09-04 22:47:01,994 : INFO : topic #1 (0.250): 0.024*\"cent\" + 0.019*\"sheffield\" + 0.012*\"unvaccinated\" + 0.009*\"borough\" + 0.008*\"aged\" + 0.008*\"sub\" + 0.007*\"revaccinated\" + 0.007*\"birch\" + 0.005*\"houses\" + 0.004*\"census\"\n",
      "2018-09-04 22:47:01,994 : INFO : topic #2 (0.250): 0.014*\"sheffield\" + 0.010*\"cent\" + 0.006*\"smallpox\" + 0.006*\"unvaccinated\" + 0.004*\"sub\" + 0.004*\"revaccinated\" + 0.004*\"aged\" + 0.004*\"houses\" + 0.003*\"pitted\" + 0.003*\"census\"\n",
      "2018-09-04 22:47:01,994 : INFO : topic #3 (0.250): 0.013*\"sheffield\" + 0.011*\"cent\" + 0.005*\"aged\" + 0.005*\"borough\" + 0.005*\"unvaccinated\" + 0.005*\"sub\" + 0.005*\"revaccinated\" + 0.004*\"birch\" + 0.004*\"houses\" + 0.003*\"pitted\"\n",
      "2018-09-04 22:47:01,994 : INFO : topic diff=0.964971, rho=1.000000\n",
      "2018-09-04 22:47:02,757 : INFO : -8.409 per-word bound, 339.8 perplexity estimate based on a held-out corpus of 16 documents with 76562 words\n",
      "2018-09-04 22:47:02,761 : INFO : PROGRESS: pass 1, at document #16/16\n",
      "2018-09-04 22:47:02,817 : INFO : topic #0 (0.250): 0.008*\"sheffield\" + 0.006*\"cent\" + 0.006*\"red\" + 0.005*\"punctures\" + 0.005*\"smallpox\" + 0.004*\"marks\" + 0.003*\"aged\" + 0.003*\"row\" + 0.003*\"birch\" + 0.003*\"brown\"\n",
      "2018-09-04 22:47:02,821 : INFO : topic #1 (0.250): 0.033*\"sheffield\" + 0.031*\"cent\" + 0.016*\"unvaccinated\" + 0.013*\"borough\" + 0.011*\"aged\" + 0.011*\"revaccinated\" + 0.010*\"sub\" + 0.008*\"houses\" + 0.007*\"pitted\" + 0.007*\"census\"\n",
      "2018-09-04 22:47:02,821 : INFO : topic #2 (0.250): 0.011*\"smallpox\" + 0.006*\"sheffield\" + 0.005*\"cent\" + 0.003*\"unvaccinated\" + 0.003*\"cowpox\" + 0.002*\"vesicle\" + 0.002*\"sub\" + 0.002*\"cicatrices\" + 0.002*\"revaccinated\" + 0.002*\"opinions\"\n",
      "2018-09-04 22:47:02,821 : INFO : topic #3 (0.250): 0.007*\"birch\" + 0.006*\"sheffield\" + 0.006*\"cent\" + 0.002*\"sub\" + 0.002*\"unvaccinated\" + 0.002*\"revaccinated\" + 0.002*\"aged\" + 0.002*\"borough\" + 0.002*\"esq\" + 0.002*\"houses\"\n",
      "2018-09-04 22:47:02,821 : INFO : topic diff=0.438922, rho=0.577350\n",
      "2018-09-04 22:47:03,628 : INFO : -8.128 per-word bound, 279.7 perplexity estimate based on a held-out corpus of 16 documents with 76562 words\n",
      "2018-09-04 22:47:03,632 : INFO : PROGRESS: pass 2, at document #16/16\n",
      "2018-09-04 22:47:03,675 : INFO : topic #0 (0.250): 0.008*\"red\" + 0.008*\"punctures\" + 0.006*\"marks\" + 0.005*\"sheffield\" + 0.005*\"smallpox\" + 0.004*\"row\" + 0.004*\"brown\" + 0.004*\"cent\" + 0.004*\"fame\" + 0.004*\"pimples\"\n",
      "2018-09-04 22:47:03,675 : INFO : topic #1 (0.250): 0.041*\"sheffield\" + 0.036*\"cent\" + 0.019*\"unvaccinated\" + 0.015*\"borough\" + 0.014*\"aged\" + 0.013*\"revaccinated\" + 0.012*\"sub\" + 0.010*\"houses\" + 0.009*\"pitted\" + 0.008*\"census\"\n",
      "2018-09-04 22:47:03,679 : INFO : topic #2 (0.250): 0.014*\"smallpox\" + 0.003*\"cent\" + 0.003*\"cowpox\" + 0.003*\"sheffield\" + 0.003*\"vesicle\" + 0.002*\"virus\" + 0.002*\"opinions\" + 0.002*\"doctrine\" + 0.002*\"ditto\" + 0.002*\"protective\"\n",
      "2018-09-04 22:47:03,679 : INFO : topic #3 (0.250): 0.011*\"birch\" + 0.003*\"cent\" + 0.002*\"esq\" + 0.002*\"answer\" + 0.002*\"pamphlet\" + 0.002*\"physician\" + 0.002*\"sheffield\" + 0.002*\"jennerian\" + 0.002*\"committee\" + 0.002*\"moseley\"\n",
      "2018-09-04 22:47:03,679 : INFO : topic diff=0.410366, rho=0.500000\n",
      "2018-09-04 22:47:04,446 : INFO : -7.974 per-word bound, 251.4 perplexity estimate based on a held-out corpus of 16 documents with 76562 words\n",
      "2018-09-04 22:47:04,446 : INFO : PROGRESS: pass 3, at document #16/16\n",
      "2018-09-04 22:47:04,486 : INFO : topic #0 (0.250): 0.010*\"red\" + 0.009*\"punctures\" + 0.007*\"marks\" + 0.005*\"row\" + 0.005*\"smallpox\" + 0.005*\"brown\" + 0.005*\"fame\" + 0.004*\"pimples\" + 0.004*\"areola\" + 0.004*\"cafes\"\n",
      "2018-09-04 22:47:04,486 : INFO : topic #1 (0.250): 0.045*\"sheffield\" + 0.039*\"cent\" + 0.020*\"unvaccinated\" + 0.016*\"borough\" + 0.015*\"aged\" + 0.014*\"revaccinated\" + 0.013*\"sub\" + 0.011*\"houses\" + 0.010*\"pitted\" + 0.009*\"census\"\n",
      "2018-09-04 22:47:04,490 : INFO : topic #2 (0.250): 0.015*\"smallpox\" + 0.004*\"cowpox\" + 0.003*\"vesicle\" + 0.003*\"virus\" + 0.003*\"opinions\" + 0.003*\"cent\" + 0.002*\"doctrine\" + 0.002*\"ditto\" + 0.002*\"protective\" + 0.002*\"specific\"\n",
      "2018-09-04 22:47:04,490 : INFO : topic #3 (0.250): 0.012*\"birch\" + 0.003*\"esq\" + 0.003*\"answer\" + 0.002*\"pamphlet\" + 0.002*\"physician\" + 0.002*\"jennerian\" + 0.002*\"moseley\" + 0.002*\"cent\" + 0.002*\"committee\" + 0.002*\"failures\"\n",
      "2018-09-04 22:47:04,490 : INFO : topic diff=0.290808, rho=0.447214\n",
      "2018-09-04 22:47:05,229 : INFO : -7.916 per-word bound, 241.6 perplexity estimate based on a held-out corpus of 16 documents with 76562 words\n",
      "2018-09-04 22:47:05,233 : INFO : PROGRESS: pass 4, at document #16/16\n",
      "2018-09-04 22:47:05,273 : INFO : topic #0 (0.250): 0.011*\"red\" + 0.010*\"punctures\" + 0.007*\"marks\" + 0.006*\"row\" + 0.005*\"brown\" + 0.005*\"fame\" + 0.005*\"smallpox\" + 0.005*\"pimples\" + 0.005*\"areola\" + 0.005*\"cafes\"\n",
      "2018-09-04 22:47:05,273 : INFO : topic #1 (0.250): 0.047*\"sheffield\" + 0.041*\"cent\" + 0.021*\"unvaccinated\" + 0.017*\"borough\" + 0.015*\"aged\" + 0.015*\"revaccinated\" + 0.014*\"sub\" + 0.011*\"houses\" + 0.010*\"pitted\" + 0.009*\"census\"\n",
      "2018-09-04 22:47:05,277 : INFO : topic #2 (0.250): 0.016*\"smallpox\" + 0.004*\"cowpox\" + 0.003*\"vesicle\" + 0.003*\"virus\" + 0.003*\"opinions\" + 0.003*\"doctrine\" + 0.003*\"protective\" + 0.002*\"ditto\" + 0.002*\"specific\" + 0.002*\"modified\"\n",
      "2018-09-04 22:47:05,277 : INFO : topic #3 (0.250): 0.013*\"birch\" + 0.003*\"answer\" + 0.003*\"esq\" + 0.003*\"pamphlet\" + 0.002*\"physician\" + 0.002*\"jennerian\" + 0.002*\"moseley\" + 0.002*\"failures\" + 0.002*\"ring\" + 0.002*\"committee\"\n",
      "2018-09-04 22:47:05,277 : INFO : topic diff=0.221959, rho=0.408248\n",
      "2018-09-04 22:47:06,148 : INFO : -7.888 per-word bound, 236.8 perplexity estimate based on a held-out corpus of 16 documents with 76562 words\n",
      "2018-09-04 22:47:06,148 : INFO : PROGRESS: pass 5, at document #16/16\n",
      "2018-09-04 22:47:06,192 : INFO : topic #0 (0.250): 0.012*\"red\" + 0.011*\"punctures\" + 0.008*\"marks\" + 0.006*\"row\" + 0.006*\"brown\" + 0.006*\"fame\" + 0.005*\"smallpox\" + 0.005*\"pimples\" + 0.005*\"areola\" + 0.005*\"cafes\"\n",
      "2018-09-04 22:47:06,192 : INFO : topic #1 (0.250): 0.048*\"sheffield\" + 0.042*\"cent\" + 0.022*\"unvaccinated\" + 0.017*\"borough\" + 0.016*\"aged\" + 0.015*\"revaccinated\" + 0.014*\"sub\" + 0.012*\"houses\" + 0.011*\"pitted\" + 0.010*\"census\"\n",
      "2018-09-04 22:47:06,196 : INFO : topic #2 (0.250): 0.016*\"smallpox\" + 0.004*\"cowpox\" + 0.003*\"vesicle\" + 0.003*\"virus\" + 0.003*\"opinions\" + 0.003*\"protective\" + 0.003*\"doctrine\" + 0.003*\"ditto\" + 0.002*\"specific\" + 0.002*\"modified\"\n",
      "2018-09-04 22:47:06,196 : INFO : topic #3 (0.250): 0.013*\"birch\" + 0.003*\"answer\" + 0.003*\"esq\" + 0.003*\"pamphlet\" + 0.002*\"physician\" + 0.002*\"jennerian\" + 0.002*\"moseley\" + 0.002*\"failures\" + 0.002*\"ring\" + 0.002*\"committee\"\n",
      "2018-09-04 22:47:06,200 : INFO : topic diff=0.170276, rho=0.377964\n",
      "2018-09-04 22:47:07,031 : INFO : -7.871 per-word bound, 234.2 perplexity estimate based on a held-out corpus of 16 documents with 76562 words\n",
      "2018-09-04 22:47:07,035 : INFO : PROGRESS: pass 6, at document #16/16\n",
      "2018-09-04 22:47:07,075 : INFO : topic #0 (0.250): 0.012*\"red\" + 0.011*\"punctures\" + 0.008*\"marks\" + 0.006*\"row\" + 0.006*\"brown\" + 0.006*\"fame\" + 0.005*\"cafes\" + 0.005*\"smallpox\" + 0.005*\"pimples\" + 0.005*\"areola\"\n",
      "2018-09-04 22:47:07,075 : INFO : topic #1 (0.250): 0.049*\"sheffield\" + 0.043*\"cent\" + 0.022*\"unvaccinated\" + 0.018*\"borough\" + 0.016*\"aged\" + 0.016*\"revaccinated\" + 0.014*\"sub\" + 0.012*\"houses\" + 0.011*\"pitted\" + 0.010*\"census\"\n",
      "2018-09-04 22:47:07,075 : INFO : topic #2 (0.250): 0.017*\"smallpox\" + 0.004*\"cowpox\" + 0.003*\"vesicle\" + 0.003*\"protective\" + 0.003*\"virus\" + 0.003*\"opinions\" + 0.003*\"doctrine\" + 0.003*\"modified\" + 0.003*\"ditto\" + 0.002*\"specific\"\n",
      "2018-09-04 22:47:07,079 : INFO : topic #3 (0.250): 0.013*\"birch\" + 0.003*\"answer\" + 0.003*\"esq\" + 0.003*\"pamphlet\" + 0.002*\"physician\" + 0.002*\"jennerian\" + 0.002*\"moseley\" + 0.002*\"failures\" + 0.002*\"ring\" + 0.002*\"committee\"\n"
     ]
    },
    {
     "name": "stderr",
     "output_type": "stream",
     "text": [
      "2018-09-04 22:47:07,079 : INFO : topic diff=0.130925, rho=0.353553\n",
      "2018-09-04 22:47:07,838 : INFO : -7.862 per-word bound, 232.6 perplexity estimate based on a held-out corpus of 16 documents with 76562 words\n",
      "2018-09-04 22:47:07,838 : INFO : PROGRESS: pass 7, at document #16/16\n",
      "2018-09-04 22:47:07,886 : INFO : topic #0 (0.250): 0.012*\"red\" + 0.012*\"punctures\" + 0.008*\"marks\" + 0.006*\"row\" + 0.006*\"fame\" + 0.006*\"brown\" + 0.005*\"cafes\" + 0.005*\"pimples\" + 0.005*\"areola\" + 0.005*\"smallpox\"\n",
      "2018-09-04 22:47:07,890 : INFO : topic #1 (0.250): 0.049*\"sheffield\" + 0.043*\"cent\" + 0.022*\"unvaccinated\" + 0.018*\"borough\" + 0.016*\"revaccinated\" + 0.016*\"aged\" + 0.014*\"sub\" + 0.012*\"houses\" + 0.011*\"pitted\" + 0.010*\"census\"\n",
      "2018-09-04 22:47:07,890 : INFO : topic #2 (0.250): 0.017*\"smallpox\" + 0.004*\"cowpox\" + 0.003*\"vesicle\" + 0.003*\"protective\" + 0.003*\"virus\" + 0.003*\"opinions\" + 0.003*\"modified\" + 0.003*\"doctrine\" + 0.003*\"ditto\" + 0.002*\"specific\"\n",
      "2018-09-04 22:47:07,890 : INFO : topic #3 (0.250): 0.013*\"birch\" + 0.003*\"answer\" + 0.003*\"esq\" + 0.003*\"pamphlet\" + 0.002*\"physician\" + 0.002*\"jennerian\" + 0.002*\"moseley\" + 0.002*\"failures\" + 0.002*\"ring\" + 0.002*\"committee\"\n",
      "2018-09-04 22:47:07,890 : INFO : topic diff=0.101309, rho=0.333333\n",
      "2018-09-04 22:47:08,631 : INFO : -7.855 per-word bound, 231.6 perplexity estimate based on a held-out corpus of 16 documents with 76562 words\n",
      "2018-09-04 22:47:08,631 : INFO : PROGRESS: pass 8, at document #16/16\n",
      "2018-09-04 22:47:08,675 : INFO : topic #0 (0.250): 0.013*\"red\" + 0.012*\"punctures\" + 0.008*\"marks\" + 0.006*\"row\" + 0.006*\"fame\" + 0.006*\"brown\" + 0.006*\"cafes\" + 0.005*\"pimples\" + 0.005*\"areola\" + 0.005*\"smallpox\"\n",
      "2018-09-04 22:47:08,675 : INFO : topic #1 (0.250): 0.049*\"sheffield\" + 0.043*\"cent\" + 0.022*\"unvaccinated\" + 0.018*\"borough\" + 0.016*\"revaccinated\" + 0.016*\"aged\" + 0.014*\"sub\" + 0.012*\"houses\" + 0.011*\"pitted\" + 0.010*\"census\"\n",
      "2018-09-04 22:47:08,679 : INFO : topic #2 (0.250): 0.017*\"smallpox\" + 0.004*\"cowpox\" + 0.003*\"vesicle\" + 0.003*\"protective\" + 0.003*\"virus\" + 0.003*\"modified\" + 0.003*\"opinions\" + 0.003*\"doctrine\" + 0.003*\"ditto\" + 0.002*\"specific\"\n",
      "2018-09-04 22:47:08,679 : INFO : topic #3 (0.250): 0.013*\"birch\" + 0.003*\"answer\" + 0.003*\"esq\" + 0.003*\"pamphlet\" + 0.002*\"physician\" + 0.002*\"jennerian\" + 0.002*\"moseley\" + 0.002*\"failures\" + 0.002*\"ring\" + 0.002*\"committee\"\n",
      "2018-09-04 22:47:08,679 : INFO : topic diff=0.079117, rho=0.316228\n",
      "2018-09-04 22:47:09,418 : INFO : -7.851 per-word bound, 230.9 perplexity estimate based on a held-out corpus of 16 documents with 76562 words\n",
      "2018-09-04 22:47:09,418 : INFO : PROGRESS: pass 9, at document #16/16\n",
      "2018-09-04 22:47:09,458 : INFO : topic #0 (0.250): 0.013*\"red\" + 0.012*\"punctures\" + 0.009*\"marks\" + 0.007*\"fame\" + 0.007*\"row\" + 0.006*\"brown\" + 0.006*\"cafes\" + 0.005*\"pimples\" + 0.005*\"areola\" + 0.005*\"smallpox\"\n",
      "2018-09-04 22:47:09,458 : INFO : topic #1 (0.250): 0.049*\"sheffield\" + 0.044*\"cent\" + 0.022*\"unvaccinated\" + 0.018*\"borough\" + 0.016*\"revaccinated\" + 0.016*\"aged\" + 0.014*\"sub\" + 0.012*\"houses\" + 0.011*\"pitted\" + 0.010*\"census\"\n",
      "2018-09-04 22:47:09,458 : INFO : topic #2 (0.250): 0.017*\"smallpox\" + 0.004*\"cowpox\" + 0.003*\"protective\" + 0.003*\"vesicle\" + 0.003*\"modified\" + 0.003*\"virus\" + 0.003*\"opinions\" + 0.003*\"doctrine\" + 0.003*\"ditto\" + 0.002*\"specific\"\n",
      "2018-09-04 22:47:09,462 : INFO : topic #3 (0.250): 0.013*\"birch\" + 0.003*\"answer\" + 0.003*\"esq\" + 0.003*\"pamphlet\" + 0.002*\"physician\" + 0.002*\"jennerian\" + 0.002*\"moseley\" + 0.002*\"failures\" + 0.002*\"ring\" + 0.002*\"committee\"\n",
      "2018-09-04 22:47:09,462 : INFO : topic diff=0.062528, rho=0.301511\n",
      "2018-09-04 22:47:10,241 : INFO : -7.848 per-word bound, 230.4 perplexity estimate based on a held-out corpus of 16 documents with 76562 words\n",
      "2018-09-04 22:47:10,241 : INFO : PROGRESS: pass 10, at document #16/16\n",
      "2018-09-04 22:47:10,281 : INFO : topic #0 (0.250): 0.013*\"red\" + 0.012*\"punctures\" + 0.009*\"marks\" + 0.007*\"fame\" + 0.007*\"row\" + 0.006*\"brown\" + 0.006*\"cafes\" + 0.006*\"pimples\" + 0.005*\"areola\" + 0.005*\"smallpox\"\n",
      "2018-09-04 22:47:10,281 : INFO : topic #1 (0.250): 0.049*\"sheffield\" + 0.044*\"cent\" + 0.022*\"unvaccinated\" + 0.018*\"borough\" + 0.016*\"revaccinated\" + 0.016*\"aged\" + 0.014*\"sub\" + 0.012*\"houses\" + 0.011*\"pitted\" + 0.010*\"census\"\n",
      "2018-09-04 22:47:10,285 : INFO : topic #2 (0.250): 0.017*\"smallpox\" + 0.004*\"cowpox\" + 0.004*\"protective\" + 0.003*\"modified\" + 0.003*\"vesicle\" + 0.003*\"virus\" + 0.003*\"opinions\" + 0.003*\"doctrine\" + 0.003*\"ditto\" + 0.002*\"specific\"\n",
      "2018-09-04 22:47:10,285 : INFO : topic #3 (0.250): 0.013*\"birch\" + 0.003*\"answer\" + 0.003*\"esq\" + 0.003*\"pamphlet\" + 0.002*\"physician\" + 0.002*\"jennerian\" + 0.002*\"moseley\" + 0.002*\"failures\" + 0.002*\"ring\" + 0.002*\"committee\"\n",
      "2018-09-04 22:47:10,285 : INFO : topic diff=0.050082, rho=0.288675\n",
      "2018-09-04 22:47:11,052 : INFO : -7.845 per-word bound, 230.0 perplexity estimate based on a held-out corpus of 16 documents with 76562 words\n",
      "2018-09-04 22:47:11,052 : INFO : PROGRESS: pass 11, at document #16/16\n",
      "2018-09-04 22:47:11,096 : INFO : topic #0 (0.250): 0.013*\"red\" + 0.012*\"punctures\" + 0.009*\"marks\" + 0.007*\"fame\" + 0.007*\"row\" + 0.006*\"brown\" + 0.006*\"cafes\" + 0.006*\"pimples\" + 0.006*\"areola\" + 0.005*\"smallpox\"\n",
      "2018-09-04 22:47:11,096 : INFO : topic #1 (0.250): 0.049*\"sheffield\" + 0.044*\"cent\" + 0.022*\"unvaccinated\" + 0.018*\"borough\" + 0.016*\"revaccinated\" + 0.016*\"aged\" + 0.014*\"sub\" + 0.012*\"houses\" + 0.011*\"pitted\" + 0.010*\"census\"\n",
      "2018-09-04 22:47:11,096 : INFO : topic #2 (0.250): 0.017*\"smallpox\" + 0.004*\"cowpox\" + 0.004*\"modified\" + 0.004*\"protective\" + 0.003*\"vesicle\" + 0.003*\"virus\" + 0.003*\"opinions\" + 0.003*\"doctrine\" + 0.003*\"ditto\" + 0.002*\"specific\"\n",
      "2018-09-04 22:47:11,100 : INFO : topic #3 (0.250): 0.013*\"birch\" + 0.003*\"answer\" + 0.003*\"esq\" + 0.003*\"pamphlet\" + 0.002*\"physician\" + 0.002*\"jennerian\" + 0.002*\"moseley\" + 0.002*\"failures\" + 0.002*\"ring\" + 0.002*\"committee\"\n",
      "2018-09-04 22:47:11,100 : INFO : topic diff=0.040681, rho=0.277350\n",
      "2018-09-04 22:47:11,895 : INFO : -7.843 per-word bound, 229.7 perplexity estimate based on a held-out corpus of 16 documents with 76562 words\n",
      "2018-09-04 22:47:11,895 : INFO : PROGRESS: pass 12, at document #16/16\n",
      "2018-09-04 22:47:11,939 : INFO : topic #0 (0.250): 0.013*\"red\" + 0.012*\"punctures\" + 0.009*\"marks\" + 0.007*\"fame\" + 0.007*\"row\" + 0.007*\"brown\" + 0.006*\"cafes\" + 0.006*\"pimples\" + 0.006*\"areola\" + 0.005*\"smallpox\"\n",
      "2018-09-04 22:47:11,943 : INFO : topic #1 (0.250): 0.049*\"sheffield\" + 0.044*\"cent\" + 0.022*\"unvaccinated\" + 0.018*\"borough\" + 0.016*\"revaccinated\" + 0.016*\"aged\" + 0.014*\"sub\" + 0.012*\"houses\" + 0.011*\"pitted\" + 0.010*\"census\"\n",
      "2018-09-04 22:47:11,943 : INFO : topic #2 (0.250): 0.017*\"smallpox\" + 0.004*\"cowpox\" + 0.004*\"modified\" + 0.004*\"protective\" + 0.003*\"vesicle\" + 0.003*\"virus\" + 0.003*\"opinions\" + 0.003*\"doctrine\" + 0.003*\"ditto\" + 0.002*\"specific\"\n",
      "2018-09-04 22:47:11,947 : INFO : topic #3 (0.250): 0.013*\"birch\" + 0.003*\"answer\" + 0.003*\"esq\" + 0.003*\"pamphlet\" + 0.002*\"physician\" + 0.002*\"jennerian\" + 0.002*\"moseley\" + 0.002*\"failures\" + 0.002*\"committee\" + 0.002*\"ring\"\n",
      "2018-09-04 22:47:11,947 : INFO : topic diff=0.033521, rho=0.267261\n",
      "2018-09-04 22:47:12,690 : INFO : -7.842 per-word bound, 229.4 perplexity estimate based on a held-out corpus of 16 documents with 76562 words\n",
      "2018-09-04 22:47:12,690 : INFO : PROGRESS: pass 13, at document #16/16\n",
      "2018-09-04 22:47:12,726 : INFO : topic #0 (0.250): 0.013*\"red\" + 0.012*\"punctures\" + 0.009*\"marks\" + 0.007*\"fame\" + 0.007*\"row\" + 0.007*\"brown\" + 0.006*\"cafes\" + 0.006*\"pimples\" + 0.006*\"areola\" + 0.005*\"smallpox\"\n",
      "2018-09-04 22:47:12,726 : INFO : topic #1 (0.250): 0.049*\"sheffield\" + 0.044*\"cent\" + 0.022*\"unvaccinated\" + 0.018*\"borough\" + 0.016*\"revaccinated\" + 0.016*\"aged\" + 0.014*\"sub\" + 0.012*\"houses\" + 0.011*\"pitted\" + 0.010*\"census\"\n",
      "2018-09-04 22:47:12,730 : INFO : topic #2 (0.250): 0.017*\"smallpox\" + 0.004*\"modified\" + 0.004*\"cowpox\" + 0.004*\"protective\" + 0.004*\"vesicle\" + 0.003*\"virus\" + 0.003*\"opinions\" + 0.003*\"doctrine\" + 0.003*\"ditto\" + 0.002*\"specific\"\n",
      "2018-09-04 22:47:12,730 : INFO : topic #3 (0.250): 0.013*\"birch\" + 0.003*\"answer\" + 0.003*\"pamphlet\" + 0.003*\"esq\" + 0.002*\"physician\" + 0.002*\"jennerian\" + 0.002*\"moseley\" + 0.002*\"failures\" + 0.002*\"committee\" + 0.002*\"ring\"\n"
     ]
    },
    {
     "name": "stderr",
     "output_type": "stream",
     "text": [
      "2018-09-04 22:47:12,730 : INFO : topic diff=0.028048, rho=0.258199\n",
      "2018-09-04 22:47:13,473 : INFO : -7.840 per-word bound, 229.2 perplexity estimate based on a held-out corpus of 16 documents with 76562 words\n",
      "2018-09-04 22:47:13,473 : INFO : PROGRESS: pass 14, at document #16/16\n",
      "2018-09-04 22:47:13,513 : INFO : topic #0 (0.250): 0.013*\"red\" + 0.012*\"punctures\" + 0.009*\"marks\" + 0.007*\"fame\" + 0.007*\"row\" + 0.007*\"brown\" + 0.006*\"cafes\" + 0.006*\"pimples\" + 0.006*\"areola\" + 0.005*\"smallpox\"\n",
      "2018-09-04 22:47:13,513 : INFO : topic #1 (0.250): 0.049*\"sheffield\" + 0.044*\"cent\" + 0.022*\"unvaccinated\" + 0.018*\"borough\" + 0.016*\"revaccinated\" + 0.016*\"aged\" + 0.014*\"sub\" + 0.012*\"houses\" + 0.011*\"pitted\" + 0.010*\"census\"\n",
      "2018-09-04 22:47:13,513 : INFO : topic #2 (0.250): 0.017*\"smallpox\" + 0.004*\"modified\" + 0.004*\"cowpox\" + 0.004*\"protective\" + 0.004*\"vesicle\" + 0.003*\"virus\" + 0.003*\"opinions\" + 0.003*\"doctrine\" + 0.003*\"ditto\" + 0.002*\"specific\"\n",
      "2018-09-04 22:47:13,517 : INFO : topic #3 (0.250): 0.013*\"birch\" + 0.003*\"answer\" + 0.003*\"pamphlet\" + 0.003*\"esq\" + 0.002*\"physician\" + 0.002*\"jennerian\" + 0.002*\"moseley\" + 0.002*\"committee\" + 0.002*\"failures\" + 0.002*\"ring\"\n",
      "2018-09-04 22:47:13,517 : INFO : topic diff=0.023818, rho=0.250000\n",
      "2018-09-04 22:47:14,272 : INFO : -7.839 per-word bound, 229.0 perplexity estimate based on a held-out corpus of 16 documents with 76562 words\n",
      "2018-09-04 22:47:14,272 : INFO : PROGRESS: pass 15, at document #16/16\n",
      "2018-09-04 22:47:14,308 : INFO : topic #0 (0.250): 0.013*\"red\" + 0.012*\"punctures\" + 0.009*\"marks\" + 0.007*\"fame\" + 0.007*\"row\" + 0.007*\"brown\" + 0.006*\"cafes\" + 0.006*\"pimples\" + 0.006*\"areola\" + 0.005*\"smallpox\"\n",
      "2018-09-04 22:47:14,312 : INFO : topic #1 (0.250): 0.049*\"sheffield\" + 0.044*\"cent\" + 0.022*\"unvaccinated\" + 0.018*\"borough\" + 0.016*\"revaccinated\" + 0.016*\"aged\" + 0.014*\"sub\" + 0.012*\"houses\" + 0.011*\"pitted\" + 0.010*\"census\"\n",
      "2018-09-04 22:47:14,312 : INFO : topic #2 (0.250): 0.016*\"smallpox\" + 0.004*\"modified\" + 0.004*\"cowpox\" + 0.004*\"protective\" + 0.004*\"vesicle\" + 0.003*\"virus\" + 0.003*\"opinions\" + 0.003*\"doctrine\" + 0.002*\"ditto\" + 0.002*\"specific\"\n",
      "2018-09-04 22:47:14,312 : INFO : topic #3 (0.250): 0.013*\"birch\" + 0.003*\"answer\" + 0.003*\"pamphlet\" + 0.003*\"esq\" + 0.002*\"physician\" + 0.002*\"jennerian\" + 0.002*\"moseley\" + 0.002*\"committee\" + 0.002*\"failures\" + 0.002*\"ring\"\n",
      "2018-09-04 22:47:14,316 : INFO : topic diff=0.020510, rho=0.242536\n",
      "2018-09-04 22:47:15,051 : INFO : -7.838 per-word bound, 228.8 perplexity estimate based on a held-out corpus of 16 documents with 76562 words\n",
      "2018-09-04 22:47:15,051 : INFO : PROGRESS: pass 16, at document #16/16\n",
      "2018-09-04 22:47:15,087 : INFO : topic #0 (0.250): 0.013*\"red\" + 0.012*\"punctures\" + 0.009*\"marks\" + 0.007*\"fame\" + 0.007*\"row\" + 0.007*\"brown\" + 0.006*\"cafes\" + 0.006*\"pimples\" + 0.006*\"areola\" + 0.005*\"smallpox\"\n",
      "2018-09-04 22:47:15,091 : INFO : topic #1 (0.250): 0.049*\"sheffield\" + 0.044*\"cent\" + 0.022*\"unvaccinated\" + 0.018*\"borough\" + 0.016*\"revaccinated\" + 0.016*\"aged\" + 0.014*\"sub\" + 0.012*\"houses\" + 0.011*\"pitted\" + 0.010*\"census\"\n",
      "2018-09-04 22:47:15,091 : INFO : topic #2 (0.250): 0.016*\"smallpox\" + 0.004*\"modified\" + 0.004*\"cowpox\" + 0.004*\"protective\" + 0.004*\"vesicle\" + 0.003*\"virus\" + 0.003*\"opinions\" + 0.003*\"doctrine\" + 0.002*\"ditto\" + 0.002*\"specific\"\n",
      "2018-09-04 22:47:15,091 : INFO : topic #3 (0.250): 0.013*\"birch\" + 0.003*\"answer\" + 0.003*\"pamphlet\" + 0.003*\"esq\" + 0.002*\"physician\" + 0.002*\"jennerian\" + 0.002*\"committee\" + 0.002*\"moseley\" + 0.002*\"failures\" + 0.002*\"ring\"\n",
      "2018-09-04 22:47:15,091 : INFO : topic diff=0.017872, rho=0.235702\n",
      "2018-09-04 22:47:15,838 : INFO : -7.837 per-word bound, 228.6 perplexity estimate based on a held-out corpus of 16 documents with 76562 words\n",
      "2018-09-04 22:47:15,842 : INFO : PROGRESS: pass 17, at document #16/16\n",
      "2018-09-04 22:47:15,877 : INFO : topic #0 (0.250): 0.013*\"red\" + 0.012*\"punctures\" + 0.009*\"marks\" + 0.007*\"fame\" + 0.007*\"row\" + 0.007*\"brown\" + 0.006*\"cafes\" + 0.006*\"pimples\" + 0.006*\"areola\" + 0.005*\"smallpox\"\n",
      "2018-09-04 22:47:15,877 : INFO : topic #1 (0.250): 0.049*\"sheffield\" + 0.044*\"cent\" + 0.022*\"unvaccinated\" + 0.018*\"borough\" + 0.016*\"revaccinated\" + 0.016*\"aged\" + 0.014*\"sub\" + 0.012*\"houses\" + 0.011*\"pitted\" + 0.010*\"census\"\n",
      "2018-09-04 22:47:15,881 : INFO : topic #2 (0.250): 0.016*\"smallpox\" + 0.004*\"modified\" + 0.004*\"cowpox\" + 0.004*\"protective\" + 0.004*\"vesicle\" + 0.003*\"virus\" + 0.003*\"opinions\" + 0.003*\"doctrine\" + 0.002*\"ditto\" + 0.002*\"specific\"\n",
      "2018-09-04 22:47:15,881 : INFO : topic #3 (0.250): 0.014*\"birch\" + 0.003*\"answer\" + 0.003*\"pamphlet\" + 0.003*\"esq\" + 0.002*\"physician\" + 0.002*\"jennerian\" + 0.002*\"committee\" + 0.002*\"moseley\" + 0.002*\"failures\" + 0.002*\"ring\"\n",
      "2018-09-04 22:47:15,881 : INFO : topic diff=0.015732, rho=0.229416\n",
      "2018-09-04 22:47:16,609 : INFO : -7.836 per-word bound, 228.5 perplexity estimate based on a held-out corpus of 16 documents with 76562 words\n",
      "2018-09-04 22:47:16,609 : INFO : PROGRESS: pass 18, at document #16/16\n",
      "2018-09-04 22:47:16,644 : INFO : topic #0 (0.250): 0.013*\"red\" + 0.012*\"punctures\" + 0.009*\"marks\" + 0.007*\"fame\" + 0.007*\"row\" + 0.007*\"brown\" + 0.006*\"cafes\" + 0.006*\"pimples\" + 0.006*\"areola\" + 0.005*\"smallpox\"\n",
      "2018-09-04 22:47:16,648 : INFO : topic #1 (0.250): 0.049*\"sheffield\" + 0.044*\"cent\" + 0.022*\"unvaccinated\" + 0.018*\"borough\" + 0.016*\"revaccinated\" + 0.016*\"aged\" + 0.014*\"sub\" + 0.012*\"houses\" + 0.011*\"pitted\" + 0.010*\"census\"\n",
      "2018-09-04 22:47:16,648 : INFO : topic #2 (0.250): 0.016*\"smallpox\" + 0.005*\"modified\" + 0.004*\"cowpox\" + 0.004*\"protective\" + 0.004*\"vesicle\" + 0.003*\"virus\" + 0.003*\"opinions\" + 0.003*\"doctrine\" + 0.002*\"ditto\" + 0.002*\"specific\"\n",
      "2018-09-04 22:47:16,648 : INFO : topic #3 (0.250): 0.014*\"birch\" + 0.003*\"answer\" + 0.003*\"pamphlet\" + 0.003*\"esq\" + 0.002*\"physician\" + 0.002*\"jennerian\" + 0.002*\"committee\" + 0.002*\"moseley\" + 0.002*\"failures\" + 0.002*\"ring\"\n",
      "2018-09-04 22:47:16,652 : INFO : topic diff=0.013970, rho=0.223607\n",
      "2018-09-04 22:47:17,395 : INFO : -7.835 per-word bound, 228.3 perplexity estimate based on a held-out corpus of 16 documents with 76562 words\n",
      "2018-09-04 22:47:17,399 : INFO : PROGRESS: pass 19, at document #16/16\n",
      "2018-09-04 22:47:17,435 : INFO : topic #0 (0.250): 0.013*\"red\" + 0.012*\"punctures\" + 0.009*\"marks\" + 0.007*\"fame\" + 0.007*\"row\" + 0.007*\"brown\" + 0.006*\"cafes\" + 0.006*\"pimples\" + 0.006*\"areola\" + 0.005*\"smallpox\"\n",
      "2018-09-04 22:47:17,435 : INFO : topic #1 (0.250): 0.049*\"sheffield\" + 0.044*\"cent\" + 0.022*\"unvaccinated\" + 0.018*\"borough\" + 0.016*\"revaccinated\" + 0.016*\"aged\" + 0.014*\"sub\" + 0.012*\"houses\" + 0.011*\"pitted\" + 0.010*\"census\"\n",
      "2018-09-04 22:47:17,435 : INFO : topic #2 (0.250): 0.016*\"smallpox\" + 0.005*\"modified\" + 0.004*\"cowpox\" + 0.004*\"protective\" + 0.004*\"vesicle\" + 0.003*\"virus\" + 0.003*\"opinions\" + 0.003*\"doctrine\" + 0.002*\"ditto\" + 0.002*\"specific\"\n",
      "2018-09-04 22:47:17,439 : INFO : topic #3 (0.250): 0.014*\"birch\" + 0.003*\"answer\" + 0.003*\"pamphlet\" + 0.003*\"esq\" + 0.002*\"physician\" + 0.002*\"jennerian\" + 0.002*\"committee\" + 0.002*\"moseley\" + 0.002*\"failures\" + 0.002*\"ring\"\n",
      "2018-09-04 22:47:17,439 : INFO : topic diff=0.012505, rho=0.218218\n",
      "2018-09-04 22:47:18,194 : INFO : -7.834 per-word bound, 228.2 perplexity estimate based on a held-out corpus of 16 documents with 76562 words\n",
      "2018-09-04 22:47:18,194 : INFO : PROGRESS: pass 20, at document #16/16\n",
      "2018-09-04 22:47:18,226 : INFO : topic #0 (0.250): 0.013*\"red\" + 0.012*\"punctures\" + 0.009*\"marks\" + 0.007*\"fame\" + 0.007*\"row\" + 0.007*\"brown\" + 0.006*\"cafes\" + 0.006*\"pimples\" + 0.006*\"areola\" + 0.005*\"smallpox\"\n",
      "2018-09-04 22:47:18,230 : INFO : topic #1 (0.250): 0.049*\"sheffield\" + 0.044*\"cent\" + 0.022*\"unvaccinated\" + 0.018*\"borough\" + 0.016*\"revaccinated\" + 0.016*\"aged\" + 0.014*\"sub\" + 0.012*\"houses\" + 0.011*\"pitted\" + 0.010*\"census\"\n",
      "2018-09-04 22:47:18,230 : INFO : topic #2 (0.250): 0.016*\"smallpox\" + 0.005*\"modified\" + 0.004*\"protective\" + 0.004*\"cowpox\" + 0.004*\"vesicle\" + 0.003*\"virus\" + 0.003*\"opinions\" + 0.003*\"doctrine\" + 0.002*\"ditto\" + 0.002*\"specific\"\n",
      "2018-09-04 22:47:18,230 : INFO : topic #3 (0.250): 0.014*\"birch\" + 0.003*\"answer\" + 0.003*\"pamphlet\" + 0.003*\"esq\" + 0.002*\"physician\" + 0.002*\"jennerian\" + 0.002*\"committee\" + 0.002*\"moseley\" + 0.002*\"failures\" + 0.002*\"ring\"\n"
     ]
    },
    {
     "name": "stderr",
     "output_type": "stream",
     "text": [
      "2018-09-04 22:47:18,234 : INFO : topic diff=0.011274, rho=0.213201\n",
      "2018-09-04 22:47:18,973 : INFO : -7.833 per-word bound, 228.1 perplexity estimate based on a held-out corpus of 16 documents with 76562 words\n",
      "2018-09-04 22:47:18,973 : INFO : PROGRESS: pass 21, at document #16/16\n",
      "2018-09-04 22:47:19,013 : INFO : topic #0 (0.250): 0.013*\"red\" + 0.012*\"punctures\" + 0.009*\"marks\" + 0.007*\"fame\" + 0.007*\"row\" + 0.007*\"brown\" + 0.006*\"cafes\" + 0.006*\"pimples\" + 0.006*\"areola\" + 0.005*\"smallpox\"\n",
      "2018-09-04 22:47:19,013 : INFO : topic #1 (0.250): 0.049*\"sheffield\" + 0.044*\"cent\" + 0.022*\"unvaccinated\" + 0.018*\"borough\" + 0.016*\"revaccinated\" + 0.016*\"aged\" + 0.014*\"sub\" + 0.012*\"houses\" + 0.011*\"pitted\" + 0.010*\"census\"\n",
      "2018-09-04 22:47:19,013 : INFO : topic #2 (0.250): 0.016*\"smallpox\" + 0.005*\"modified\" + 0.004*\"protective\" + 0.004*\"cowpox\" + 0.004*\"vesicle\" + 0.003*\"virus\" + 0.003*\"doctrine\" + 0.003*\"opinions\" + 0.002*\"ditto\" + 0.002*\"specific\"\n",
      "2018-09-04 22:47:19,017 : INFO : topic #3 (0.250): 0.014*\"birch\" + 0.003*\"answer\" + 0.003*\"pamphlet\" + 0.003*\"esq\" + 0.002*\"physician\" + 0.002*\"jennerian\" + 0.002*\"committee\" + 0.002*\"moseley\" + 0.002*\"failures\" + 0.002*\"ring\"\n",
      "2018-09-04 22:47:19,017 : INFO : topic diff=0.010234, rho=0.208514\n",
      "2018-09-04 22:47:19,764 : INFO : -7.833 per-word bound, 228.0 perplexity estimate based on a held-out corpus of 16 documents with 76562 words\n",
      "2018-09-04 22:47:19,764 : INFO : PROGRESS: pass 22, at document #16/16\n",
      "2018-09-04 22:47:19,808 : INFO : topic #0 (0.250): 0.013*\"red\" + 0.012*\"punctures\" + 0.009*\"marks\" + 0.007*\"fame\" + 0.007*\"row\" + 0.007*\"brown\" + 0.006*\"cafes\" + 0.006*\"pimples\" + 0.006*\"areola\" + 0.005*\"smallpox\"\n",
      "2018-09-04 22:47:19,808 : INFO : topic #1 (0.250): 0.049*\"sheffield\" + 0.044*\"cent\" + 0.022*\"unvaccinated\" + 0.018*\"borough\" + 0.016*\"revaccinated\" + 0.016*\"aged\" + 0.014*\"sub\" + 0.012*\"houses\" + 0.011*\"pitted\" + 0.010*\"census\"\n",
      "2018-09-04 22:47:19,808 : INFO : topic #2 (0.250): 0.016*\"smallpox\" + 0.005*\"modified\" + 0.004*\"protective\" + 0.004*\"cowpox\" + 0.004*\"vesicle\" + 0.003*\"virus\" + 0.003*\"doctrine\" + 0.003*\"opinions\" + 0.002*\"ditto\" + 0.002*\"specific\"\n",
      "2018-09-04 22:47:19,812 : INFO : topic #3 (0.250): 0.014*\"birch\" + 0.003*\"answer\" + 0.003*\"pamphlet\" + 0.003*\"esq\" + 0.002*\"physician\" + 0.002*\"jennerian\" + 0.002*\"committee\" + 0.002*\"moseley\" + 0.002*\"failures\" + 0.002*\"ring\"\n",
      "2018-09-04 22:47:19,812 : INFO : topic diff=0.009368, rho=0.204124\n",
      "2018-09-04 22:47:20,559 : INFO : -7.832 per-word bound, 227.9 perplexity estimate based on a held-out corpus of 16 documents with 76562 words\n",
      "2018-09-04 22:47:20,559 : INFO : PROGRESS: pass 23, at document #16/16\n",
      "2018-09-04 22:47:20,599 : INFO : topic #0 (0.250): 0.013*\"red\" + 0.012*\"punctures\" + 0.009*\"marks\" + 0.007*\"fame\" + 0.007*\"row\" + 0.007*\"brown\" + 0.006*\"cafes\" + 0.006*\"pimples\" + 0.006*\"areola\" + 0.005*\"smallpox\"\n",
      "2018-09-04 22:47:20,599 : INFO : topic #1 (0.250): 0.049*\"sheffield\" + 0.044*\"cent\" + 0.022*\"unvaccinated\" + 0.018*\"borough\" + 0.016*\"revaccinated\" + 0.016*\"aged\" + 0.014*\"sub\" + 0.012*\"houses\" + 0.011*\"pitted\" + 0.010*\"census\"\n",
      "2018-09-04 22:47:20,599 : INFO : topic #2 (0.250): 0.016*\"smallpox\" + 0.005*\"modified\" + 0.004*\"protective\" + 0.004*\"cowpox\" + 0.004*\"vesicle\" + 0.003*\"virus\" + 0.003*\"doctrine\" + 0.003*\"opinions\" + 0.002*\"ditto\" + 0.002*\"specific\"\n",
      "2018-09-04 22:47:20,603 : INFO : topic #3 (0.250): 0.014*\"birch\" + 0.003*\"answer\" + 0.003*\"pamphlet\" + 0.003*\"esq\" + 0.002*\"physician\" + 0.002*\"jennerian\" + 0.002*\"committee\" + 0.002*\"moseley\" + 0.002*\"failures\" + 0.002*\"ring\"\n",
      "2018-09-04 22:47:20,603 : INFO : topic diff=0.008671, rho=0.200000\n",
      "2018-09-04 22:47:21,338 : INFO : -7.832 per-word bound, 227.8 perplexity estimate based on a held-out corpus of 16 documents with 76562 words\n",
      "2018-09-04 22:47:21,338 : INFO : PROGRESS: pass 24, at document #16/16\n",
      "2018-09-04 22:47:21,374 : INFO : topic #0 (0.250): 0.013*\"red\" + 0.012*\"punctures\" + 0.009*\"marks\" + 0.007*\"fame\" + 0.007*\"row\" + 0.007*\"brown\" + 0.006*\"cafes\" + 0.006*\"pimples\" + 0.006*\"areola\" + 0.005*\"smallpox\"\n",
      "2018-09-04 22:47:21,378 : INFO : topic #1 (0.250): 0.049*\"sheffield\" + 0.044*\"cent\" + 0.022*\"unvaccinated\" + 0.018*\"borough\" + 0.016*\"revaccinated\" + 0.016*\"aged\" + 0.014*\"sub\" + 0.012*\"houses\" + 0.011*\"pitted\" + 0.010*\"census\"\n",
      "2018-09-04 22:47:21,378 : INFO : topic #2 (0.250): 0.016*\"smallpox\" + 0.005*\"modified\" + 0.004*\"protective\" + 0.004*\"cowpox\" + 0.004*\"vesicle\" + 0.003*\"virus\" + 0.003*\"doctrine\" + 0.003*\"opinions\" + 0.002*\"ditto\" + 0.002*\"specific\"\n",
      "2018-09-04 22:47:21,378 : INFO : topic #3 (0.250): 0.014*\"birch\" + 0.003*\"answer\" + 0.003*\"pamphlet\" + 0.003*\"esq\" + 0.002*\"physician\" + 0.002*\"jennerian\" + 0.002*\"committee\" + 0.002*\"moseley\" + 0.002*\"failures\" + 0.002*\"ring\"\n",
      "2018-09-04 22:47:21,378 : INFO : topic diff=0.008147, rho=0.196116\n",
      "2018-09-04 22:47:22,121 : INFO : -7.831 per-word bound, 227.7 perplexity estimate based on a held-out corpus of 16 documents with 76562 words\n",
      "2018-09-04 22:47:22,121 : INFO : PROGRESS: pass 25, at document #16/16\n",
      "2018-09-04 22:47:22,157 : INFO : topic #0 (0.250): 0.013*\"red\" + 0.012*\"punctures\" + 0.009*\"marks\" + 0.007*\"fame\" + 0.007*\"row\" + 0.007*\"brown\" + 0.006*\"cafes\" + 0.006*\"pimples\" + 0.006*\"areola\" + 0.005*\"smallpox\"\n",
      "2018-09-04 22:47:22,157 : INFO : topic #1 (0.250): 0.049*\"sheffield\" + 0.044*\"cent\" + 0.022*\"unvaccinated\" + 0.018*\"borough\" + 0.016*\"revaccinated\" + 0.016*\"aged\" + 0.014*\"sub\" + 0.012*\"houses\" + 0.011*\"pitted\" + 0.010*\"census\"\n",
      "2018-09-04 22:47:22,157 : INFO : topic #2 (0.250): 0.016*\"smallpox\" + 0.005*\"modified\" + 0.004*\"protective\" + 0.004*\"cowpox\" + 0.004*\"vesicle\" + 0.003*\"virus\" + 0.003*\"doctrine\" + 0.003*\"opinions\" + 0.002*\"ditto\" + 0.002*\"specific\"\n",
      "2018-09-04 22:47:22,157 : INFO : topic #3 (0.250): 0.014*\"birch\" + 0.003*\"answer\" + 0.003*\"pamphlet\" + 0.003*\"esq\" + 0.002*\"physician\" + 0.002*\"jennerian\" + 0.002*\"committee\" + 0.002*\"moseley\" + 0.002*\"failures\" + 0.002*\"ring\"\n",
      "2018-09-04 22:47:22,161 : INFO : topic diff=0.007393, rho=0.192450\n",
      "2018-09-04 22:47:22,920 : INFO : -7.831 per-word bound, 227.6 perplexity estimate based on a held-out corpus of 16 documents with 76562 words\n",
      "2018-09-04 22:47:22,924 : INFO : PROGRESS: pass 26, at document #16/16\n",
      "2018-09-04 22:47:22,960 : INFO : topic #0 (0.250): 0.013*\"red\" + 0.012*\"punctures\" + 0.009*\"marks\" + 0.007*\"fame\" + 0.007*\"row\" + 0.007*\"brown\" + 0.006*\"cafes\" + 0.006*\"pimples\" + 0.006*\"areola\" + 0.005*\"smallpox\"\n",
      "2018-09-04 22:47:22,960 : INFO : topic #1 (0.250): 0.049*\"sheffield\" + 0.044*\"cent\" + 0.022*\"unvaccinated\" + 0.018*\"borough\" + 0.016*\"revaccinated\" + 0.016*\"aged\" + 0.014*\"sub\" + 0.012*\"houses\" + 0.011*\"pitted\" + 0.010*\"census\"\n",
      "2018-09-04 22:47:22,960 : INFO : topic #2 (0.250): 0.016*\"smallpox\" + 0.005*\"modified\" + 0.004*\"protective\" + 0.004*\"cowpox\" + 0.004*\"vesicle\" + 0.003*\"virus\" + 0.003*\"doctrine\" + 0.003*\"opinions\" + 0.002*\"ditto\" + 0.002*\"specific\"\n",
      "2018-09-04 22:47:22,960 : INFO : topic #3 (0.250): 0.014*\"birch\" + 0.003*\"answer\" + 0.003*\"pamphlet\" + 0.003*\"esq\" + 0.002*\"physician\" + 0.002*\"jennerian\" + 0.002*\"committee\" + 0.002*\"moseley\" + 0.002*\"failures\" + 0.002*\"ring\"\n",
      "2018-09-04 22:47:22,964 : INFO : topic diff=0.006796, rho=0.188982\n",
      "2018-09-04 22:47:23,707 : INFO : -7.830 per-word bound, 227.6 perplexity estimate based on a held-out corpus of 16 documents with 76562 words\n",
      "2018-09-04 22:47:23,711 : INFO : PROGRESS: pass 27, at document #16/16\n",
      "2018-09-04 22:47:23,747 : INFO : topic #0 (0.250): 0.013*\"red\" + 0.012*\"punctures\" + 0.009*\"marks\" + 0.007*\"fame\" + 0.007*\"row\" + 0.007*\"brown\" + 0.006*\"cafes\" + 0.006*\"pimples\" + 0.006*\"areola\" + 0.005*\"smallpox\"\n",
      "2018-09-04 22:47:23,747 : INFO : topic #1 (0.250): 0.049*\"sheffield\" + 0.044*\"cent\" + 0.022*\"unvaccinated\" + 0.018*\"borough\" + 0.016*\"revaccinated\" + 0.016*\"aged\" + 0.014*\"sub\" + 0.012*\"houses\" + 0.011*\"pitted\" + 0.010*\"census\"\n",
      "2018-09-04 22:47:23,751 : INFO : topic #2 (0.250): 0.016*\"smallpox\" + 0.005*\"modified\" + 0.004*\"protective\" + 0.004*\"cowpox\" + 0.004*\"vesicle\" + 0.003*\"virus\" + 0.003*\"doctrine\" + 0.003*\"opinions\" + 0.002*\"ditto\" + 0.002*\"specific\"\n",
      "2018-09-04 22:47:23,751 : INFO : topic #3 (0.250): 0.014*\"birch\" + 0.003*\"answer\" + 0.003*\"pamphlet\" + 0.003*\"esq\" + 0.002*\"physician\" + 0.002*\"jennerian\" + 0.002*\"committee\" + 0.002*\"moseley\" + 0.002*\"failures\" + 0.002*\"ring\"\n"
     ]
    },
    {
     "name": "stderr",
     "output_type": "stream",
     "text": [
      "2018-09-04 22:47:23,751 : INFO : topic diff=0.006307, rho=0.185695\n",
      "2018-09-04 22:47:24,502 : INFO : -7.830 per-word bound, 227.5 perplexity estimate based on a held-out corpus of 16 documents with 76562 words\n",
      "2018-09-04 22:47:24,506 : INFO : PROGRESS: pass 28, at document #16/16\n",
      "2018-09-04 22:47:24,542 : INFO : topic #0 (0.250): 0.013*\"red\" + 0.012*\"punctures\" + 0.009*\"marks\" + 0.007*\"fame\" + 0.007*\"row\" + 0.007*\"brown\" + 0.006*\"cafes\" + 0.006*\"pimples\" + 0.006*\"areola\" + 0.005*\"smallpox\"\n",
      "2018-09-04 22:47:24,542 : INFO : topic #1 (0.250): 0.049*\"sheffield\" + 0.044*\"cent\" + 0.022*\"unvaccinated\" + 0.018*\"borough\" + 0.016*\"revaccinated\" + 0.016*\"aged\" + 0.014*\"sub\" + 0.012*\"houses\" + 0.011*\"pitted\" + 0.010*\"census\"\n",
      "2018-09-04 22:47:24,542 : INFO : topic #2 (0.250): 0.016*\"smallpox\" + 0.005*\"modified\" + 0.004*\"protective\" + 0.004*\"cowpox\" + 0.004*\"vesicle\" + 0.003*\"virus\" + 0.003*\"doctrine\" + 0.003*\"opinions\" + 0.002*\"ditto\" + 0.002*\"specific\"\n",
      "2018-09-04 22:47:24,546 : INFO : topic #3 (0.250): 0.014*\"birch\" + 0.003*\"answer\" + 0.003*\"pamphlet\" + 0.003*\"esq\" + 0.002*\"physician\" + 0.002*\"jennerian\" + 0.002*\"committee\" + 0.002*\"moseley\" + 0.002*\"failures\" + 0.002*\"ring\"\n",
      "2018-09-04 22:47:24,546 : INFO : topic diff=0.005896, rho=0.182574\n",
      "2018-09-04 22:47:25,297 : INFO : -7.829 per-word bound, 227.4 perplexity estimate based on a held-out corpus of 16 documents with 76562 words\n",
      "2018-09-04 22:47:25,297 : INFO : PROGRESS: pass 29, at document #16/16\n",
      "2018-09-04 22:47:25,333 : INFO : topic #0 (0.250): 0.013*\"red\" + 0.012*\"punctures\" + 0.009*\"marks\" + 0.007*\"fame\" + 0.007*\"row\" + 0.007*\"brown\" + 0.006*\"cafes\" + 0.006*\"pimples\" + 0.006*\"areola\" + 0.005*\"smallpox\"\n",
      "2018-09-04 22:47:25,333 : INFO : topic #1 (0.250): 0.049*\"sheffield\" + 0.044*\"cent\" + 0.022*\"unvaccinated\" + 0.018*\"borough\" + 0.016*\"revaccinated\" + 0.016*\"aged\" + 0.014*\"sub\" + 0.012*\"houses\" + 0.011*\"pitted\" + 0.010*\"census\"\n",
      "2018-09-04 22:47:25,337 : INFO : topic #2 (0.250): 0.016*\"smallpox\" + 0.005*\"modified\" + 0.004*\"protective\" + 0.004*\"cowpox\" + 0.004*\"vesicle\" + 0.003*\"virus\" + 0.003*\"doctrine\" + 0.003*\"opinions\" + 0.002*\"ditto\" + 0.002*\"specific\"\n",
      "2018-09-04 22:47:25,337 : INFO : topic #3 (0.250): 0.014*\"birch\" + 0.003*\"answer\" + 0.003*\"pamphlet\" + 0.003*\"esq\" + 0.003*\"physician\" + 0.002*\"jennerian\" + 0.002*\"committee\" + 0.002*\"moseley\" + 0.002*\"failures\" + 0.002*\"ring\"\n",
      "2018-09-04 22:47:25,337 : INFO : topic diff=0.005543, rho=0.179605\n"
     ]
    },
    {
     "name": "stdout",
     "output_type": "stream",
     "text": [
      "used: 24.19s\n"
     ]
    }
   ],
   "source": [
    "pro_LDA = lda_model(pro_cor, pro_dict,30, 4,100)"
   ]
  },
  {
   "cell_type": "code",
   "execution_count": 33,
   "metadata": {},
   "outputs": [
    {
     "name": "stderr",
     "output_type": "stream",
     "text": [
      "2018-09-04 22:47:25,345 : INFO : topic #0 (0.250): 0.013*\"red\" + 0.012*\"punctures\" + 0.009*\"marks\" + 0.007*\"fame\"\n",
      "2018-09-04 22:47:25,349 : INFO : topic #1 (0.250): 0.049*\"sheffield\" + 0.044*\"cent\" + 0.022*\"unvaccinated\" + 0.018*\"borough\"\n",
      "2018-09-04 22:47:25,349 : INFO : topic #2 (0.250): 0.016*\"smallpox\" + 0.005*\"modified\" + 0.004*\"protective\" + 0.004*\"cowpox\"\n",
      "2018-09-04 22:47:25,353 : INFO : topic #3 (0.250): 0.014*\"birch\" + 0.003*\"answer\" + 0.003*\"pamphlet\" + 0.003*\"esq\"\n"
     ]
    },
    {
     "name": "stdout",
     "output_type": "stream",
     "text": [
      "(0, '0.013*\"red\" + 0.012*\"punctures\" + 0.009*\"marks\" + 0.007*\"fame\"')\n",
      "(1, '0.049*\"sheffield\" + 0.044*\"cent\" + 0.022*\"unvaccinated\" + 0.018*\"borough\"')\n",
      "(2, '0.016*\"smallpox\" + 0.005*\"modified\" + 0.004*\"protective\" + 0.004*\"cowpox\"')\n",
      "(3, '0.014*\"birch\" + 0.003*\"answer\" + 0.003*\"pamphlet\" + 0.003*\"esq\"')\n"
     ]
    }
   ],
   "source": [
    "print_topics(pro_LDA, 4)"
   ]
  },
  {
   "cell_type": "markdown",
   "metadata": {
    "collapsed": true
   },
   "source": [
    "topics = get_topics('pro_corpus_with_4TEST',pro_LDA,4)\n",
    "print(topics)"
   ]
  },
  {
   "cell_type": "markdown",
   "metadata": {
    "collapsed": true
   },
   "source": [
    "#make viz\n",
    "make_ldavis(pro_LDA, pro_cor_serial, pro_dict, 'pro_corpus4TEST')"
   ]
  },
  {
   "cell_type": "code",
   "execution_count": 34,
   "metadata": {},
   "outputs": [
    {
     "name": "stderr",
     "output_type": "stream",
     "text": [
      "2018-09-04 22:47:25,429 : INFO : adding document #0 to Dictionary(0 unique tokens: [])\n",
      "2018-09-04 22:47:26,535 : INFO : built Dictionary(32071 unique tokens: ['aban', 'abandon', 'abandoned', 'abated', 'abili']...) from 18 documents (total 355355 corpus positions)\n",
      "2018-09-04 22:47:26,579 : INFO : discarding 20173 tokens: [('abandon', 10), ('abili', 1), ('able', 15), ('abra', 1), ('abroad', 10), ('absolute', 14), ('absolutely', 13), ('absorbent', 1), ('accidental', 10), ('accord', 11)]...\n",
      "2018-09-04 22:47:26,579 : INFO : keeping 11898 tokens which were in no less than 2 and no more than 9 (=50.0%) documents\n",
      "2018-09-04 22:47:26,595 : INFO : resulting dictionary: Dictionary(11898 unique tokens: ['aban', 'abandoned', 'abated', 'abilities', 'ablest']...)\n",
      "2018-09-04 22:47:26,611 : INFO : saving Dictionary object under anti_corpus_dictionary.dict, separately None\n",
      "2018-09-04 22:47:26,619 : INFO : saved anti_corpus_dictionary.dict\n",
      "2018-09-04 22:47:27,666 : INFO : storing corpus in Matrix Market format to anti_corpus_serialized.mm\n",
      "2018-09-04 22:47:27,666 : INFO : saving sparse matrix to anti_corpus_serialized.mm\n",
      "2018-09-04 22:47:27,666 : INFO : PROGRESS: saving document #0\n",
      "2018-09-04 22:47:27,726 : INFO : saved 18x11898 matrix, density=20.789% (44523/214164)\n",
      "2018-09-04 22:47:27,738 : INFO : saving MmCorpus index to anti_corpus_serialized.mm.index\n"
     ]
    }
   ],
   "source": [
    "#for anti\n",
    "anti_cor, anti_cor_serial, anti_dict = get_corpus_dict('C:/Users/kec52/Documents/BLtext_research/antiVaxTextLib/antiTexts', 'anti_corpus')"
   ]
  },
  {
   "cell_type": "code",
   "execution_count": 35,
   "metadata": {},
   "outputs": [
    {
     "name": "stderr",
     "output_type": "stream",
     "text": [
      "2018-09-04 22:47:27,746 : INFO : using symmetric alpha at 0.16666666666666666\n",
      "2018-09-04 22:47:27,750 : INFO : using symmetric eta at 0.16666666666666666\n",
      "2018-09-04 22:47:27,754 : INFO : using serial LDA version on this node\n",
      "2018-09-04 22:47:27,762 : INFO : running online (multi-pass) LDA training, 6 topics, 50 passes over the supplied corpus of 18 documents, updating model once every 18 documents, evaluating perplexity every 18 documents, iterating 50x with a convergence threshold of 0.001000\n"
     ]
    },
    {
     "name": "stdout",
     "output_type": "stream",
     "text": [
      "makin model\n"
     ]
    },
    {
     "name": "stderr",
     "output_type": "stream",
     "text": [
      "2018-09-04 22:47:29,064 : INFO : -10.330 per-word bound, 1287.2 perplexity estimate based on a held-out corpus of 18 documents with 123048 words\n",
      "2018-09-04 22:47:29,064 : INFO : PROGRESS: pass 0, at document #18/18\n",
      "2018-09-04 22:47:29,152 : INFO : topic #4 (0.167): 0.024*\"smallpox\" + 0.010*\"cowpox\" + 0.006*\"leicester\" + 0.003*\"table\" + 0.002*\"calf\" + 0.002*\"commission\" + 0.002*\"pearson\" + 0.002*\"variolation\" + 0.001*\"fatality\" + 0.001*\"baron\"\n",
      "2018-09-04 22:47:29,152 : INFO : topic #0 (0.167): 0.025*\"smallpox\" + 0.011*\"cowpox\" + 0.010*\"leicester\" + 0.003*\"table\" + 0.002*\"commission\" + 0.002*\"calf\" + 0.002*\"fatality\" + 0.001*\"variolation\" + 0.001*\"pearson\" + 0.001*\"walker\"\n",
      "2018-09-04 22:47:29,156 : INFO : topic #5 (0.167): 0.021*\"smallpox\" + 0.016*\"leicester\" + 0.007*\"cowpox\" + 0.005*\"table\" + 0.003*\"fatality\" + 0.002*\"commission\" + 0.001*\"calf\" + 0.001*\"pearson\" + 0.001*\"toxin\" + 0.001*\"claim\"\n",
      "2018-09-04 22:47:29,156 : INFO : topic #2 (0.167): 0.012*\"smallpox\" + 0.011*\"leicester\" + 0.005*\"cowpox\" + 0.005*\"table\" + 0.002*\"commission\" + 0.002*\"pustule\" + 0.002*\"areola\" + 0.002*\"calf\" + 0.002*\"fatality\" + 0.001*\"toxin\"\n",
      "2018-09-04 22:47:29,156 : INFO : topic #1 (0.167): 0.018*\"smallpox\" + 0.008*\"cowpox\" + 0.005*\"leicester\" + 0.003*\"table\" + 0.002*\"calf\" + 0.001*\"pustule\" + 0.001*\"pearson\" + 0.001*\"variolation\" + 0.001*\"god\" + 0.001*\"commission\"\n",
      "2018-09-04 22:47:29,160 : INFO : topic diff=1.092335, rho=1.000000\n",
      "2018-09-04 22:47:30,498 : INFO : -9.413 per-word bound, 681.9 perplexity estimate based on a held-out corpus of 18 documents with 123048 words\n",
      "2018-09-04 22:47:30,502 : INFO : PROGRESS: pass 1, at document #18/18\n",
      "2018-09-04 22:47:30,582 : INFO : topic #5 (0.167): 0.026*\"leicester\" + 0.012*\"smallpox\" + 0.007*\"table\" + 0.004*\"commission\" + 0.004*\"fatality\" + 0.003*\"cowpox\" + 0.003*\"calf\" + 0.003*\"toxin\" + 0.002*\"percentage\" + 0.002*\"serum\"\n",
      "2018-09-04 22:47:30,586 : INFO : topic #4 (0.167): 0.032*\"smallpox\" + 0.012*\"cowpox\" + 0.003*\"leicester\" + 0.002*\"pearson\" + 0.002*\"variolation\" + 0.002*\"table\" + 0.001*\"talk\" + 0.001*\"calf\" + 0.001*\"baron\" + 0.001*\"spurious\"\n",
      "2018-09-04 22:47:30,586 : INFO : topic #3 (0.167): 0.020*\"smallpox\" + 0.008*\"cowpox\" + 0.006*\"leicester\" + 0.002*\"pearson\" + 0.002*\"commission\" + 0.001*\"variolation\" + 0.001*\"spurious\" + 0.001*\"failures\" + 0.001*\"table\" + 0.001*\"humours\"\n",
      "2018-09-04 22:47:30,586 : INFO : topic #1 (0.167): 0.012*\"smallpox\" + 0.006*\"cowpox\" + 0.004*\"leicester\" + 0.002*\"table\" + 0.002*\"genuine\" + 0.001*\"spurious\" + 0.001*\"calf\" + 0.001*\"failures\" + 0.001*\"baron\" + 0.001*\"birch\"\n",
      "2018-09-04 22:47:30,590 : INFO : topic #2 (0.167): 0.006*\"smallpox\" + 0.005*\"leicester\" + 0.005*\"pustule\" + 0.005*\"areola\" + 0.004*\"table\" + 0.003*\"cowpox\" + 0.002*\"pus\" + 0.002*\"phenomena\" + 0.002*\"vesicles\" + 0.002*\"inflammation\"\n",
      "2018-09-04 22:47:30,590 : INFO : topic diff=0.541222, rho=0.577350\n",
      "2018-09-04 22:47:31,916 : INFO : -9.125 per-word bound, 558.2 perplexity estimate based on a held-out corpus of 18 documents with 123048 words\n",
      "2018-09-04 22:47:31,916 : INFO : PROGRESS: pass 2, at document #18/18\n",
      "2018-09-04 22:47:31,996 : INFO : topic #5 (0.167): 0.031*\"leicester\" + 0.009*\"table\" + 0.007*\"smallpox\" + 0.006*\"commission\" + 0.004*\"fatality\" + 0.003*\"calf\" + 0.003*\"toxin\" + 0.002*\"percentage\" + 0.002*\"diphtheria\" + 0.002*\"serum\"\n",
      "2018-09-04 22:47:32,000 : INFO : topic #0 (0.167): 0.040*\"smallpox\" + 0.018*\"cowpox\" + 0.003*\"pearson\" + 0.003*\"variolation\" + 0.002*\"walker\" + 0.002*\"baron\" + 0.002*\"spurious\" + 0.002*\"god\" + 0.001*\"leicester\" + 0.001*\"claim\"\n",
      "2018-09-04 22:47:32,000 : INFO : topic #3 (0.167): 0.012*\"smallpox\" + 0.005*\"cowpox\" + 0.004*\"leicester\" + 0.002*\"humours\" + 0.001*\"organic\" + 0.001*\"pearson\" + 0.001*\"god\" + 0.001*\"humour\" + 0.001*\"taints\" + 0.001*\"moral\"\n",
      "2018-09-04 22:47:32,000 : INFO : topic #2 (0.167): 0.006*\"areola\" + 0.006*\"pustule\" + 0.004*\"smallpox\" + 0.003*\"pus\" + 0.003*\"phenomena\" + 0.003*\"leicester\" + 0.003*\"table\" + 0.003*\"inflammation\" + 0.003*\"vesicles\" + 0.003*\"bryce\"\n",
      "2018-09-04 22:47:32,004 : INFO : topic #1 (0.167): 0.008*\"smallpox\" + 0.004*\"cowpox\" + 0.002*\"leicester\" + 0.002*\"genuine\" + 0.002*\"spurious\" + 0.002*\"failures\" + 0.002*\"birch\" + 0.002*\"table\" + 0.002*\"circumstance\" + 0.001*\"baron\"\n",
      "2018-09-04 22:47:32,004 : INFO : topic diff=0.523673, rho=0.500000\n",
      "2018-09-04 22:47:33,326 : INFO : -8.973 per-word bound, 502.6 perplexity estimate based on a held-out corpus of 18 documents with 123048 words\n",
      "2018-09-04 22:47:33,326 : INFO : PROGRESS: pass 3, at document #18/18\n",
      "2018-09-04 22:47:33,394 : INFO : topic #4 (0.167): 0.034*\"smallpox\" + 0.006*\"cowpox\" + 0.004*\"talk\" + 0.002*\"inquirer\" + 0.002*\"hygiene\" + 0.002*\"calf\" + 0.002*\"germany\" + 0.002*\"leicester\" + 0.002*\"hat\" + 0.001*\"switzerland\"\n",
      "2018-09-04 22:47:33,394 : INFO : topic #5 (0.167): 0.034*\"leicester\" + 0.010*\"table\" + 0.006*\"commission\" + 0.005*\"fatality\" + 0.004*\"smallpox\" + 0.003*\"toxin\" + 0.003*\"calf\" + 0.002*\"percentage\" + 0.002*\"diphtheria\" + 0.002*\"serum\"\n",
      "2018-09-04 22:47:33,398 : INFO : topic #1 (0.167): 0.005*\"smallpox\" + 0.002*\"cowpox\" + 0.002*\"spurious\" + 0.002*\"genuine\" + 0.002*\"failures\" + 0.002*\"circumstance\" + 0.002*\"birch\" + 0.002*\"baron\" + 0.002*\"leicester\" + 0.001*\"assertions\"\n",
      "2018-09-04 22:47:33,398 : INFO : topic #0 (0.167): 0.041*\"smallpox\" + 0.019*\"cowpox\" + 0.003*\"pearson\" + 0.003*\"variolation\" + 0.002*\"walker\" + 0.002*\"baron\" + 0.002*\"spurious\" + 0.002*\"god\" + 0.001*\"claim\" + 0.001*\"woodville\"\n",
      "2018-09-04 22:47:33,398 : INFO : topic #3 (0.167): 0.007*\"smallpox\" + 0.003*\"cowpox\" + 0.002*\"leicester\" + 0.002*\"humours\" + 0.002*\"organic\" + 0.001*\"god\" + 0.001*\"humour\" + 0.001*\"pus\" + 0.001*\"taints\" + 0.001*\"moral\"\n",
      "2018-09-04 22:47:33,402 : INFO : topic diff=0.449310, rho=0.447214\n",
      "2018-09-04 22:47:34,712 : INFO : -8.895 per-word bound, 476.0 perplexity estimate based on a held-out corpus of 18 documents with 123048 words\n",
      "2018-09-04 22:47:34,716 : INFO : PROGRESS: pass 4, at document #18/18\n",
      "2018-09-04 22:47:34,792 : INFO : topic #5 (0.167): 0.036*\"leicester\" + 0.011*\"table\" + 0.007*\"commission\" + 0.005*\"fatality\" + 0.004*\"toxin\" + 0.003*\"calf\" + 0.003*\"percentage\" + 0.003*\"smallpox\" + 0.003*\"serum\" + 0.003*\"diphtheria\"\n",
      "2018-09-04 22:47:34,792 : INFO : topic #4 (0.167): 0.034*\"smallpox\" + 0.005*\"talk\" + 0.005*\"cowpox\" + 0.003*\"inquirer\" + 0.003*\"hygiene\" + 0.002*\"germany\" + 0.002*\"hat\" + 0.002*\"switzerland\" + 0.002*\"calf\" + 0.002*\"german\"\n",
      "2018-09-04 22:47:34,796 : INFO : topic #1 (0.167): 0.003*\"smallpox\" + 0.003*\"spurious\" + 0.002*\"genuine\" + 0.002*\"circumstance\" + 0.002*\"failures\" + 0.002*\"birch\" + 0.002*\"baron\" + 0.001*\"cowpox\" + 0.001*\"assertions\" + 0.001*\"candour\"\n",
      "2018-09-04 22:47:34,796 : INFO : topic #0 (0.167): 0.041*\"smallpox\" + 0.019*\"cowpox\" + 0.003*\"pearson\" + 0.003*\"variolation\" + 0.002*\"walker\" + 0.002*\"baron\" + 0.002*\"spurious\" + 0.002*\"god\" + 0.001*\"claim\" + 0.001*\"woodville\"\n",
      "2018-09-04 22:47:34,796 : INFO : topic #3 (0.167): 0.004*\"smallpox\" + 0.002*\"humours\" + 0.002*\"organic\" + 0.002*\"cowpox\" + 0.002*\"pus\" + 0.001*\"god\" + 0.001*\"humour\" + 0.001*\"taints\" + 0.001*\"leicester\" + 0.001*\"company\"\n",
      "2018-09-04 22:47:34,796 : INFO : topic diff=0.357352, rho=0.408248\n",
      "2018-09-04 22:47:36,110 : INFO : -8.854 per-word bound, 462.8 perplexity estimate based on a held-out corpus of 18 documents with 123048 words\n",
      "2018-09-04 22:47:36,114 : INFO : PROGRESS: pass 5, at document #18/18\n",
      "2018-09-04 22:47:36,182 : INFO : topic #1 (0.167): 0.003*\"spurious\" + 0.003*\"genuine\" + 0.002*\"circumstance\" + 0.002*\"smallpox\" + 0.002*\"failures\" + 0.002*\"birch\" + 0.002*\"baron\" + 0.002*\"assertions\" + 0.002*\"candour\" + 0.002*\"scrophula\"\n",
      "2018-09-04 22:47:36,182 : INFO : topic #4 (0.167): 0.034*\"smallpox\" + 0.005*\"talk\" + 0.004*\"cowpox\" + 0.003*\"inquirer\" + 0.003*\"hygiene\" + 0.002*\"germany\" + 0.002*\"hat\" + 0.002*\"switzerland\" + 0.002*\"german\" + 0.002*\"calf\"\n",
      "2018-09-04 22:47:36,182 : INFO : topic #2 (0.167): 0.009*\"areola\" + 0.008*\"pustule\" + 0.004*\"phenomena\" + 0.004*\"bryce\" + 0.004*\"inflammation\" + 0.004*\"vesicles\" + 0.004*\"affection\" + 0.003*\"pus\" + 0.003*\"scab\" + 0.003*\"oldest\"\n",
      "2018-09-04 22:47:36,186 : INFO : topic #0 (0.167): 0.042*\"smallpox\" + 0.019*\"cowpox\" + 0.003*\"pearson\" + 0.003*\"variolation\" + 0.002*\"walker\" + 0.002*\"baron\" + 0.002*\"spurious\" + 0.002*\"god\" + 0.001*\"claim\" + 0.001*\"woodville\"\n"
     ]
    },
    {
     "name": "stderr",
     "output_type": "stream",
     "text": [
      "2018-09-04 22:47:36,186 : INFO : topic #3 (0.167): 0.003*\"smallpox\" + 0.002*\"humours\" + 0.002*\"organic\" + 0.002*\"pus\" + 0.001*\"god\" + 0.001*\"humour\" + 0.001*\"taints\" + 0.001*\"company\" + 0.001*\"philosophy\" + 0.001*\"german\"\n",
      "2018-09-04 22:47:36,186 : INFO : topic diff=0.276095, rho=0.377964\n",
      "2018-09-04 22:47:37,489 : INFO : -8.832 per-word bound, 455.8 perplexity estimate based on a held-out corpus of 18 documents with 123048 words\n",
      "2018-09-04 22:47:37,489 : INFO : PROGRESS: pass 6, at document #18/18\n",
      "2018-09-04 22:47:37,557 : INFO : topic #1 (0.167): 0.003*\"spurious\" + 0.003*\"genuine\" + 0.002*\"circumstance\" + 0.002*\"failures\" + 0.002*\"birch\" + 0.002*\"baron\" + 0.002*\"assertions\" + 0.002*\"candour\" + 0.002*\"scrophula\" + 0.001*\"uniformly\"\n",
      "2018-09-04 22:47:37,557 : INFO : topic #5 (0.167): 0.038*\"leicester\" + 0.011*\"table\" + 0.007*\"commission\" + 0.005*\"fatality\" + 0.004*\"toxin\" + 0.004*\"calf\" + 0.003*\"percentage\" + 0.003*\"serum\" + 0.003*\"diphtheria\" + 0.002*\"tuberculosis\"\n",
      "2018-09-04 22:47:37,561 : INFO : topic #4 (0.167): 0.035*\"smallpox\" + 0.006*\"talk\" + 0.003*\"inquirer\" + 0.003*\"cowpox\" + 0.003*\"hygiene\" + 0.002*\"germany\" + 0.002*\"hat\" + 0.002*\"switzerland\" + 0.002*\"german\" + 0.002*\"sore\"\n",
      "2018-09-04 22:47:37,561 : INFO : topic #2 (0.167): 0.009*\"areola\" + 0.008*\"pustule\" + 0.004*\"phenomena\" + 0.004*\"bryce\" + 0.004*\"inflammation\" + 0.004*\"vesicles\" + 0.004*\"affection\" + 0.003*\"pus\" + 0.003*\"scab\" + 0.003*\"oldest\"\n",
      "2018-09-04 22:47:37,561 : INFO : topic #0 (0.167): 0.042*\"smallpox\" + 0.019*\"cowpox\" + 0.003*\"pearson\" + 0.003*\"variolation\" + 0.002*\"walker\" + 0.002*\"baron\" + 0.002*\"spurious\" + 0.002*\"god\" + 0.001*\"claim\" + 0.001*\"woodville\"\n",
      "2018-09-04 22:47:37,565 : INFO : topic diff=0.210094, rho=0.353553\n",
      "2018-09-04 22:47:38,847 : INFO : -8.820 per-word bound, 452.0 perplexity estimate based on a held-out corpus of 18 documents with 123048 words\n",
      "2018-09-04 22:47:38,847 : INFO : PROGRESS: pass 7, at document #18/18\n",
      "2018-09-04 22:47:38,911 : INFO : topic #2 (0.167): 0.009*\"areola\" + 0.008*\"pustule\" + 0.004*\"phenomena\" + 0.004*\"bryce\" + 0.004*\"inflammation\" + 0.004*\"vesicles\" + 0.004*\"affection\" + 0.003*\"pus\" + 0.003*\"scab\" + 0.003*\"oldest\"\n",
      "2018-09-04 22:47:38,915 : INFO : topic #5 (0.167): 0.038*\"leicester\" + 0.011*\"table\" + 0.007*\"commission\" + 0.005*\"fatality\" + 0.004*\"toxin\" + 0.004*\"calf\" + 0.003*\"percentage\" + 0.003*\"serum\" + 0.003*\"diphtheria\" + 0.002*\"tuberculosis\"\n",
      "2018-09-04 22:47:38,915 : INFO : topic #0 (0.167): 0.042*\"smallpox\" + 0.019*\"cowpox\" + 0.003*\"pearson\" + 0.003*\"variolation\" + 0.002*\"walker\" + 0.002*\"baron\" + 0.002*\"spurious\" + 0.002*\"god\" + 0.001*\"claim\" + 0.001*\"woodville\"\n",
      "2018-09-04 22:47:38,915 : INFO : topic #4 (0.167): 0.035*\"smallpox\" + 0.006*\"talk\" + 0.003*\"inquirer\" + 0.003*\"hygiene\" + 0.003*\"cowpox\" + 0.002*\"germany\" + 0.002*\"hat\" + 0.002*\"switzerland\" + 0.002*\"german\" + 0.002*\"sore\"\n",
      "2018-09-04 22:47:38,919 : INFO : topic #1 (0.167): 0.003*\"spurious\" + 0.003*\"genuine\" + 0.002*\"circumstance\" + 0.002*\"failures\" + 0.002*\"birch\" + 0.002*\"baron\" + 0.002*\"assertions\" + 0.002*\"candour\" + 0.002*\"scrophula\" + 0.001*\"uniformly\"\n",
      "2018-09-04 22:47:38,919 : INFO : topic diff=0.158498, rho=0.333333\n",
      "2018-09-04 22:47:40,224 : INFO : -8.813 per-word bound, 449.8 perplexity estimate based on a held-out corpus of 18 documents with 123048 words\n",
      "2018-09-04 22:47:40,224 : INFO : PROGRESS: pass 8, at document #18/18\n",
      "2018-09-04 22:47:40,284 : INFO : topic #5 (0.167): 0.039*\"leicester\" + 0.011*\"table\" + 0.007*\"commission\" + 0.005*\"fatality\" + 0.004*\"toxin\" + 0.004*\"calf\" + 0.003*\"percentage\" + 0.003*\"serum\" + 0.003*\"diphtheria\" + 0.002*\"tuberculosis\"\n",
      "2018-09-04 22:47:40,284 : INFO : topic #4 (0.167): 0.035*\"smallpox\" + 0.006*\"talk\" + 0.003*\"inquirer\" + 0.003*\"hygiene\" + 0.002*\"cowpox\" + 0.002*\"germany\" + 0.002*\"hat\" + 0.002*\"switzerland\" + 0.002*\"german\" + 0.002*\"sore\"\n",
      "2018-09-04 22:47:40,288 : INFO : topic #2 (0.167): 0.009*\"areola\" + 0.009*\"pustule\" + 0.004*\"phenomena\" + 0.004*\"bryce\" + 0.004*\"vesicles\" + 0.004*\"inflammation\" + 0.004*\"affection\" + 0.003*\"pus\" + 0.003*\"scab\" + 0.003*\"oldest\"\n",
      "2018-09-04 22:47:40,288 : INFO : topic #3 (0.167): 0.002*\"humours\" + 0.002*\"organic\" + 0.002*\"pus\" + 0.002*\"god\" + 0.002*\"smau\" + 0.001*\"german\" + 0.001*\"company\" + 0.001*\"taints\" + 0.001*\"humour\" + 0.001*\"philosophy\"\n",
      "2018-09-04 22:47:40,292 : INFO : topic #0 (0.167): 0.042*\"smallpox\" + 0.019*\"cowpox\" + 0.003*\"pearson\" + 0.003*\"variolation\" + 0.002*\"walker\" + 0.002*\"baron\" + 0.002*\"spurious\" + 0.002*\"god\" + 0.001*\"claim\" + 0.001*\"woodville\"\n",
      "2018-09-04 22:47:40,292 : INFO : topic diff=0.119001, rho=0.316228\n",
      "2018-09-04 22:47:41,575 : INFO : -8.809 per-word bound, 448.5 perplexity estimate based on a held-out corpus of 18 documents with 123048 words\n",
      "2018-09-04 22:47:41,575 : INFO : PROGRESS: pass 9, at document #18/18\n",
      "2018-09-04 22:47:41,638 : INFO : topic #4 (0.167): 0.035*\"smallpox\" + 0.006*\"talk\" + 0.003*\"inquirer\" + 0.003*\"hygiene\" + 0.002*\"germany\" + 0.002*\"hat\" + 0.002*\"cowpox\" + 0.002*\"switzerland\" + 0.002*\"german\" + 0.002*\"sore\"\n",
      "2018-09-04 22:47:41,642 : INFO : topic #2 (0.167): 0.009*\"areola\" + 0.009*\"pustule\" + 0.004*\"phenomena\" + 0.004*\"bryce\" + 0.004*\"vesicles\" + 0.004*\"inflammation\" + 0.004*\"affection\" + 0.003*\"pus\" + 0.003*\"scab\" + 0.003*\"oldest\"\n",
      "2018-09-04 22:47:41,642 : INFO : topic #3 (0.167): 0.002*\"humours\" + 0.002*\"pus\" + 0.002*\"organic\" + 0.002*\"smau\" + 0.002*\"god\" + 0.002*\"german\" + 0.001*\"company\" + 0.001*\"taints\" + 0.001*\"humour\" + 0.001*\"philosophy\"\n",
      "2018-09-04 22:47:41,642 : INFO : topic #1 (0.167): 0.003*\"spurious\" + 0.003*\"genuine\" + 0.002*\"circumstance\" + 0.002*\"failures\" + 0.002*\"birch\" + 0.002*\"baron\" + 0.002*\"assertions\" + 0.002*\"candour\" + 0.002*\"scrophula\" + 0.001*\"uniformly\"\n",
      "2018-09-04 22:47:41,646 : INFO : topic #5 (0.167): 0.039*\"leicester\" + 0.011*\"table\" + 0.007*\"commission\" + 0.005*\"fatality\" + 0.004*\"toxin\" + 0.004*\"calf\" + 0.003*\"percentage\" + 0.003*\"serum\" + 0.003*\"diphtheria\" + 0.002*\"tuberculosis\"\n",
      "2018-09-04 22:47:41,646 : INFO : topic diff=0.089326, rho=0.301511\n",
      "2018-09-04 22:47:42,977 : INFO : -8.806 per-word bound, 447.7 perplexity estimate based on a held-out corpus of 18 documents with 123048 words\n",
      "2018-09-04 22:47:42,981 : INFO : PROGRESS: pass 10, at document #18/18\n",
      "2018-09-04 22:47:43,041 : INFO : topic #3 (0.167): 0.002*\"humours\" + 0.002*\"pus\" + 0.002*\"organic\" + 0.002*\"smau\" + 0.002*\"god\" + 0.002*\"german\" + 0.002*\"company\" + 0.001*\"taints\" + 0.001*\"humour\" + 0.001*\"philosophy\"\n",
      "2018-09-04 22:47:43,045 : INFO : topic #5 (0.167): 0.039*\"leicester\" + 0.012*\"table\" + 0.007*\"commission\" + 0.005*\"fatality\" + 0.004*\"toxin\" + 0.004*\"calf\" + 0.003*\"percentage\" + 0.003*\"serum\" + 0.003*\"diphtheria\" + 0.002*\"tuberculosis\"\n",
      "2018-09-04 22:47:43,045 : INFO : topic #0 (0.167): 0.042*\"smallpox\" + 0.019*\"cowpox\" + 0.003*\"pearson\" + 0.003*\"variolation\" + 0.002*\"walker\" + 0.002*\"baron\" + 0.002*\"spurious\" + 0.002*\"god\" + 0.001*\"claim\" + 0.001*\"woodville\"\n",
      "2018-09-04 22:47:43,045 : INFO : topic #2 (0.167): 0.009*\"areola\" + 0.009*\"pustule\" + 0.004*\"phenomena\" + 0.004*\"bryce\" + 0.004*\"vesicles\" + 0.004*\"inflammation\" + 0.004*\"affection\" + 0.003*\"pus\" + 0.003*\"scab\" + 0.003*\"oldest\"\n",
      "2018-09-04 22:47:43,049 : INFO : topic #1 (0.167): 0.003*\"spurious\" + 0.003*\"genuine\" + 0.002*\"circumstance\" + 0.002*\"failures\" + 0.002*\"birch\" + 0.002*\"baron\" + 0.002*\"assertions\" + 0.002*\"candour\" + 0.002*\"scrophula\" + 0.001*\"uniformly\"\n",
      "2018-09-04 22:47:43,049 : INFO : topic diff=0.067249, rho=0.288675\n",
      "2018-09-04 22:47:44,351 : INFO : -8.805 per-word bound, 447.2 perplexity estimate based on a held-out corpus of 18 documents with 123048 words\n",
      "2018-09-04 22:47:44,351 : INFO : PROGRESS: pass 11, at document #18/18\n",
      "2018-09-04 22:47:44,427 : INFO : topic #3 (0.167): 0.002*\"humours\" + 0.002*\"pus\" + 0.002*\"organic\" + 0.002*\"smau\" + 0.002*\"god\" + 0.002*\"german\" + 0.002*\"company\" + 0.001*\"taints\" + 0.001*\"humour\" + 0.001*\"philosophy\"\n",
      "2018-09-04 22:47:44,431 : INFO : topic #1 (0.167): 0.003*\"spurious\" + 0.003*\"genuine\" + 0.002*\"circumstance\" + 0.002*\"failures\" + 0.002*\"birch\" + 0.002*\"baron\" + 0.002*\"assertions\" + 0.002*\"candour\" + 0.002*\"scrophula\" + 0.001*\"uniformly\"\n",
      "2018-09-04 22:47:44,431 : INFO : topic #2 (0.167): 0.009*\"areola\" + 0.009*\"pustule\" + 0.004*\"phenomena\" + 0.004*\"vesicles\" + 0.004*\"bryce\" + 0.004*\"inflammation\" + 0.004*\"affection\" + 0.003*\"pus\" + 0.003*\"scab\" + 0.003*\"oldest\"\n"
     ]
    },
    {
     "name": "stderr",
     "output_type": "stream",
     "text": [
      "2018-09-04 22:47:44,431 : INFO : topic #5 (0.167): 0.039*\"leicester\" + 0.012*\"table\" + 0.007*\"commission\" + 0.005*\"fatality\" + 0.004*\"toxin\" + 0.004*\"calf\" + 0.003*\"percentage\" + 0.003*\"serum\" + 0.003*\"diphtheria\" + 0.002*\"tuberculosis\"\n",
      "2018-09-04 22:47:44,435 : INFO : topic #4 (0.167): 0.035*\"smallpox\" + 0.006*\"talk\" + 0.004*\"inquirer\" + 0.003*\"hygiene\" + 0.002*\"germany\" + 0.002*\"hat\" + 0.002*\"switzerland\" + 0.002*\"german\" + 0.002*\"cowpox\" + 0.002*\"sore\"\n",
      "2018-09-04 22:47:44,435 : INFO : topic diff=0.050889, rho=0.277350\n",
      "2018-09-04 22:47:45,745 : INFO : -8.804 per-word bound, 446.9 perplexity estimate based on a held-out corpus of 18 documents with 123048 words\n",
      "2018-09-04 22:47:45,745 : INFO : PROGRESS: pass 12, at document #18/18\n",
      "2018-09-04 22:47:45,813 : INFO : topic #1 (0.167): 0.003*\"spurious\" + 0.003*\"genuine\" + 0.002*\"circumstance\" + 0.002*\"failures\" + 0.002*\"birch\" + 0.002*\"baron\" + 0.002*\"assertions\" + 0.002*\"candour\" + 0.002*\"scrophula\" + 0.001*\"uniformly\"\n",
      "2018-09-04 22:47:45,813 : INFO : topic #2 (0.167): 0.009*\"areola\" + 0.009*\"pustule\" + 0.004*\"phenomena\" + 0.004*\"vesicles\" + 0.004*\"bryce\" + 0.004*\"inflammation\" + 0.004*\"affection\" + 0.003*\"pus\" + 0.003*\"scab\" + 0.003*\"oldest\"\n",
      "2018-09-04 22:47:45,813 : INFO : topic #0 (0.167): 0.042*\"smallpox\" + 0.019*\"cowpox\" + 0.003*\"pearson\" + 0.003*\"variolation\" + 0.002*\"walker\" + 0.002*\"baron\" + 0.002*\"spurious\" + 0.002*\"god\" + 0.001*\"claim\" + 0.001*\"woodville\"\n",
      "2018-09-04 22:47:45,817 : INFO : topic #4 (0.167): 0.035*\"smallpox\" + 0.006*\"talk\" + 0.004*\"inquirer\" + 0.003*\"hygiene\" + 0.002*\"germany\" + 0.002*\"hat\" + 0.002*\"switzerland\" + 0.002*\"german\" + 0.002*\"sore\" + 0.002*\"cowpox\"\n",
      "2018-09-04 22:47:45,817 : INFO : topic #3 (0.167): 0.002*\"humours\" + 0.002*\"pus\" + 0.002*\"organic\" + 0.002*\"smau\" + 0.002*\"god\" + 0.002*\"german\" + 0.002*\"company\" + 0.001*\"taints\" + 0.001*\"humour\" + 0.001*\"philosophy\"\n",
      "2018-09-04 22:47:45,821 : INFO : topic diff=0.038811, rho=0.267261\n",
      "2018-09-04 22:47:47,099 : INFO : -8.803 per-word bound, 446.6 perplexity estimate based on a held-out corpus of 18 documents with 123048 words\n",
      "2018-09-04 22:47:47,103 : INFO : PROGRESS: pass 13, at document #18/18\n",
      "2018-09-04 22:47:47,175 : INFO : topic #4 (0.167): 0.035*\"smallpox\" + 0.006*\"talk\" + 0.004*\"inquirer\" + 0.003*\"hygiene\" + 0.002*\"germany\" + 0.002*\"hat\" + 0.002*\"switzerland\" + 0.002*\"german\" + 0.002*\"sore\" + 0.002*\"cowpox\"\n",
      "2018-09-04 22:47:47,175 : INFO : topic #0 (0.167): 0.042*\"smallpox\" + 0.019*\"cowpox\" + 0.003*\"pearson\" + 0.003*\"variolation\" + 0.002*\"walker\" + 0.002*\"baron\" + 0.002*\"spurious\" + 0.002*\"god\" + 0.001*\"claim\" + 0.001*\"woodville\"\n",
      "2018-09-04 22:47:47,179 : INFO : topic #1 (0.167): 0.003*\"spurious\" + 0.003*\"genuine\" + 0.002*\"circumstance\" + 0.002*\"failures\" + 0.002*\"birch\" + 0.002*\"baron\" + 0.002*\"assertions\" + 0.002*\"candour\" + 0.002*\"scrophula\" + 0.001*\"uniformly\"\n",
      "2018-09-04 22:47:47,179 : INFO : topic #5 (0.167): 0.039*\"leicester\" + 0.012*\"table\" + 0.007*\"commission\" + 0.005*\"fatality\" + 0.004*\"toxin\" + 0.004*\"calf\" + 0.003*\"percentage\" + 0.003*\"serum\" + 0.003*\"diphtheria\" + 0.002*\"tuberculosis\"\n",
      "2018-09-04 22:47:47,179 : INFO : topic #2 (0.167): 0.009*\"areola\" + 0.009*\"pustule\" + 0.004*\"phenomena\" + 0.004*\"vesicles\" + 0.004*\"bryce\" + 0.004*\"inflammation\" + 0.004*\"affection\" + 0.003*\"pus\" + 0.003*\"scab\" + 0.003*\"oldest\"\n",
      "2018-09-04 22:47:47,183 : INFO : topic diff=0.029890, rho=0.258199\n",
      "2018-09-04 22:47:48,465 : INFO : -8.802 per-word bound, 446.5 perplexity estimate based on a held-out corpus of 18 documents with 123048 words\n",
      "2018-09-04 22:47:48,465 : INFO : PROGRESS: pass 14, at document #18/18\n",
      "2018-09-04 22:47:48,537 : INFO : topic #1 (0.167): 0.003*\"spurious\" + 0.003*\"genuine\" + 0.002*\"circumstance\" + 0.002*\"failures\" + 0.002*\"birch\" + 0.002*\"baron\" + 0.002*\"assertions\" + 0.002*\"candour\" + 0.002*\"scrophula\" + 0.001*\"uniformly\"\n",
      "2018-09-04 22:47:48,537 : INFO : topic #4 (0.167): 0.035*\"smallpox\" + 0.006*\"talk\" + 0.004*\"inquirer\" + 0.003*\"hygiene\" + 0.002*\"germany\" + 0.002*\"hat\" + 0.002*\"switzerland\" + 0.002*\"german\" + 0.002*\"sore\" + 0.002*\"dresden\"\n",
      "2018-09-04 22:47:48,541 : INFO : topic #3 (0.167): 0.002*\"humours\" + 0.002*\"pus\" + 0.002*\"organic\" + 0.002*\"smau\" + 0.002*\"god\" + 0.002*\"german\" + 0.002*\"company\" + 0.002*\"taints\" + 0.001*\"philosophy\" + 0.001*\"humour\"\n",
      "2018-09-04 22:47:48,541 : INFO : topic #2 (0.167): 0.009*\"areola\" + 0.009*\"pustule\" + 0.004*\"vesicles\" + 0.004*\"phenomena\" + 0.004*\"bryce\" + 0.004*\"inflammation\" + 0.004*\"affection\" + 0.003*\"pus\" + 0.003*\"scab\" + 0.003*\"oldest\"\n",
      "2018-09-04 22:47:48,541 : INFO : topic #5 (0.167): 0.039*\"leicester\" + 0.012*\"table\" + 0.007*\"commission\" + 0.005*\"fatality\" + 0.004*\"toxin\" + 0.004*\"calf\" + 0.003*\"percentage\" + 0.003*\"serum\" + 0.003*\"diphtheria\" + 0.002*\"tuberculosis\"\n",
      "2018-09-04 22:47:48,545 : INFO : topic diff=0.023285, rho=0.250000\n",
      "2018-09-04 22:47:49,863 : INFO : -8.802 per-word bound, 446.3 perplexity estimate based on a held-out corpus of 18 documents with 123048 words\n",
      "2018-09-04 22:47:49,863 : INFO : PROGRESS: pass 15, at document #18/18\n",
      "2018-09-04 22:47:49,935 : INFO : topic #3 (0.167): 0.002*\"humours\" + 0.002*\"pus\" + 0.002*\"organic\" + 0.002*\"smau\" + 0.002*\"god\" + 0.002*\"german\" + 0.002*\"company\" + 0.002*\"taints\" + 0.001*\"philosophy\" + 0.001*\"humour\"\n",
      "2018-09-04 22:47:49,935 : INFO : topic #5 (0.167): 0.039*\"leicester\" + 0.012*\"table\" + 0.007*\"commission\" + 0.005*\"fatality\" + 0.004*\"toxin\" + 0.004*\"calf\" + 0.003*\"percentage\" + 0.003*\"serum\" + 0.003*\"diphtheria\" + 0.002*\"tuberculosis\"\n",
      "2018-09-04 22:47:49,935 : INFO : topic #2 (0.167): 0.009*\"areola\" + 0.009*\"pustule\" + 0.004*\"vesicles\" + 0.004*\"phenomena\" + 0.004*\"bryce\" + 0.004*\"inflammation\" + 0.004*\"affection\" + 0.003*\"pus\" + 0.003*\"scab\" + 0.003*\"oldest\"\n",
      "2018-09-04 22:47:49,939 : INFO : topic #1 (0.167): 0.003*\"spurious\" + 0.003*\"genuine\" + 0.002*\"circumstance\" + 0.002*\"failures\" + 0.002*\"birch\" + 0.002*\"baron\" + 0.002*\"assertions\" + 0.002*\"candour\" + 0.002*\"scrophula\" + 0.001*\"uniformly\"\n",
      "2018-09-04 22:47:49,939 : INFO : topic #4 (0.167): 0.035*\"smallpox\" + 0.006*\"talk\" + 0.004*\"inquirer\" + 0.003*\"hygiene\" + 0.002*\"germany\" + 0.002*\"hat\" + 0.002*\"switzerland\" + 0.002*\"german\" + 0.002*\"sore\" + 0.002*\"dresden\"\n",
      "2018-09-04 22:47:49,939 : INFO : topic diff=0.018384, rho=0.242536\n",
      "2018-09-04 22:47:51,227 : INFO : -8.802 per-word bound, 446.2 perplexity estimate based on a held-out corpus of 18 documents with 123048 words\n",
      "2018-09-04 22:47:51,227 : INFO : PROGRESS: pass 16, at document #18/18\n",
      "2018-09-04 22:47:51,295 : INFO : topic #0 (0.167): 0.042*\"smallpox\" + 0.019*\"cowpox\" + 0.003*\"pearson\" + 0.003*\"variolation\" + 0.002*\"walker\" + 0.002*\"baron\" + 0.002*\"spurious\" + 0.002*\"god\" + 0.001*\"claim\" + 0.001*\"woodville\"\n",
      "2018-09-04 22:47:51,295 : INFO : topic #4 (0.167): 0.035*\"smallpox\" + 0.006*\"talk\" + 0.004*\"inquirer\" + 0.003*\"hygiene\" + 0.002*\"germany\" + 0.002*\"hat\" + 0.002*\"switzerland\" + 0.002*\"german\" + 0.002*\"sore\" + 0.002*\"dresden\"\n",
      "2018-09-04 22:47:51,299 : INFO : topic #5 (0.167): 0.039*\"leicester\" + 0.012*\"table\" + 0.007*\"commission\" + 0.005*\"fatality\" + 0.004*\"toxin\" + 0.004*\"calf\" + 0.003*\"percentage\" + 0.003*\"serum\" + 0.003*\"diphtheria\" + 0.002*\"tuberculosis\"\n",
      "2018-09-04 22:47:51,299 : INFO : topic #2 (0.167): 0.009*\"areola\" + 0.009*\"pustule\" + 0.004*\"vesicles\" + 0.004*\"phenomena\" + 0.004*\"bryce\" + 0.004*\"inflammation\" + 0.004*\"affection\" + 0.003*\"pus\" + 0.003*\"scab\" + 0.003*\"oldest\"\n",
      "2018-09-04 22:47:51,299 : INFO : topic #1 (0.167): 0.003*\"spurious\" + 0.003*\"genuine\" + 0.002*\"circumstance\" + 0.002*\"failures\" + 0.002*\"birch\" + 0.002*\"baron\" + 0.002*\"assertions\" + 0.002*\"candour\" + 0.002*\"scrophula\" + 0.001*\"uniformly\"\n",
      "2018-09-04 22:47:51,303 : INFO : topic diff=0.014718, rho=0.235702\n",
      "2018-09-04 22:47:52,617 : INFO : -8.801 per-word bound, 446.1 perplexity estimate based on a held-out corpus of 18 documents with 123048 words\n",
      "2018-09-04 22:47:52,617 : INFO : PROGRESS: pass 17, at document #18/18\n",
      "2018-09-04 22:47:52,685 : INFO : topic #4 (0.167): 0.035*\"smallpox\" + 0.006*\"talk\" + 0.004*\"inquirer\" + 0.003*\"hygiene\" + 0.002*\"germany\" + 0.002*\"hat\" + 0.002*\"switzerland\" + 0.002*\"german\" + 0.002*\"sore\" + 0.002*\"dresden\"\n",
      "2018-09-04 22:47:52,689 : INFO : topic #5 (0.167): 0.039*\"leicester\" + 0.012*\"table\" + 0.007*\"commission\" + 0.005*\"fatality\" + 0.004*\"toxin\" + 0.004*\"calf\" + 0.003*\"percentage\" + 0.003*\"serum\" + 0.003*\"diphtheria\" + 0.002*\"tuberculosis\"\n"
     ]
    },
    {
     "name": "stderr",
     "output_type": "stream",
     "text": [
      "2018-09-04 22:47:52,689 : INFO : topic #3 (0.167): 0.002*\"humours\" + 0.002*\"pus\" + 0.002*\"organic\" + 0.002*\"smau\" + 0.002*\"god\" + 0.002*\"german\" + 0.002*\"company\" + 0.002*\"taints\" + 0.001*\"philosophy\" + 0.001*\"humour\"\n",
      "2018-09-04 22:47:52,689 : INFO : topic #1 (0.167): 0.003*\"spurious\" + 0.003*\"genuine\" + 0.002*\"circumstance\" + 0.002*\"failures\" + 0.002*\"birch\" + 0.002*\"baron\" + 0.002*\"assertions\" + 0.002*\"candour\" + 0.002*\"scrophula\" + 0.001*\"uniformly\"\n",
      "2018-09-04 22:47:52,693 : INFO : topic #0 (0.167): 0.042*\"smallpox\" + 0.019*\"cowpox\" + 0.003*\"pearson\" + 0.003*\"variolation\" + 0.002*\"walker\" + 0.002*\"baron\" + 0.002*\"spurious\" + 0.002*\"god\" + 0.001*\"claim\" + 0.001*\"woodville\"\n",
      "2018-09-04 22:47:52,693 : INFO : topic diff=0.011972, rho=0.229416\n",
      "2018-09-04 22:47:54,015 : INFO : -8.801 per-word bound, 446.1 perplexity estimate based on a held-out corpus of 18 documents with 123048 words\n",
      "2018-09-04 22:47:54,019 : INFO : PROGRESS: pass 18, at document #18/18\n",
      "2018-09-04 22:47:54,083 : INFO : topic #4 (0.167): 0.035*\"smallpox\" + 0.006*\"talk\" + 0.004*\"inquirer\" + 0.003*\"hygiene\" + 0.002*\"germany\" + 0.002*\"hat\" + 0.002*\"switzerland\" + 0.002*\"german\" + 0.002*\"sore\" + 0.002*\"dresden\"\n",
      "2018-09-04 22:47:54,083 : INFO : topic #1 (0.167): 0.003*\"spurious\" + 0.003*\"genuine\" + 0.002*\"circumstance\" + 0.002*\"failures\" + 0.002*\"birch\" + 0.002*\"baron\" + 0.002*\"assertions\" + 0.002*\"candour\" + 0.002*\"scrophula\" + 0.001*\"uniformly\"\n",
      "2018-09-04 22:47:54,083 : INFO : topic #3 (0.167): 0.002*\"humours\" + 0.002*\"pus\" + 0.002*\"organic\" + 0.002*\"smau\" + 0.002*\"god\" + 0.002*\"german\" + 0.002*\"company\" + 0.002*\"taints\" + 0.001*\"philosophy\" + 0.001*\"humour\"\n",
      "2018-09-04 22:47:54,087 : INFO : topic #5 (0.167): 0.039*\"leicester\" + 0.012*\"table\" + 0.007*\"commission\" + 0.005*\"fatality\" + 0.004*\"toxin\" + 0.004*\"calf\" + 0.003*\"percentage\" + 0.003*\"serum\" + 0.003*\"diphtheria\" + 0.002*\"tuberculosis\"\n",
      "2018-09-04 22:47:54,087 : INFO : topic #0 (0.167): 0.042*\"smallpox\" + 0.019*\"cowpox\" + 0.003*\"pearson\" + 0.003*\"variolation\" + 0.002*\"walker\" + 0.002*\"baron\" + 0.002*\"spurious\" + 0.002*\"god\" + 0.001*\"claim\" + 0.001*\"woodville\"\n",
      "2018-09-04 22:47:54,087 : INFO : topic diff=0.009901, rho=0.223607\n",
      "2018-09-04 22:47:55,393 : INFO : -8.801 per-word bound, 446.0 perplexity estimate based on a held-out corpus of 18 documents with 123048 words\n",
      "2018-09-04 22:47:55,393 : INFO : PROGRESS: pass 19, at document #18/18\n",
      "2018-09-04 22:47:55,461 : INFO : topic #5 (0.167): 0.040*\"leicester\" + 0.012*\"table\" + 0.007*\"commission\" + 0.005*\"fatality\" + 0.004*\"toxin\" + 0.004*\"calf\" + 0.003*\"percentage\" + 0.003*\"serum\" + 0.003*\"diphtheria\" + 0.002*\"tuberculosis\"\n",
      "2018-09-04 22:47:55,461 : INFO : topic #2 (0.167): 0.010*\"areola\" + 0.009*\"pustule\" + 0.004*\"vesicles\" + 0.004*\"phenomena\" + 0.004*\"bryce\" + 0.004*\"inflammation\" + 0.004*\"affection\" + 0.003*\"pus\" + 0.003*\"scab\" + 0.003*\"oldest\"\n",
      "2018-09-04 22:47:55,461 : INFO : topic #1 (0.167): 0.003*\"spurious\" + 0.003*\"genuine\" + 0.002*\"circumstance\" + 0.002*\"failures\" + 0.002*\"birch\" + 0.002*\"baron\" + 0.002*\"assertions\" + 0.002*\"candour\" + 0.002*\"scrophula\" + 0.002*\"uniformly\"\n",
      "2018-09-04 22:47:55,465 : INFO : topic #4 (0.167): 0.035*\"smallpox\" + 0.006*\"talk\" + 0.004*\"inquirer\" + 0.003*\"hygiene\" + 0.002*\"germany\" + 0.002*\"hat\" + 0.002*\"switzerland\" + 0.002*\"german\" + 0.002*\"sore\" + 0.002*\"dresden\"\n",
      "2018-09-04 22:47:55,465 : INFO : topic #0 (0.167): 0.042*\"smallpox\" + 0.019*\"cowpox\" + 0.003*\"pearson\" + 0.003*\"variolation\" + 0.002*\"walker\" + 0.002*\"baron\" + 0.002*\"spurious\" + 0.002*\"god\" + 0.001*\"claim\" + 0.001*\"woodville\"\n",
      "2018-09-04 22:47:55,465 : INFO : topic diff=0.008336, rho=0.218218\n",
      "2018-09-04 22:47:56,751 : INFO : -8.801 per-word bound, 445.9 perplexity estimate based on a held-out corpus of 18 documents with 123048 words\n",
      "2018-09-04 22:47:56,751 : INFO : PROGRESS: pass 20, at document #18/18\n",
      "2018-09-04 22:47:56,819 : INFO : topic #1 (0.167): 0.003*\"spurious\" + 0.003*\"genuine\" + 0.002*\"circumstance\" + 0.002*\"failures\" + 0.002*\"birch\" + 0.002*\"baron\" + 0.002*\"assertions\" + 0.002*\"candour\" + 0.002*\"scrophula\" + 0.002*\"uniformly\"\n",
      "2018-09-04 22:47:56,819 : INFO : topic #0 (0.167): 0.042*\"smallpox\" + 0.019*\"cowpox\" + 0.003*\"pearson\" + 0.003*\"variolation\" + 0.002*\"walker\" + 0.002*\"baron\" + 0.002*\"spurious\" + 0.002*\"god\" + 0.001*\"claim\" + 0.001*\"woodville\"\n",
      "2018-09-04 22:47:56,823 : INFO : topic #4 (0.167): 0.035*\"smallpox\" + 0.006*\"talk\" + 0.004*\"inquirer\" + 0.003*\"hygiene\" + 0.002*\"germany\" + 0.002*\"hat\" + 0.002*\"switzerland\" + 0.002*\"german\" + 0.002*\"sore\" + 0.002*\"dresden\"\n",
      "2018-09-04 22:47:56,823 : INFO : topic #3 (0.167): 0.002*\"humours\" + 0.002*\"pus\" + 0.002*\"organic\" + 0.002*\"smau\" + 0.002*\"god\" + 0.002*\"german\" + 0.002*\"company\" + 0.002*\"taints\" + 0.001*\"philosophy\" + 0.001*\"humour\"\n",
      "2018-09-04 22:47:56,823 : INFO : topic #5 (0.167): 0.040*\"leicester\" + 0.012*\"table\" + 0.007*\"commission\" + 0.005*\"fatality\" + 0.004*\"toxin\" + 0.004*\"calf\" + 0.003*\"percentage\" + 0.003*\"serum\" + 0.003*\"diphtheria\" + 0.002*\"tuberculosis\"\n",
      "2018-09-04 22:47:56,827 : INFO : topic diff=0.007143, rho=0.213201\n",
      "2018-09-04 22:47:58,114 : INFO : -8.800 per-word bound, 445.9 perplexity estimate based on a held-out corpus of 18 documents with 123048 words\n",
      "2018-09-04 22:47:58,118 : INFO : PROGRESS: pass 21, at document #18/18\n",
      "2018-09-04 22:47:58,186 : INFO : topic #2 (0.167): 0.010*\"areola\" + 0.009*\"pustule\" + 0.004*\"vesicles\" + 0.004*\"phenomena\" + 0.004*\"bryce\" + 0.004*\"inflammation\" + 0.004*\"affection\" + 0.003*\"pus\" + 0.003*\"scab\" + 0.003*\"oldest\"\n",
      "2018-09-04 22:47:58,186 : INFO : topic #5 (0.167): 0.040*\"leicester\" + 0.012*\"table\" + 0.007*\"commission\" + 0.005*\"fatality\" + 0.004*\"toxin\" + 0.004*\"calf\" + 0.003*\"percentage\" + 0.003*\"serum\" + 0.003*\"diphtheria\" + 0.002*\"tuberculosis\"\n",
      "2018-09-04 22:47:58,186 : INFO : topic #3 (0.167): 0.002*\"humours\" + 0.002*\"pus\" + 0.002*\"organic\" + 0.002*\"smau\" + 0.002*\"god\" + 0.002*\"german\" + 0.002*\"company\" + 0.002*\"taints\" + 0.001*\"philosophy\" + 0.001*\"humour\"\n",
      "2018-09-04 22:47:58,186 : INFO : topic #1 (0.167): 0.003*\"spurious\" + 0.003*\"genuine\" + 0.002*\"circumstance\" + 0.002*\"failures\" + 0.002*\"birch\" + 0.002*\"baron\" + 0.002*\"assertions\" + 0.002*\"candour\" + 0.002*\"scrophula\" + 0.002*\"uniformly\"\n",
      "2018-09-04 22:47:58,190 : INFO : topic #4 (0.167): 0.035*\"smallpox\" + 0.006*\"talk\" + 0.004*\"inquirer\" + 0.003*\"hygiene\" + 0.002*\"germany\" + 0.002*\"hat\" + 0.002*\"switzerland\" + 0.002*\"german\" + 0.002*\"sore\" + 0.002*\"dresden\"\n",
      "2018-09-04 22:47:58,190 : INFO : topic diff=0.006224, rho=0.208514\n",
      "2018-09-04 22:47:59,484 : INFO : -8.800 per-word bound, 445.8 perplexity estimate based on a held-out corpus of 18 documents with 123048 words\n",
      "2018-09-04 22:47:59,488 : INFO : PROGRESS: pass 22, at document #18/18\n",
      "2018-09-04 22:47:59,552 : INFO : topic #2 (0.167): 0.010*\"areola\" + 0.009*\"pustule\" + 0.004*\"vesicles\" + 0.004*\"phenomena\" + 0.004*\"bryce\" + 0.004*\"inflammation\" + 0.004*\"affection\" + 0.003*\"pus\" + 0.003*\"scab\" + 0.003*\"oldest\"\n",
      "2018-09-04 22:47:59,556 : INFO : topic #4 (0.167): 0.035*\"smallpox\" + 0.006*\"talk\" + 0.004*\"inquirer\" + 0.003*\"hygiene\" + 0.002*\"germany\" + 0.002*\"hat\" + 0.002*\"switzerland\" + 0.002*\"german\" + 0.002*\"sore\" + 0.002*\"dresden\"\n",
      "2018-09-04 22:47:59,556 : INFO : topic #1 (0.167): 0.003*\"spurious\" + 0.003*\"genuine\" + 0.002*\"circumstance\" + 0.002*\"failures\" + 0.002*\"birch\" + 0.002*\"baron\" + 0.002*\"assertions\" + 0.002*\"candour\" + 0.002*\"scrophula\" + 0.002*\"uniformly\"\n",
      "2018-09-04 22:47:59,556 : INFO : topic #3 (0.167): 0.002*\"humours\" + 0.002*\"pus\" + 0.002*\"organic\" + 0.002*\"smau\" + 0.002*\"god\" + 0.002*\"german\" + 0.002*\"company\" + 0.002*\"taints\" + 0.001*\"philosophy\" + 0.001*\"humour\"\n",
      "2018-09-04 22:47:59,560 : INFO : topic #5 (0.167): 0.040*\"leicester\" + 0.012*\"table\" + 0.007*\"commission\" + 0.005*\"fatality\" + 0.004*\"toxin\" + 0.004*\"calf\" + 0.003*\"percentage\" + 0.003*\"serum\" + 0.003*\"diphtheria\" + 0.002*\"tuberculosis\"\n",
      "2018-09-04 22:47:59,560 : INFO : topic diff=0.005523, rho=0.204124\n",
      "2018-09-04 22:48:00,858 : INFO : -8.800 per-word bound, 445.8 perplexity estimate based on a held-out corpus of 18 documents with 123048 words\n",
      "2018-09-04 22:48:00,858 : INFO : PROGRESS: pass 23, at document #18/18\n",
      "2018-09-04 22:48:00,922 : INFO : topic #1 (0.167): 0.003*\"spurious\" + 0.003*\"genuine\" + 0.002*\"circumstance\" + 0.002*\"failures\" + 0.002*\"birch\" + 0.002*\"baron\" + 0.002*\"assertions\" + 0.002*\"candour\" + 0.002*\"scrophula\" + 0.002*\"uniformly\"\n"
     ]
    },
    {
     "name": "stderr",
     "output_type": "stream",
     "text": [
      "2018-09-04 22:48:00,926 : INFO : topic #0 (0.167): 0.042*\"smallpox\" + 0.019*\"cowpox\" + 0.003*\"pearson\" + 0.003*\"variolation\" + 0.002*\"walker\" + 0.002*\"baron\" + 0.002*\"spurious\" + 0.002*\"god\" + 0.001*\"claim\" + 0.001*\"woodville\"\n",
      "2018-09-04 22:48:00,926 : INFO : topic #3 (0.167): 0.002*\"humours\" + 0.002*\"pus\" + 0.002*\"organic\" + 0.002*\"smau\" + 0.002*\"god\" + 0.002*\"german\" + 0.002*\"company\" + 0.002*\"taints\" + 0.001*\"philosophy\" + 0.001*\"humour\"\n",
      "2018-09-04 22:48:00,926 : INFO : topic #2 (0.167): 0.010*\"areola\" + 0.009*\"pustule\" + 0.004*\"vesicles\" + 0.004*\"phenomena\" + 0.004*\"bryce\" + 0.004*\"inflammation\" + 0.004*\"affection\" + 0.003*\"pus\" + 0.003*\"scab\" + 0.003*\"oldest\"\n",
      "2018-09-04 22:48:00,930 : INFO : topic #5 (0.167): 0.040*\"leicester\" + 0.012*\"table\" + 0.007*\"commission\" + 0.005*\"fatality\" + 0.004*\"toxin\" + 0.004*\"calf\" + 0.003*\"percentage\" + 0.003*\"serum\" + 0.003*\"diphtheria\" + 0.002*\"tuberculosis\"\n",
      "2018-09-04 22:48:00,930 : INFO : topic diff=0.004979, rho=0.200000\n",
      "2018-09-04 22:48:02,264 : INFO : -8.800 per-word bound, 445.7 perplexity estimate based on a held-out corpus of 18 documents with 123048 words\n",
      "2018-09-04 22:48:02,268 : INFO : PROGRESS: pass 24, at document #18/18\n",
      "2018-09-04 22:48:02,336 : INFO : topic #5 (0.167): 0.040*\"leicester\" + 0.012*\"table\" + 0.007*\"commission\" + 0.005*\"fatality\" + 0.004*\"toxin\" + 0.004*\"calf\" + 0.003*\"percentage\" + 0.003*\"diphtheria\" + 0.003*\"serum\" + 0.002*\"tuberculosis\"\n",
      "2018-09-04 22:48:02,336 : INFO : topic #3 (0.167): 0.002*\"humours\" + 0.002*\"pus\" + 0.002*\"organic\" + 0.002*\"smau\" + 0.002*\"god\" + 0.002*\"german\" + 0.002*\"company\" + 0.002*\"taints\" + 0.001*\"philosophy\" + 0.001*\"humour\"\n",
      "2018-09-04 22:48:02,336 : INFO : topic #4 (0.167): 0.035*\"smallpox\" + 0.006*\"talk\" + 0.004*\"inquirer\" + 0.003*\"hygiene\" + 0.002*\"germany\" + 0.002*\"hat\" + 0.002*\"switzerland\" + 0.002*\"german\" + 0.002*\"sore\" + 0.002*\"dresden\"\n",
      "2018-09-04 22:48:02,340 : INFO : topic #2 (0.167): 0.010*\"areola\" + 0.009*\"pustule\" + 0.004*\"vesicles\" + 0.004*\"phenomena\" + 0.004*\"bryce\" + 0.004*\"inflammation\" + 0.004*\"affection\" + 0.003*\"pus\" + 0.003*\"scab\" + 0.003*\"oldest\"\n",
      "2018-09-04 22:48:02,340 : INFO : topic #0 (0.167): 0.042*\"smallpox\" + 0.019*\"cowpox\" + 0.003*\"pearson\" + 0.003*\"variolation\" + 0.002*\"walker\" + 0.002*\"baron\" + 0.002*\"spurious\" + 0.002*\"god\" + 0.001*\"claim\" + 0.001*\"woodville\"\n",
      "2018-09-04 22:48:02,344 : INFO : topic diff=0.004561, rho=0.196116\n",
      "2018-09-04 22:48:03,638 : INFO : -8.800 per-word bound, 445.7 perplexity estimate based on a held-out corpus of 18 documents with 123048 words\n",
      "2018-09-04 22:48:03,638 : INFO : PROGRESS: pass 25, at document #18/18\n",
      "2018-09-04 22:48:03,706 : INFO : topic #3 (0.167): 0.002*\"humours\" + 0.002*\"pus\" + 0.002*\"organic\" + 0.002*\"smau\" + 0.002*\"god\" + 0.002*\"german\" + 0.002*\"company\" + 0.002*\"taints\" + 0.001*\"philosophy\" + 0.001*\"humour\"\n",
      "2018-09-04 22:48:03,706 : INFO : topic #5 (0.167): 0.040*\"leicester\" + 0.012*\"table\" + 0.007*\"commission\" + 0.005*\"fatality\" + 0.004*\"toxin\" + 0.004*\"calf\" + 0.003*\"percentage\" + 0.003*\"diphtheria\" + 0.003*\"serum\" + 0.002*\"tuberculosis\"\n",
      "2018-09-04 22:48:03,706 : INFO : topic #0 (0.167): 0.042*\"smallpox\" + 0.019*\"cowpox\" + 0.003*\"pearson\" + 0.003*\"variolation\" + 0.002*\"walker\" + 0.002*\"baron\" + 0.002*\"spurious\" + 0.002*\"god\" + 0.001*\"claim\" + 0.001*\"woodville\"\n",
      "2018-09-04 22:48:03,706 : INFO : topic #4 (0.167): 0.035*\"smallpox\" + 0.006*\"talk\" + 0.004*\"inquirer\" + 0.003*\"hygiene\" + 0.002*\"germany\" + 0.002*\"switzerland\" + 0.002*\"hat\" + 0.002*\"german\" + 0.002*\"sore\" + 0.002*\"dresden\"\n",
      "2018-09-04 22:48:03,710 : INFO : topic #1 (0.167): 0.003*\"spurious\" + 0.003*\"genuine\" + 0.002*\"circumstance\" + 0.002*\"failures\" + 0.002*\"birch\" + 0.002*\"baron\" + 0.002*\"assertions\" + 0.002*\"candour\" + 0.002*\"scrophula\" + 0.002*\"uniformly\"\n",
      "2018-09-04 22:48:03,710 : INFO : topic diff=0.004232, rho=0.192450\n",
      "2018-09-04 22:48:05,008 : INFO : -8.800 per-word bound, 445.6 perplexity estimate based on a held-out corpus of 18 documents with 123048 words\n",
      "2018-09-04 22:48:05,008 : INFO : PROGRESS: pass 26, at document #18/18\n",
      "2018-09-04 22:48:05,076 : INFO : topic #3 (0.167): 0.002*\"humours\" + 0.002*\"pus\" + 0.002*\"organic\" + 0.002*\"smau\" + 0.002*\"god\" + 0.002*\"german\" + 0.002*\"company\" + 0.002*\"taints\" + 0.001*\"philosophy\" + 0.001*\"humour\"\n",
      "2018-09-04 22:48:05,076 : INFO : topic #5 (0.167): 0.040*\"leicester\" + 0.012*\"table\" + 0.007*\"commission\" + 0.005*\"fatality\" + 0.004*\"toxin\" + 0.004*\"calf\" + 0.003*\"percentage\" + 0.003*\"diphtheria\" + 0.003*\"serum\" + 0.002*\"tuberculosis\"\n",
      "2018-09-04 22:48:05,080 : INFO : topic #1 (0.167): 0.003*\"spurious\" + 0.003*\"genuine\" + 0.002*\"circumstance\" + 0.002*\"failures\" + 0.002*\"birch\" + 0.002*\"baron\" + 0.002*\"assertions\" + 0.002*\"candour\" + 0.002*\"scrophula\" + 0.002*\"uniformly\"\n",
      "2018-09-04 22:48:05,080 : INFO : topic #0 (0.167): 0.041*\"smallpox\" + 0.019*\"cowpox\" + 0.003*\"pearson\" + 0.003*\"variolation\" + 0.002*\"walker\" + 0.002*\"baron\" + 0.002*\"spurious\" + 0.002*\"god\" + 0.001*\"claim\" + 0.001*\"woodville\"\n",
      "2018-09-04 22:48:05,080 : INFO : topic #4 (0.167): 0.035*\"smallpox\" + 0.006*\"talk\" + 0.004*\"inquirer\" + 0.003*\"hygiene\" + 0.002*\"germany\" + 0.002*\"switzerland\" + 0.002*\"hat\" + 0.002*\"german\" + 0.002*\"sore\" + 0.002*\"dresden\"\n",
      "2018-09-04 22:48:05,080 : INFO : topic diff=0.003982, rho=0.188982\n",
      "2018-09-04 22:48:06,395 : INFO : -8.799 per-word bound, 445.6 perplexity estimate based on a held-out corpus of 18 documents with 123048 words\n",
      "2018-09-04 22:48:06,395 : INFO : PROGRESS: pass 27, at document #18/18\n",
      "2018-09-04 22:48:06,458 : INFO : topic #3 (0.167): 0.002*\"humours\" + 0.002*\"pus\" + 0.002*\"organic\" + 0.002*\"smau\" + 0.002*\"god\" + 0.002*\"german\" + 0.002*\"company\" + 0.002*\"taints\" + 0.001*\"philosophy\" + 0.001*\"humour\"\n",
      "2018-09-04 22:48:06,458 : INFO : topic #4 (0.167): 0.035*\"smallpox\" + 0.006*\"talk\" + 0.004*\"inquirer\" + 0.003*\"hygiene\" + 0.002*\"germany\" + 0.002*\"switzerland\" + 0.002*\"hat\" + 0.002*\"german\" + 0.002*\"sore\" + 0.002*\"dresden\"\n",
      "2018-09-04 22:48:06,462 : INFO : topic #2 (0.167): 0.010*\"areola\" + 0.009*\"pustule\" + 0.004*\"vesicles\" + 0.004*\"bryce\" + 0.004*\"phenomena\" + 0.004*\"inflammation\" + 0.004*\"affection\" + 0.004*\"pus\" + 0.003*\"scab\" + 0.003*\"oldest\"\n",
      "2018-09-04 22:48:06,462 : INFO : topic #0 (0.167): 0.041*\"smallpox\" + 0.019*\"cowpox\" + 0.003*\"pearson\" + 0.003*\"variolation\" + 0.002*\"walker\" + 0.002*\"baron\" + 0.002*\"spurious\" + 0.002*\"god\" + 0.001*\"claim\" + 0.001*\"woodville\"\n",
      "2018-09-04 22:48:06,462 : INFO : topic #1 (0.167): 0.003*\"spurious\" + 0.003*\"genuine\" + 0.002*\"circumstance\" + 0.002*\"failures\" + 0.002*\"birch\" + 0.002*\"baron\" + 0.002*\"assertions\" + 0.002*\"candour\" + 0.002*\"scrophula\" + 0.002*\"uniformly\"\n",
      "2018-09-04 22:48:06,466 : INFO : topic diff=0.003784, rho=0.185695\n",
      "2018-09-04 22:48:07,785 : INFO : -8.799 per-word bound, 445.5 perplexity estimate based on a held-out corpus of 18 documents with 123048 words\n",
      "2018-09-04 22:48:07,785 : INFO : PROGRESS: pass 28, at document #18/18\n",
      "2018-09-04 22:48:07,853 : INFO : topic #1 (0.167): 0.003*\"spurious\" + 0.003*\"genuine\" + 0.002*\"circumstance\" + 0.002*\"failures\" + 0.002*\"birch\" + 0.002*\"baron\" + 0.002*\"assertions\" + 0.002*\"candour\" + 0.002*\"scrophula\" + 0.002*\"uniformly\"\n",
      "2018-09-04 22:48:07,857 : INFO : topic #5 (0.167): 0.040*\"leicester\" + 0.012*\"table\" + 0.007*\"commission\" + 0.005*\"fatality\" + 0.004*\"toxin\" + 0.004*\"calf\" + 0.003*\"percentage\" + 0.003*\"diphtheria\" + 0.003*\"serum\" + 0.002*\"tuberculosis\"\n",
      "2018-09-04 22:48:07,857 : INFO : topic #2 (0.167): 0.010*\"areola\" + 0.009*\"pustule\" + 0.004*\"vesicles\" + 0.004*\"bryce\" + 0.004*\"phenomena\" + 0.004*\"inflammation\" + 0.004*\"affection\" + 0.004*\"pus\" + 0.003*\"scab\" + 0.003*\"oldest\"\n",
      "2018-09-04 22:48:07,857 : INFO : topic #0 (0.167): 0.041*\"smallpox\" + 0.019*\"cowpox\" + 0.003*\"pearson\" + 0.003*\"variolation\" + 0.002*\"walker\" + 0.002*\"baron\" + 0.002*\"spurious\" + 0.002*\"god\" + 0.001*\"claim\" + 0.001*\"woodville\"\n",
      "2018-09-04 22:48:07,861 : INFO : topic #4 (0.167): 0.035*\"smallpox\" + 0.006*\"talk\" + 0.004*\"inquirer\" + 0.003*\"hygiene\" + 0.002*\"germany\" + 0.002*\"switzerland\" + 0.002*\"hat\" + 0.002*\"german\" + 0.002*\"sore\" + 0.002*\"dresden\"\n",
      "2018-09-04 22:48:07,861 : INFO : topic diff=0.003631, rho=0.182574\n",
      "2018-09-04 22:48:09,155 : INFO : -8.799 per-word bound, 445.5 perplexity estimate based on a held-out corpus of 18 documents with 123048 words\n"
     ]
    },
    {
     "name": "stderr",
     "output_type": "stream",
     "text": [
      "2018-09-04 22:48:09,155 : INFO : PROGRESS: pass 29, at document #18/18\n",
      "2018-09-04 22:48:09,223 : INFO : topic #4 (0.167): 0.035*\"smallpox\" + 0.006*\"talk\" + 0.004*\"inquirer\" + 0.003*\"hygiene\" + 0.002*\"germany\" + 0.002*\"switzerland\" + 0.002*\"hat\" + 0.002*\"german\" + 0.002*\"sore\" + 0.002*\"dresden\"\n",
      "2018-09-04 22:48:09,227 : INFO : topic #2 (0.167): 0.010*\"areola\" + 0.009*\"pustule\" + 0.004*\"vesicles\" + 0.004*\"bryce\" + 0.004*\"phenomena\" + 0.004*\"inflammation\" + 0.004*\"affection\" + 0.004*\"pus\" + 0.003*\"scab\" + 0.003*\"oldest\"\n",
      "2018-09-04 22:48:09,227 : INFO : topic #3 (0.167): 0.002*\"humours\" + 0.002*\"pus\" + 0.002*\"organic\" + 0.002*\"smau\" + 0.002*\"god\" + 0.002*\"german\" + 0.002*\"taints\" + 0.002*\"company\" + 0.001*\"philosophy\" + 0.001*\"humour\"\n",
      "2018-09-04 22:48:09,227 : INFO : topic #5 (0.167): 0.040*\"leicester\" + 0.012*\"table\" + 0.007*\"commission\" + 0.005*\"fatality\" + 0.004*\"toxin\" + 0.004*\"calf\" + 0.003*\"percentage\" + 0.003*\"diphtheria\" + 0.003*\"serum\" + 0.002*\"tuberculosis\"\n",
      "2018-09-04 22:48:09,227 : INFO : topic #0 (0.167): 0.041*\"smallpox\" + 0.019*\"cowpox\" + 0.003*\"pearson\" + 0.003*\"variolation\" + 0.002*\"walker\" + 0.002*\"baron\" + 0.002*\"spurious\" + 0.002*\"god\" + 0.001*\"claim\" + 0.001*\"woodville\"\n",
      "2018-09-04 22:48:09,231 : INFO : topic diff=0.003506, rho=0.179605\n",
      "2018-09-04 22:48:10,549 : INFO : -8.799 per-word bound, 445.4 perplexity estimate based on a held-out corpus of 18 documents with 123048 words\n",
      "2018-09-04 22:48:10,549 : INFO : PROGRESS: pass 30, at document #18/18\n",
      "2018-09-04 22:48:10,613 : INFO : topic #4 (0.167): 0.035*\"smallpox\" + 0.006*\"talk\" + 0.004*\"inquirer\" + 0.003*\"hygiene\" + 0.002*\"germany\" + 0.002*\"switzerland\" + 0.002*\"hat\" + 0.002*\"german\" + 0.002*\"sore\" + 0.002*\"dresden\"\n",
      "2018-09-04 22:48:10,613 : INFO : topic #5 (0.167): 0.040*\"leicester\" + 0.012*\"table\" + 0.007*\"commission\" + 0.005*\"fatality\" + 0.004*\"toxin\" + 0.004*\"calf\" + 0.003*\"percentage\" + 0.003*\"diphtheria\" + 0.003*\"serum\" + 0.002*\"tuberculosis\"\n",
      "2018-09-04 22:48:10,617 : INFO : topic #2 (0.167): 0.010*\"areola\" + 0.009*\"pustule\" + 0.004*\"vesicles\" + 0.004*\"bryce\" + 0.004*\"phenomena\" + 0.004*\"inflammation\" + 0.004*\"affection\" + 0.004*\"pus\" + 0.003*\"scab\" + 0.003*\"oldest\"\n",
      "2018-09-04 22:48:10,617 : INFO : topic #0 (0.167): 0.041*\"smallpox\" + 0.019*\"cowpox\" + 0.003*\"pearson\" + 0.003*\"variolation\" + 0.002*\"walker\" + 0.002*\"baron\" + 0.002*\"spurious\" + 0.002*\"god\" + 0.001*\"claim\" + 0.001*\"woodville\"\n",
      "2018-09-04 22:48:10,617 : INFO : topic #3 (0.167): 0.002*\"humours\" + 0.002*\"pus\" + 0.002*\"organic\" + 0.002*\"smau\" + 0.002*\"god\" + 0.002*\"german\" + 0.002*\"taints\" + 0.002*\"company\" + 0.001*\"philosophy\" + 0.001*\"humour\"\n",
      "2018-09-04 22:48:10,621 : INFO : topic diff=0.003411, rho=0.176777\n",
      "2018-09-04 22:48:11,919 : INFO : -8.799 per-word bound, 445.4 perplexity estimate based on a held-out corpus of 18 documents with 123048 words\n",
      "2018-09-04 22:48:11,919 : INFO : PROGRESS: pass 31, at document #18/18\n",
      "2018-09-04 22:48:11,983 : INFO : topic #4 (0.167): 0.035*\"smallpox\" + 0.006*\"talk\" + 0.004*\"inquirer\" + 0.003*\"hygiene\" + 0.002*\"germany\" + 0.002*\"switzerland\" + 0.002*\"hat\" + 0.002*\"german\" + 0.002*\"sore\" + 0.002*\"dresden\"\n",
      "2018-09-04 22:48:11,987 : INFO : topic #5 (0.167): 0.040*\"leicester\" + 0.012*\"table\" + 0.007*\"commission\" + 0.005*\"fatality\" + 0.004*\"toxin\" + 0.004*\"calf\" + 0.003*\"percentage\" + 0.003*\"diphtheria\" + 0.003*\"serum\" + 0.002*\"tuberculosis\"\n",
      "2018-09-04 22:48:11,987 : INFO : topic #3 (0.167): 0.002*\"humours\" + 0.002*\"pus\" + 0.002*\"organic\" + 0.002*\"smau\" + 0.002*\"god\" + 0.002*\"german\" + 0.002*\"taints\" + 0.002*\"company\" + 0.001*\"philosophy\" + 0.001*\"humour\"\n",
      "2018-09-04 22:48:11,987 : INFO : topic #1 (0.167): 0.003*\"spurious\" + 0.003*\"genuine\" + 0.002*\"circumstance\" + 0.002*\"failures\" + 0.002*\"birch\" + 0.002*\"baron\" + 0.002*\"assertions\" + 0.002*\"candour\" + 0.002*\"scrophula\" + 0.002*\"uniformly\"\n",
      "2018-09-04 22:48:11,987 : INFO : topic #0 (0.167): 0.041*\"smallpox\" + 0.019*\"cowpox\" + 0.003*\"pearson\" + 0.003*\"variolation\" + 0.002*\"walker\" + 0.002*\"baron\" + 0.002*\"spurious\" + 0.002*\"god\" + 0.001*\"claim\" + 0.001*\"woodville\"\n",
      "2018-09-04 22:48:11,991 : INFO : topic diff=0.003335, rho=0.174078\n",
      "2018-09-04 22:48:13,285 : INFO : -8.799 per-word bound, 445.3 perplexity estimate based on a held-out corpus of 18 documents with 123048 words\n",
      "2018-09-04 22:48:13,285 : INFO : PROGRESS: pass 32, at document #18/18\n",
      "2018-09-04 22:48:13,353 : INFO : topic #5 (0.167): 0.040*\"leicester\" + 0.012*\"table\" + 0.007*\"commission\" + 0.005*\"fatality\" + 0.004*\"toxin\" + 0.004*\"calf\" + 0.003*\"percentage\" + 0.003*\"diphtheria\" + 0.003*\"serum\" + 0.002*\"tuberculosis\"\n",
      "2018-09-04 22:48:13,353 : INFO : topic #4 (0.167): 0.035*\"smallpox\" + 0.006*\"talk\" + 0.004*\"inquirer\" + 0.003*\"hygiene\" + 0.002*\"germany\" + 0.002*\"switzerland\" + 0.002*\"german\" + 0.002*\"hat\" + 0.002*\"sore\" + 0.002*\"dresden\"\n",
      "2018-09-04 22:48:13,357 : INFO : topic #1 (0.167): 0.003*\"spurious\" + 0.003*\"genuine\" + 0.002*\"circumstance\" + 0.002*\"failures\" + 0.002*\"birch\" + 0.002*\"baron\" + 0.002*\"assertions\" + 0.002*\"candour\" + 0.002*\"scrophula\" + 0.002*\"enquire\"\n",
      "2018-09-04 22:48:13,357 : INFO : topic #2 (0.167): 0.010*\"areola\" + 0.009*\"pustule\" + 0.004*\"vesicles\" + 0.004*\"bryce\" + 0.004*\"phenomena\" + 0.004*\"inflammation\" + 0.004*\"affection\" + 0.004*\"pus\" + 0.003*\"scab\" + 0.003*\"oldest\"\n",
      "2018-09-04 22:48:13,357 : INFO : topic #0 (0.167): 0.041*\"smallpox\" + 0.019*\"cowpox\" + 0.003*\"pearson\" + 0.003*\"variolation\" + 0.002*\"walker\" + 0.002*\"baron\" + 0.002*\"spurious\" + 0.002*\"god\" + 0.001*\"claim\" + 0.001*\"woodville\"\n",
      "2018-09-04 22:48:13,357 : INFO : topic diff=0.003272, rho=0.171499\n",
      "2018-09-04 22:48:14,676 : INFO : -8.799 per-word bound, 445.3 perplexity estimate based on a held-out corpus of 18 documents with 123048 words\n",
      "2018-09-04 22:48:14,680 : INFO : PROGRESS: pass 33, at document #18/18\n",
      "2018-09-04 22:48:14,751 : INFO : topic #0 (0.167): 0.041*\"smallpox\" + 0.019*\"cowpox\" + 0.003*\"pearson\" + 0.003*\"variolation\" + 0.002*\"walker\" + 0.002*\"baron\" + 0.002*\"spurious\" + 0.002*\"god\" + 0.001*\"claim\" + 0.001*\"woodville\"\n",
      "2018-09-04 22:48:14,755 : INFO : topic #5 (0.167): 0.040*\"leicester\" + 0.012*\"table\" + 0.007*\"commission\" + 0.005*\"fatality\" + 0.004*\"toxin\" + 0.004*\"calf\" + 0.003*\"percentage\" + 0.003*\"diphtheria\" + 0.003*\"serum\" + 0.002*\"tuberculosis\"\n",
      "2018-09-04 22:48:14,755 : INFO : topic #1 (0.167): 0.003*\"spurious\" + 0.003*\"genuine\" + 0.002*\"circumstance\" + 0.002*\"failures\" + 0.002*\"birch\" + 0.002*\"baron\" + 0.002*\"assertions\" + 0.002*\"candour\" + 0.002*\"scrophula\" + 0.002*\"enquire\"\n",
      "2018-09-04 22:48:14,755 : INFO : topic #3 (0.167): 0.002*\"humours\" + 0.002*\"pus\" + 0.002*\"organic\" + 0.002*\"smau\" + 0.002*\"god\" + 0.002*\"german\" + 0.002*\"taints\" + 0.002*\"company\" + 0.001*\"philosophy\" + 0.001*\"humour\"\n",
      "2018-09-04 22:48:14,759 : INFO : topic #2 (0.167): 0.010*\"areola\" + 0.009*\"pustule\" + 0.004*\"vesicles\" + 0.004*\"bryce\" + 0.004*\"phenomena\" + 0.004*\"inflammation\" + 0.004*\"affection\" + 0.004*\"pus\" + 0.003*\"scab\" + 0.003*\"oldest\"\n",
      "2018-09-04 22:48:14,759 : INFO : topic diff=0.003225, rho=0.169031\n",
      "2018-09-04 22:48:16,074 : INFO : -8.798 per-word bound, 445.2 perplexity estimate based on a held-out corpus of 18 documents with 123048 words\n",
      "2018-09-04 22:48:16,074 : INFO : PROGRESS: pass 34, at document #18/18\n",
      "2018-09-04 22:48:16,138 : INFO : topic #4 (0.167): 0.035*\"smallpox\" + 0.006*\"talk\" + 0.004*\"inquirer\" + 0.003*\"hygiene\" + 0.002*\"germany\" + 0.002*\"switzerland\" + 0.002*\"german\" + 0.002*\"hat\" + 0.002*\"sore\" + 0.002*\"dresden\"\n",
      "2018-09-04 22:48:16,138 : INFO : topic #5 (0.167): 0.040*\"leicester\" + 0.012*\"table\" + 0.007*\"commission\" + 0.006*\"fatality\" + 0.004*\"toxin\" + 0.004*\"calf\" + 0.003*\"percentage\" + 0.003*\"diphtheria\" + 0.003*\"serum\" + 0.002*\"tuberculosis\"\n",
      "2018-09-04 22:48:16,142 : INFO : topic #2 (0.167): 0.010*\"areola\" + 0.009*\"pustule\" + 0.004*\"vesicles\" + 0.004*\"bryce\" + 0.004*\"phenomena\" + 0.004*\"inflammation\" + 0.004*\"affection\" + 0.004*\"pus\" + 0.003*\"scab\" + 0.003*\"oldest\"\n",
      "2018-09-04 22:48:16,142 : INFO : topic #0 (0.167): 0.041*\"smallpox\" + 0.019*\"cowpox\" + 0.003*\"pearson\" + 0.003*\"variolation\" + 0.002*\"walker\" + 0.002*\"baron\" + 0.002*\"spurious\" + 0.002*\"god\" + 0.001*\"claim\" + 0.001*\"woodville\"\n",
      "2018-09-04 22:48:16,142 : INFO : topic #3 (0.167): 0.002*\"humours\" + 0.002*\"pus\" + 0.002*\"organic\" + 0.002*\"smau\" + 0.002*\"god\" + 0.002*\"taints\" + 0.002*\"german\" + 0.002*\"company\" + 0.001*\"philosophy\" + 0.001*\"humour\"\n"
     ]
    },
    {
     "name": "stderr",
     "output_type": "stream",
     "text": [
      "2018-09-04 22:48:16,146 : INFO : topic diff=0.003182, rho=0.166667\n",
      "2018-09-04 22:48:17,460 : INFO : -8.798 per-word bound, 445.2 perplexity estimate based on a held-out corpus of 18 documents with 123048 words\n",
      "2018-09-04 22:48:17,460 : INFO : PROGRESS: pass 35, at document #18/18\n",
      "2018-09-04 22:48:17,528 : INFO : topic #4 (0.167): 0.035*\"smallpox\" + 0.006*\"talk\" + 0.004*\"inquirer\" + 0.003*\"hygiene\" + 0.002*\"germany\" + 0.002*\"switzerland\" + 0.002*\"german\" + 0.002*\"hat\" + 0.002*\"sore\" + 0.002*\"dresden\"\n",
      "2018-09-04 22:48:17,528 : INFO : topic #0 (0.167): 0.041*\"smallpox\" + 0.019*\"cowpox\" + 0.003*\"pearson\" + 0.003*\"variolation\" + 0.002*\"walker\" + 0.002*\"baron\" + 0.002*\"spurious\" + 0.002*\"god\" + 0.001*\"claim\" + 0.001*\"woodville\"\n",
      "2018-09-04 22:48:17,528 : INFO : topic #5 (0.167): 0.040*\"leicester\" + 0.012*\"table\" + 0.007*\"commission\" + 0.006*\"fatality\" + 0.004*\"toxin\" + 0.004*\"calf\" + 0.003*\"percentage\" + 0.003*\"diphtheria\" + 0.003*\"serum\" + 0.002*\"tuberculosis\"\n",
      "2018-09-04 22:48:17,532 : INFO : topic #3 (0.167): 0.002*\"humours\" + 0.002*\"pus\" + 0.002*\"organic\" + 0.002*\"smau\" + 0.002*\"god\" + 0.002*\"taints\" + 0.002*\"german\" + 0.002*\"company\" + 0.001*\"philosophy\" + 0.001*\"humour\"\n",
      "2018-09-04 22:48:17,532 : INFO : topic #2 (0.167): 0.010*\"areola\" + 0.009*\"pustule\" + 0.004*\"vesicles\" + 0.004*\"bryce\" + 0.004*\"phenomena\" + 0.004*\"inflammation\" + 0.004*\"affection\" + 0.004*\"pus\" + 0.003*\"scab\" + 0.003*\"oldest\"\n",
      "2018-09-04 22:48:17,532 : INFO : topic diff=0.003150, rho=0.164399\n",
      "2018-09-04 22:48:18,826 : INFO : -8.798 per-word bound, 445.1 perplexity estimate based on a held-out corpus of 18 documents with 123048 words\n",
      "2018-09-04 22:48:18,826 : INFO : PROGRESS: pass 36, at document #18/18\n",
      "2018-09-04 22:48:18,898 : INFO : topic #3 (0.167): 0.002*\"humours\" + 0.002*\"pus\" + 0.002*\"organic\" + 0.002*\"smau\" + 0.002*\"god\" + 0.002*\"taints\" + 0.002*\"german\" + 0.002*\"company\" + 0.001*\"philosophy\" + 0.001*\"humour\"\n",
      "2018-09-04 22:48:18,898 : INFO : topic #4 (0.167): 0.035*\"smallpox\" + 0.006*\"talk\" + 0.004*\"inquirer\" + 0.003*\"hygiene\" + 0.002*\"germany\" + 0.002*\"switzerland\" + 0.002*\"german\" + 0.002*\"hat\" + 0.002*\"sore\" + 0.002*\"dresden\"\n",
      "2018-09-04 22:48:18,898 : INFO : topic #5 (0.167): 0.040*\"leicester\" + 0.012*\"table\" + 0.007*\"commission\" + 0.006*\"fatality\" + 0.004*\"toxin\" + 0.004*\"calf\" + 0.003*\"percentage\" + 0.003*\"diphtheria\" + 0.003*\"serum\" + 0.002*\"tuberculosis\"\n",
      "2018-09-04 22:48:18,902 : INFO : topic #0 (0.167): 0.041*\"smallpox\" + 0.019*\"cowpox\" + 0.003*\"pearson\" + 0.003*\"variolation\" + 0.002*\"walker\" + 0.002*\"baron\" + 0.002*\"spurious\" + 0.002*\"god\" + 0.001*\"claim\" + 0.001*\"woodville\"\n",
      "2018-09-04 22:48:18,902 : INFO : topic #1 (0.167): 0.003*\"spurious\" + 0.003*\"genuine\" + 0.002*\"circumstance\" + 0.002*\"failures\" + 0.002*\"birch\" + 0.002*\"baron\" + 0.002*\"assertions\" + 0.002*\"candour\" + 0.002*\"scrophula\" + 0.002*\"enquire\"\n",
      "2018-09-04 22:48:18,906 : INFO : topic diff=0.003121, rho=0.162221\n",
      "2018-09-04 22:48:20,216 : INFO : -8.798 per-word bound, 445.1 perplexity estimate based on a held-out corpus of 18 documents with 123048 words\n",
      "2018-09-04 22:48:20,216 : INFO : PROGRESS: pass 37, at document #18/18\n",
      "2018-09-04 22:48:20,284 : INFO : topic #4 (0.167): 0.035*\"smallpox\" + 0.006*\"talk\" + 0.004*\"inquirer\" + 0.003*\"hygiene\" + 0.002*\"germany\" + 0.002*\"switzerland\" + 0.002*\"german\" + 0.002*\"hat\" + 0.002*\"sore\" + 0.002*\"dresden\"\n",
      "2018-09-04 22:48:20,284 : INFO : topic #3 (0.167): 0.002*\"humours\" + 0.002*\"pus\" + 0.002*\"organic\" + 0.002*\"smau\" + 0.002*\"god\" + 0.002*\"taints\" + 0.002*\"german\" + 0.002*\"company\" + 0.001*\"philosophy\" + 0.001*\"humour\"\n",
      "2018-09-04 22:48:20,288 : INFO : topic #5 (0.167): 0.040*\"leicester\" + 0.012*\"table\" + 0.007*\"commission\" + 0.006*\"fatality\" + 0.004*\"toxin\" + 0.004*\"calf\" + 0.003*\"percentage\" + 0.003*\"diphtheria\" + 0.003*\"serum\" + 0.002*\"tuberculosis\"\n",
      "2018-09-04 22:48:20,288 : INFO : topic #0 (0.167): 0.041*\"smallpox\" + 0.019*\"cowpox\" + 0.003*\"pearson\" + 0.003*\"variolation\" + 0.002*\"walker\" + 0.002*\"baron\" + 0.002*\"spurious\" + 0.002*\"god\" + 0.001*\"claim\" + 0.001*\"woodville\"\n",
      "2018-09-04 22:48:20,288 : INFO : topic #2 (0.167): 0.010*\"areola\" + 0.009*\"pustule\" + 0.004*\"vesicles\" + 0.004*\"bryce\" + 0.004*\"phenomena\" + 0.004*\"inflammation\" + 0.004*\"affection\" + 0.004*\"pus\" + 0.003*\"scab\" + 0.003*\"oldest\"\n",
      "2018-09-04 22:48:20,292 : INFO : topic diff=0.003097, rho=0.160128\n",
      "2018-09-04 22:48:21,626 : INFO : -8.798 per-word bound, 445.0 perplexity estimate based on a held-out corpus of 18 documents with 123048 words\n",
      "2018-09-04 22:48:21,626 : INFO : PROGRESS: pass 38, at document #18/18\n",
      "2018-09-04 22:48:21,694 : INFO : topic #5 (0.167): 0.040*\"leicester\" + 0.012*\"table\" + 0.007*\"commission\" + 0.006*\"fatality\" + 0.004*\"toxin\" + 0.004*\"calf\" + 0.003*\"percentage\" + 0.003*\"diphtheria\" + 0.003*\"serum\" + 0.002*\"tuberculosis\"\n",
      "2018-09-04 22:48:21,694 : INFO : topic #0 (0.167): 0.041*\"smallpox\" + 0.019*\"cowpox\" + 0.003*\"pearson\" + 0.003*\"variolation\" + 0.002*\"walker\" + 0.002*\"baron\" + 0.002*\"spurious\" + 0.002*\"god\" + 0.001*\"claim\" + 0.001*\"establishment\"\n",
      "2018-09-04 22:48:21,694 : INFO : topic #1 (0.167): 0.003*\"spurious\" + 0.003*\"genuine\" + 0.002*\"circumstance\" + 0.002*\"failures\" + 0.002*\"birch\" + 0.002*\"baron\" + 0.002*\"assertions\" + 0.002*\"candour\" + 0.002*\"scrophula\" + 0.002*\"enquire\"\n",
      "2018-09-04 22:48:21,698 : INFO : topic #4 (0.167): 0.035*\"smallpox\" + 0.006*\"talk\" + 0.004*\"inquirer\" + 0.003*\"hygiene\" + 0.002*\"germany\" + 0.002*\"switzerland\" + 0.002*\"german\" + 0.002*\"hat\" + 0.002*\"sore\" + 0.002*\"dresden\"\n",
      "2018-09-04 22:48:21,698 : INFO : topic #2 (0.167): 0.010*\"areola\" + 0.009*\"pustule\" + 0.004*\"vesicles\" + 0.004*\"bryce\" + 0.004*\"phenomena\" + 0.004*\"inflammation\" + 0.004*\"affection\" + 0.004*\"pus\" + 0.003*\"scab\" + 0.003*\"oldest\"\n",
      "2018-09-04 22:48:21,698 : INFO : topic diff=0.003075, rho=0.158114\n",
      "2018-09-04 22:48:23,024 : INFO : -8.798 per-word bound, 445.0 perplexity estimate based on a held-out corpus of 18 documents with 123048 words\n",
      "2018-09-04 22:48:23,024 : INFO : PROGRESS: pass 39, at document #18/18\n",
      "2018-09-04 22:48:23,088 : INFO : topic #4 (0.167): 0.035*\"smallpox\" + 0.006*\"talk\" + 0.004*\"inquirer\" + 0.003*\"hygiene\" + 0.002*\"germany\" + 0.002*\"switzerland\" + 0.002*\"german\" + 0.002*\"hat\" + 0.002*\"sore\" + 0.002*\"dresden\"\n",
      "2018-09-04 22:48:23,088 : INFO : topic #3 (0.167): 0.002*\"humours\" + 0.002*\"organic\" + 0.002*\"pus\" + 0.002*\"smau\" + 0.002*\"god\" + 0.002*\"taints\" + 0.002*\"german\" + 0.002*\"company\" + 0.001*\"philosophy\" + 0.001*\"humour\"\n",
      "2018-09-04 22:48:23,092 : INFO : topic #0 (0.167): 0.041*\"smallpox\" + 0.019*\"cowpox\" + 0.003*\"pearson\" + 0.003*\"variolation\" + 0.002*\"walker\" + 0.002*\"baron\" + 0.002*\"spurious\" + 0.002*\"god\" + 0.001*\"claim\" + 0.001*\"establishment\"\n",
      "2018-09-04 22:48:23,092 : INFO : topic #1 (0.167): 0.003*\"spurious\" + 0.003*\"genuine\" + 0.002*\"circumstance\" + 0.002*\"failures\" + 0.002*\"birch\" + 0.002*\"baron\" + 0.002*\"assertions\" + 0.002*\"candour\" + 0.002*\"scrophula\" + 0.002*\"enquire\"\n",
      "2018-09-04 22:48:23,092 : INFO : topic #2 (0.167): 0.010*\"areola\" + 0.009*\"pustule\" + 0.004*\"vesicles\" + 0.004*\"bryce\" + 0.004*\"phenomena\" + 0.004*\"inflammation\" + 0.004*\"affection\" + 0.004*\"pus\" + 0.004*\"scab\" + 0.003*\"oldest\"\n",
      "2018-09-04 22:48:23,092 : INFO : topic diff=0.003053, rho=0.156174\n",
      "2018-09-04 22:48:24,403 : INFO : -8.797 per-word bound, 444.9 perplexity estimate based on a held-out corpus of 18 documents with 123048 words\n",
      "2018-09-04 22:48:24,407 : INFO : PROGRESS: pass 40, at document #18/18\n",
      "2018-09-04 22:48:24,470 : INFO : topic #5 (0.167): 0.040*\"leicester\" + 0.012*\"table\" + 0.007*\"commission\" + 0.006*\"fatality\" + 0.004*\"toxin\" + 0.004*\"calf\" + 0.003*\"percentage\" + 0.003*\"diphtheria\" + 0.003*\"serum\" + 0.002*\"tuberculosis\"\n",
      "2018-09-04 22:48:24,470 : INFO : topic #1 (0.167): 0.003*\"spurious\" + 0.003*\"genuine\" + 0.002*\"circumstance\" + 0.002*\"failures\" + 0.002*\"birch\" + 0.002*\"baron\" + 0.002*\"assertions\" + 0.002*\"candour\" + 0.002*\"scrophula\" + 0.002*\"enquire\"\n",
      "2018-09-04 22:48:24,474 : INFO : topic #0 (0.167): 0.041*\"smallpox\" + 0.019*\"cowpox\" + 0.003*\"pearson\" + 0.003*\"variolation\" + 0.002*\"walker\" + 0.002*\"baron\" + 0.002*\"spurious\" + 0.002*\"god\" + 0.001*\"claim\" + 0.001*\"establishment\"\n",
      "2018-09-04 22:48:24,474 : INFO : topic #2 (0.167): 0.010*\"areola\" + 0.009*\"pustule\" + 0.004*\"vesicles\" + 0.004*\"bryce\" + 0.004*\"phenomena\" + 0.004*\"inflammation\" + 0.004*\"affection\" + 0.004*\"pus\" + 0.004*\"scab\" + 0.003*\"oldest\"\n"
     ]
    },
    {
     "name": "stderr",
     "output_type": "stream",
     "text": [
      "2018-09-04 22:48:24,474 : INFO : topic #3 (0.167): 0.002*\"humours\" + 0.002*\"organic\" + 0.002*\"pus\" + 0.002*\"smau\" + 0.002*\"god\" + 0.002*\"taints\" + 0.002*\"german\" + 0.002*\"company\" + 0.001*\"philosophy\" + 0.001*\"humour\"\n",
      "2018-09-04 22:48:24,478 : INFO : topic diff=0.003037, rho=0.154303\n",
      "2018-09-04 22:48:25,781 : INFO : -8.797 per-word bound, 444.9 perplexity estimate based on a held-out corpus of 18 documents with 123048 words\n",
      "2018-09-04 22:48:25,781 : INFO : PROGRESS: pass 41, at document #18/18\n",
      "2018-09-04 22:48:25,845 : INFO : topic #3 (0.167): 0.002*\"humours\" + 0.002*\"organic\" + 0.002*\"pus\" + 0.002*\"smau\" + 0.002*\"god\" + 0.002*\"taints\" + 0.002*\"german\" + 0.002*\"company\" + 0.001*\"philosophy\" + 0.001*\"humour\"\n",
      "2018-09-04 22:48:25,849 : INFO : topic #0 (0.167): 0.041*\"smallpox\" + 0.019*\"cowpox\" + 0.003*\"pearson\" + 0.003*\"variolation\" + 0.002*\"walker\" + 0.002*\"baron\" + 0.002*\"spurious\" + 0.002*\"god\" + 0.001*\"claim\" + 0.001*\"establishment\"\n",
      "2018-09-04 22:48:25,849 : INFO : topic #5 (0.167): 0.040*\"leicester\" + 0.012*\"table\" + 0.007*\"commission\" + 0.006*\"fatality\" + 0.004*\"toxin\" + 0.004*\"calf\" + 0.003*\"percentage\" + 0.003*\"diphtheria\" + 0.003*\"serum\" + 0.002*\"tuberculosis\"\n",
      "2018-09-04 22:48:25,849 : INFO : topic #2 (0.167): 0.010*\"areola\" + 0.009*\"pustule\" + 0.004*\"vesicles\" + 0.004*\"bryce\" + 0.004*\"phenomena\" + 0.004*\"inflammation\" + 0.004*\"affection\" + 0.004*\"pus\" + 0.004*\"scab\" + 0.003*\"oldest\"\n",
      "2018-09-04 22:48:25,849 : INFO : topic #4 (0.167): 0.035*\"smallpox\" + 0.006*\"talk\" + 0.004*\"inquirer\" + 0.003*\"hygiene\" + 0.002*\"germany\" + 0.002*\"switzerland\" + 0.002*\"german\" + 0.002*\"hat\" + 0.002*\"sore\" + 0.002*\"dresden\"\n",
      "2018-09-04 22:48:25,853 : INFO : topic diff=0.003017, rho=0.152499\n",
      "2018-09-04 22:48:27,167 : INFO : -8.797 per-word bound, 444.8 perplexity estimate based on a held-out corpus of 18 documents with 123048 words\n",
      "2018-09-04 22:48:27,167 : INFO : PROGRESS: pass 42, at document #18/18\n",
      "2018-09-04 22:48:27,231 : INFO : topic #1 (0.167): 0.003*\"spurious\" + 0.003*\"genuine\" + 0.002*\"circumstance\" + 0.002*\"failures\" + 0.002*\"birch\" + 0.002*\"baron\" + 0.002*\"assertions\" + 0.002*\"candour\" + 0.002*\"scrophula\" + 0.002*\"enquire\"\n",
      "2018-09-04 22:48:27,235 : INFO : topic #2 (0.167): 0.010*\"areola\" + 0.009*\"pustule\" + 0.004*\"vesicles\" + 0.004*\"bryce\" + 0.004*\"phenomena\" + 0.004*\"inflammation\" + 0.004*\"affection\" + 0.004*\"pus\" + 0.004*\"scab\" + 0.003*\"oldest\"\n",
      "2018-09-04 22:48:27,235 : INFO : topic #0 (0.167): 0.041*\"smallpox\" + 0.019*\"cowpox\" + 0.003*\"pearson\" + 0.003*\"variolation\" + 0.002*\"walker\" + 0.002*\"baron\" + 0.002*\"spurious\" + 0.002*\"god\" + 0.001*\"claim\" + 0.001*\"establishment\"\n",
      "2018-09-04 22:48:27,235 : INFO : topic #3 (0.167): 0.002*\"humours\" + 0.002*\"organic\" + 0.002*\"pus\" + 0.002*\"smau\" + 0.002*\"god\" + 0.002*\"taints\" + 0.002*\"german\" + 0.002*\"company\" + 0.001*\"philosophy\" + 0.001*\"humour\"\n",
      "2018-09-04 22:48:27,239 : INFO : topic #4 (0.167): 0.035*\"smallpox\" + 0.006*\"talk\" + 0.004*\"inquirer\" + 0.003*\"hygiene\" + 0.002*\"germany\" + 0.002*\"switzerland\" + 0.002*\"german\" + 0.002*\"hat\" + 0.002*\"sore\" + 0.002*\"dresden\"\n",
      "2018-09-04 22:48:27,239 : INFO : topic diff=0.002998, rho=0.150756\n",
      "2018-09-04 22:48:28,561 : INFO : -8.797 per-word bound, 444.8 perplexity estimate based on a held-out corpus of 18 documents with 123048 words\n",
      "2018-09-04 22:48:28,561 : INFO : PROGRESS: pass 43, at document #18/18\n",
      "2018-09-04 22:48:28,629 : INFO : topic #2 (0.167): 0.010*\"areola\" + 0.009*\"pustule\" + 0.004*\"vesicles\" + 0.004*\"bryce\" + 0.004*\"phenomena\" + 0.004*\"inflammation\" + 0.004*\"affection\" + 0.004*\"pus\" + 0.004*\"scab\" + 0.003*\"oldest\"\n",
      "2018-09-04 22:48:28,629 : INFO : topic #5 (0.167): 0.040*\"leicester\" + 0.012*\"table\" + 0.007*\"commission\" + 0.006*\"fatality\" + 0.004*\"toxin\" + 0.004*\"calf\" + 0.003*\"percentage\" + 0.003*\"diphtheria\" + 0.003*\"serum\" + 0.002*\"tuberculosis\"\n",
      "2018-09-04 22:48:28,633 : INFO : topic #0 (0.167): 0.041*\"smallpox\" + 0.019*\"cowpox\" + 0.003*\"pearson\" + 0.003*\"variolation\" + 0.002*\"walker\" + 0.002*\"baron\" + 0.002*\"spurious\" + 0.002*\"god\" + 0.001*\"claim\" + 0.001*\"establishment\"\n",
      "2018-09-04 22:48:28,633 : INFO : topic #1 (0.167): 0.003*\"spurious\" + 0.003*\"genuine\" + 0.002*\"circumstance\" + 0.002*\"failures\" + 0.002*\"birch\" + 0.002*\"baron\" + 0.002*\"assertions\" + 0.002*\"candour\" + 0.002*\"scrophula\" + 0.002*\"enquire\"\n",
      "2018-09-04 22:48:28,633 : INFO : topic #4 (0.167): 0.035*\"smallpox\" + 0.006*\"talk\" + 0.004*\"inquirer\" + 0.003*\"hygiene\" + 0.002*\"germany\" + 0.002*\"switzerland\" + 0.002*\"german\" + 0.002*\"hat\" + 0.002*\"sore\" + 0.002*\"dresden\"\n",
      "2018-09-04 22:48:28,637 : INFO : topic diff=0.002981, rho=0.149071\n",
      "2018-09-04 22:48:29,955 : INFO : -8.797 per-word bound, 444.7 perplexity estimate based on a held-out corpus of 18 documents with 123048 words\n",
      "2018-09-04 22:48:29,955 : INFO : PROGRESS: pass 44, at document #18/18\n",
      "2018-09-04 22:48:30,019 : INFO : topic #0 (0.167): 0.041*\"smallpox\" + 0.019*\"cowpox\" + 0.003*\"pearson\" + 0.003*\"variolation\" + 0.002*\"walker\" + 0.002*\"baron\" + 0.002*\"spurious\" + 0.002*\"god\" + 0.001*\"claim\" + 0.001*\"establishment\"\n",
      "2018-09-04 22:48:30,019 : INFO : topic #1 (0.167): 0.003*\"spurious\" + 0.003*\"genuine\" + 0.002*\"circumstance\" + 0.002*\"failures\" + 0.002*\"birch\" + 0.002*\"baron\" + 0.002*\"assertions\" + 0.002*\"candour\" + 0.002*\"scrophula\" + 0.002*\"enquire\"\n",
      "2018-09-04 22:48:30,019 : INFO : topic #2 (0.167): 0.010*\"areola\" + 0.009*\"pustule\" + 0.004*\"vesicles\" + 0.004*\"bryce\" + 0.004*\"phenomena\" + 0.004*\"inflammation\" + 0.004*\"affection\" + 0.004*\"pus\" + 0.004*\"scab\" + 0.003*\"oldest\"\n",
      "2018-09-04 22:48:30,023 : INFO : topic #5 (0.167): 0.040*\"leicester\" + 0.012*\"table\" + 0.007*\"commission\" + 0.006*\"fatality\" + 0.004*\"toxin\" + 0.004*\"calf\" + 0.003*\"percentage\" + 0.003*\"diphtheria\" + 0.003*\"serum\" + 0.002*\"tuberculosis\"\n",
      "2018-09-04 22:48:30,023 : INFO : topic #3 (0.167): 0.002*\"humours\" + 0.002*\"organic\" + 0.002*\"pus\" + 0.002*\"smau\" + 0.002*\"god\" + 0.002*\"taints\" + 0.002*\"german\" + 0.002*\"company\" + 0.001*\"philosophy\" + 0.001*\"humour\"\n",
      "2018-09-04 22:48:30,023 : INFO : topic diff=0.002961, rho=0.147442\n",
      "2018-09-04 22:48:31,317 : INFO : -8.797 per-word bound, 444.7 perplexity estimate based on a held-out corpus of 18 documents with 123048 words\n",
      "2018-09-04 22:48:31,321 : INFO : PROGRESS: pass 45, at document #18/18\n",
      "2018-09-04 22:48:31,385 : INFO : topic #5 (0.167): 0.040*\"leicester\" + 0.012*\"table\" + 0.007*\"commission\" + 0.006*\"fatality\" + 0.004*\"toxin\" + 0.004*\"calf\" + 0.003*\"percentage\" + 0.003*\"diphtheria\" + 0.003*\"serum\" + 0.002*\"tuberculosis\"\n",
      "2018-09-04 22:48:31,389 : INFO : topic #2 (0.167): 0.010*\"areola\" + 0.009*\"pustule\" + 0.004*\"vesicles\" + 0.004*\"bryce\" + 0.004*\"phenomena\" + 0.004*\"inflammation\" + 0.004*\"affection\" + 0.004*\"pus\" + 0.004*\"scab\" + 0.003*\"oldest\"\n",
      "2018-09-04 22:48:31,389 : INFO : topic #1 (0.167): 0.003*\"spurious\" + 0.003*\"genuine\" + 0.002*\"circumstance\" + 0.002*\"failures\" + 0.002*\"birch\" + 0.002*\"baron\" + 0.002*\"assertions\" + 0.002*\"candour\" + 0.002*\"scrophula\" + 0.002*\"enquire\"\n",
      "2018-09-04 22:48:31,389 : INFO : topic #0 (0.167): 0.041*\"smallpox\" + 0.019*\"cowpox\" + 0.003*\"pearson\" + 0.003*\"variolation\" + 0.002*\"walker\" + 0.002*\"baron\" + 0.002*\"spurious\" + 0.002*\"god\" + 0.001*\"claim\" + 0.001*\"establishment\"\n",
      "2018-09-04 22:48:31,393 : INFO : topic #3 (0.167): 0.002*\"humours\" + 0.002*\"organic\" + 0.002*\"pus\" + 0.002*\"smau\" + 0.002*\"god\" + 0.002*\"taints\" + 0.002*\"german\" + 0.002*\"company\" + 0.001*\"philosophy\" + 0.001*\"humour\"\n",
      "2018-09-04 22:48:31,393 : INFO : topic diff=0.002941, rho=0.145865\n",
      "2018-09-04 22:48:32,719 : INFO : -8.797 per-word bound, 444.6 perplexity estimate based on a held-out corpus of 18 documents with 123048 words\n",
      "2018-09-04 22:48:32,719 : INFO : PROGRESS: pass 46, at document #18/18\n",
      "2018-09-04 22:48:32,783 : INFO : topic #4 (0.167): 0.035*\"smallpox\" + 0.006*\"talk\" + 0.004*\"inquirer\" + 0.003*\"hygiene\" + 0.002*\"germany\" + 0.002*\"switzerland\" + 0.002*\"german\" + 0.002*\"hat\" + 0.002*\"sore\" + 0.002*\"dresden\"\n",
      "2018-09-04 22:48:32,783 : INFO : topic #1 (0.167): 0.003*\"spurious\" + 0.003*\"genuine\" + 0.002*\"circumstance\" + 0.002*\"failures\" + 0.002*\"birch\" + 0.002*\"assertions\" + 0.002*\"baron\" + 0.002*\"candour\" + 0.002*\"scrophula\" + 0.002*\"enquire\"\n",
      "2018-09-04 22:48:32,783 : INFO : topic #3 (0.167): 0.002*\"humours\" + 0.002*\"organic\" + 0.002*\"pus\" + 0.002*\"smau\" + 0.002*\"god\" + 0.002*\"taints\" + 0.002*\"german\" + 0.002*\"company\" + 0.001*\"philosophy\" + 0.001*\"humour\"\n"
     ]
    },
    {
     "name": "stderr",
     "output_type": "stream",
     "text": [
      "2018-09-04 22:48:32,787 : INFO : topic #2 (0.167): 0.010*\"areola\" + 0.009*\"pustule\" + 0.004*\"vesicles\" + 0.004*\"bryce\" + 0.004*\"phenomena\" + 0.004*\"inflammation\" + 0.004*\"affection\" + 0.004*\"pus\" + 0.004*\"scab\" + 0.003*\"oldest\"\n",
      "2018-09-04 22:48:32,787 : INFO : topic #5 (0.167): 0.040*\"leicester\" + 0.012*\"table\" + 0.007*\"commission\" + 0.006*\"fatality\" + 0.004*\"toxin\" + 0.004*\"calf\" + 0.003*\"percentage\" + 0.003*\"diphtheria\" + 0.003*\"serum\" + 0.002*\"tuberculosis\"\n",
      "2018-09-04 22:48:32,791 : INFO : topic diff=0.002921, rho=0.144338\n",
      "2018-09-04 22:48:34,110 : INFO : -8.796 per-word bound, 444.6 perplexity estimate based on a held-out corpus of 18 documents with 123048 words\n",
      "2018-09-04 22:48:34,110 : INFO : PROGRESS: pass 47, at document #18/18\n",
      "2018-09-04 22:48:34,177 : INFO : topic #5 (0.167): 0.040*\"leicester\" + 0.012*\"table\" + 0.007*\"commission\" + 0.006*\"fatality\" + 0.004*\"toxin\" + 0.004*\"calf\" + 0.003*\"percentage\" + 0.003*\"diphtheria\" + 0.003*\"serum\" + 0.002*\"tuberculosis\"\n",
      "2018-09-04 22:48:34,181 : INFO : topic #0 (0.167): 0.041*\"smallpox\" + 0.019*\"cowpox\" + 0.003*\"pearson\" + 0.003*\"variolation\" + 0.002*\"walker\" + 0.002*\"baron\" + 0.002*\"spurious\" + 0.002*\"god\" + 0.001*\"claim\" + 0.001*\"establishment\"\n",
      "2018-09-04 22:48:34,181 : INFO : topic #4 (0.167): 0.034*\"smallpox\" + 0.006*\"talk\" + 0.004*\"inquirer\" + 0.003*\"hygiene\" + 0.002*\"germany\" + 0.002*\"switzerland\" + 0.002*\"german\" + 0.002*\"hat\" + 0.002*\"sore\" + 0.002*\"dresden\"\n",
      "2018-09-04 22:48:34,181 : INFO : topic #1 (0.167): 0.003*\"spurious\" + 0.003*\"genuine\" + 0.002*\"circumstance\" + 0.002*\"failures\" + 0.002*\"birch\" + 0.002*\"assertions\" + 0.002*\"baron\" + 0.002*\"candour\" + 0.002*\"scrophula\" + 0.002*\"enquire\"\n",
      "2018-09-04 22:48:34,185 : INFO : topic #3 (0.167): 0.002*\"humours\" + 0.002*\"organic\" + 0.002*\"pus\" + 0.002*\"smau\" + 0.002*\"god\" + 0.002*\"taints\" + 0.002*\"german\" + 0.002*\"company\" + 0.001*\"philosophy\" + 0.001*\"humour\"\n",
      "2018-09-04 22:48:34,185 : INFO : topic diff=0.002902, rho=0.142857\n",
      "2018-09-04 22:48:35,496 : INFO : -8.796 per-word bound, 444.6 perplexity estimate based on a held-out corpus of 18 documents with 123048 words\n",
      "2018-09-04 22:48:35,496 : INFO : PROGRESS: pass 48, at document #18/18\n",
      "2018-09-04 22:48:35,560 : INFO : topic #0 (0.167): 0.041*\"smallpox\" + 0.018*\"cowpox\" + 0.003*\"pearson\" + 0.003*\"variolation\" + 0.002*\"walker\" + 0.002*\"baron\" + 0.002*\"spurious\" + 0.002*\"god\" + 0.001*\"claim\" + 0.001*\"establishment\"\n",
      "2018-09-04 22:48:35,560 : INFO : topic #3 (0.167): 0.002*\"humours\" + 0.002*\"organic\" + 0.002*\"pus\" + 0.002*\"smau\" + 0.002*\"god\" + 0.002*\"taints\" + 0.002*\"german\" + 0.002*\"company\" + 0.001*\"philosophy\" + 0.001*\"humour\"\n",
      "2018-09-04 22:48:35,560 : INFO : topic #5 (0.167): 0.040*\"leicester\" + 0.012*\"table\" + 0.007*\"commission\" + 0.006*\"fatality\" + 0.004*\"toxin\" + 0.004*\"calf\" + 0.003*\"percentage\" + 0.003*\"diphtheria\" + 0.003*\"serum\" + 0.002*\"tuberculosis\"\n",
      "2018-09-04 22:48:35,560 : INFO : topic #4 (0.167): 0.034*\"smallpox\" + 0.006*\"talk\" + 0.004*\"inquirer\" + 0.003*\"hygiene\" + 0.002*\"germany\" + 0.002*\"switzerland\" + 0.002*\"german\" + 0.002*\"hat\" + 0.002*\"sore\" + 0.002*\"dresden\"\n",
      "2018-09-04 22:48:35,564 : INFO : topic #2 (0.167): 0.010*\"areola\" + 0.010*\"pustule\" + 0.004*\"vesicles\" + 0.004*\"bryce\" + 0.004*\"phenomena\" + 0.004*\"inflammation\" + 0.004*\"affection\" + 0.004*\"pus\" + 0.004*\"scab\" + 0.003*\"oldest\"\n",
      "2018-09-04 22:48:35,564 : INFO : topic diff=0.002877, rho=0.141421\n",
      "2018-09-04 22:48:36,862 : INFO : -8.796 per-word bound, 444.5 perplexity estimate based on a held-out corpus of 18 documents with 123048 words\n",
      "2018-09-04 22:48:36,862 : INFO : PROGRESS: pass 49, at document #18/18\n",
      "2018-09-04 22:48:36,934 : INFO : topic #5 (0.167): 0.040*\"leicester\" + 0.012*\"table\" + 0.007*\"commission\" + 0.006*\"fatality\" + 0.004*\"toxin\" + 0.004*\"calf\" + 0.003*\"percentage\" + 0.003*\"diphtheria\" + 0.003*\"serum\" + 0.002*\"tuberculosis\"\n",
      "2018-09-04 22:48:36,934 : INFO : topic #4 (0.167): 0.034*\"smallpox\" + 0.006*\"talk\" + 0.004*\"inquirer\" + 0.003*\"hygiene\" + 0.002*\"germany\" + 0.002*\"switzerland\" + 0.002*\"german\" + 0.002*\"hat\" + 0.002*\"sore\" + 0.002*\"dresden\"\n",
      "2018-09-04 22:48:36,938 : INFO : topic #1 (0.167): 0.003*\"spurious\" + 0.003*\"genuine\" + 0.002*\"circumstance\" + 0.002*\"failures\" + 0.002*\"birch\" + 0.002*\"assertions\" + 0.002*\"baron\" + 0.002*\"candour\" + 0.002*\"scrophula\" + 0.002*\"enquire\"\n",
      "2018-09-04 22:48:36,938 : INFO : topic #2 (0.167): 0.010*\"areola\" + 0.010*\"pustule\" + 0.004*\"vesicles\" + 0.004*\"bryce\" + 0.004*\"phenomena\" + 0.004*\"inflammation\" + 0.004*\"affection\" + 0.004*\"pus\" + 0.004*\"scab\" + 0.003*\"oldest\"\n",
      "2018-09-04 22:48:36,938 : INFO : topic #0 (0.167): 0.041*\"smallpox\" + 0.018*\"cowpox\" + 0.003*\"pearson\" + 0.003*\"variolation\" + 0.002*\"walker\" + 0.002*\"baron\" + 0.002*\"spurious\" + 0.002*\"god\" + 0.001*\"claim\" + 0.001*\"establishment\"\n",
      "2018-09-04 22:48:36,942 : INFO : topic diff=0.002856, rho=0.140028\n"
     ]
    },
    {
     "name": "stdout",
     "output_type": "stream",
     "text": [
      "used: 69.20s\n"
     ]
    }
   ],
   "source": [
    "LDA = lda_model(anti_cor, anti_dict, 50, 6, 100)"
   ]
  },
  {
   "cell_type": "markdown",
   "metadata": {
    "collapsed": true
   },
   "source": [
    "print_topics(LDA, 6)"
   ]
  },
  {
   "cell_type": "markdown",
   "metadata": {
    "collapsed": true
   },
   "source": [
    "anti_topics = get_topics('anti_corpus_w6TEST',LDA,6)\n",
    "print(anti_topics)\n"
   ]
  },
  {
   "cell_type": "markdown",
   "metadata": {
    "collapsed": true
   },
   "source": [
    "#make viz\n",
    "make_ldavis(LDA, anti_cor_serial, anti_dict, 'anti_corpusw6')"
   ]
  },
  {
   "cell_type": "code",
   "execution_count": 36,
   "metadata": {},
   "outputs": [
    {
     "name": "stderr",
     "output_type": "stream",
     "text": [
      "2018-09-04 22:48:37,038 : INFO : adding document #0 to Dictionary(0 unique tokens: [])\n",
      "2018-09-04 22:48:38,771 : INFO : built Dictionary(44491 unique tokens: ['aad', 'abashed', 'aberdeen', 'abilities', 'ability']...) from 34 documents (total 549103 corpus positions)\n",
      "2018-09-04 22:48:38,827 : INFO : discarding 28213 tokens: [('abashed', 1), ('able', 28), ('abroad', 20), ('absolutely', 23), ('abvantages', 1), ('acapulco', 1), ('accept', 18), ('accessary', 1), ('according', 26), ('accordingly', 18)]...\n",
      "2018-09-04 22:48:38,827 : INFO : keeping 16278 tokens which were in no less than 2 and no more than 17 (=50.0%) documents\n",
      "2018-09-04 22:48:38,855 : INFO : resulting dictionary: Dictionary(16278 unique tokens: ['aad', 'aberdeen', 'abilities', 'ability', 'abire']...)\n",
      "2018-09-04 22:48:38,883 : INFO : saving Dictionary object under both_corpus_dictionary.dict, separately None\n",
      "2018-09-04 22:48:38,891 : INFO : saved both_corpus_dictionary.dict\n",
      "2018-09-04 22:48:40,517 : INFO : storing corpus in Matrix Market format to both_corpus_serialized.mm\n",
      "2018-09-04 22:48:40,517 : INFO : saving sparse matrix to both_corpus_serialized.mm\n",
      "2018-09-04 22:48:40,517 : INFO : PROGRESS: saving document #0\n",
      "2018-09-04 22:48:40,621 : INFO : saved 34x16278 matrix, density=14.310% (79198/553452)\n",
      "2018-09-04 22:48:40,625 : INFO : saving MmCorpus index to both_corpus_serialized.mm.index\n"
     ]
    }
   ],
   "source": [
    "#get everything for full corpora\n",
    "both_cor, both_cor_serial, both_dict = get_corpus_dict('C:/Users/kec52/Documents/BLtext_research/bothTexts', 'both_corpus')"
   ]
  },
  {
   "cell_type": "code",
   "execution_count": 39,
   "metadata": {},
   "outputs": [
    {
     "name": "stdout",
     "output_type": "stream",
     "text": [
      "makin model\n"
     ]
    },
    {
     "ename": "AttributeError",
     "evalue": "'MyCorpus' object has no attribute 'keys'",
     "output_type": "error",
     "traceback": [
      "\u001b[1;31m---------------------------------------------------------------------------\u001b[0m",
      "\u001b[1;31mAttributeError\u001b[0m                            Traceback (most recent call last)",
      "\u001b[1;32m<ipython-input-39-3838691f4c58>\u001b[0m in \u001b[0;36m<module>\u001b[1;34m()\u001b[0m\n\u001b[1;32m----> 1\u001b[1;33m \u001b[0mevaluate_graph\u001b[0m\u001b[1;33m(\u001b[0m\u001b[0mboth_cor\u001b[0m\u001b[1;33m,\u001b[0m \u001b[0mboth_dict\u001b[0m\u001b[1;33m,\u001b[0m \u001b[1;36m50\u001b[0m\u001b[1;33m,\u001b[0m \u001b[1;36m1000\u001b[0m\u001b[1;33m,\u001b[0m \u001b[1;36m20\u001b[0m\u001b[1;33m)\u001b[0m\u001b[1;33m\u001b[0m\u001b[0m\n\u001b[0m",
      "\u001b[1;32m<ipython-input-38-ce3213148363>\u001b[0m in \u001b[0;36mevaluate_graph\u001b[1;34m(dictionary, corpus, num_passes, chunksize, limit)\u001b[0m\n\u001b[0;32m      7\u001b[0m     \u001b[0mlm_list\u001b[0m \u001b[1;33m=\u001b[0m \u001b[1;33m[\u001b[0m\u001b[1;33m]\u001b[0m\u001b[1;33m\u001b[0m\u001b[0m\n\u001b[0;32m      8\u001b[0m     \u001b[1;32mfor\u001b[0m \u001b[0mnum_topics\u001b[0m \u001b[1;32min\u001b[0m \u001b[0mrange\u001b[0m\u001b[1;33m(\u001b[0m\u001b[1;36m1\u001b[0m\u001b[1;33m,\u001b[0m \u001b[0mlimit\u001b[0m\u001b[1;33m)\u001b[0m\u001b[1;33m:\u001b[0m\u001b[1;33m\u001b[0m\u001b[0m\n\u001b[1;32m----> 9\u001b[1;33m         \u001b[0mlm\u001b[0m \u001b[1;33m=\u001b[0m \u001b[0mlda_model\u001b[0m\u001b[1;33m(\u001b[0m\u001b[0mcorpus\u001b[0m\u001b[1;33m=\u001b[0m\u001b[0mcorpus\u001b[0m\u001b[1;33m,\u001b[0m \u001b[0mdictionary\u001b[0m\u001b[1;33m=\u001b[0m\u001b[0mdictionary\u001b[0m\u001b[1;33m,\u001b[0m \u001b[0mnum_passes\u001b[0m \u001b[1;33m=\u001b[0m \u001b[0mnum_passes\u001b[0m\u001b[1;33m,\u001b[0m \u001b[0mnum_topics\u001b[0m \u001b[1;33m=\u001b[0m \u001b[0mnum_topics\u001b[0m\u001b[1;33m,\u001b[0m \u001b[0mchunksize\u001b[0m\u001b[1;33m=\u001b[0m\u001b[0mchunksize\u001b[0m\u001b[1;33m)\u001b[0m\u001b[1;33m\u001b[0m\u001b[0m\n\u001b[0m\u001b[0;32m     10\u001b[0m         \u001b[0mlm_list\u001b[0m\u001b[1;33m.\u001b[0m\u001b[0mappend\u001b[0m\u001b[1;33m(\u001b[0m\u001b[0mlm\u001b[0m\u001b[1;33m)\u001b[0m\u001b[1;33m\u001b[0m\u001b[0m\n\u001b[0;32m     11\u001b[0m         \u001b[0mcm\u001b[0m \u001b[1;33m=\u001b[0m \u001b[0mCoherenceModel\u001b[0m\u001b[1;33m(\u001b[0m\u001b[0mmodel\u001b[0m\u001b[1;33m=\u001b[0m\u001b[0mlm\u001b[0m\u001b[1;33m,\u001b[0m \u001b[0mcorpus\u001b[0m\u001b[1;33m=\u001b[0m\u001b[0mcorpus\u001b[0m\u001b[1;33m,\u001b[0m \u001b[0mdictionary\u001b[0m\u001b[1;33m=\u001b[0m\u001b[0mdictionary\u001b[0m\u001b[1;33m,\u001b[0m \u001b[0mcoherence\u001b[0m\u001b[1;33m=\u001b[0m\u001b[1;34m'u_mass'\u001b[0m\u001b[1;33m)\u001b[0m\u001b[1;33m\u001b[0m\u001b[0m\n",
      "\u001b[1;32m<ipython-input-22-bb31473b43a6>\u001b[0m in \u001b[0;36mlda_model\u001b[1;34m(corpus, dictionary, num_passes, num_topics, chunksize)\u001b[0m\n\u001b[0;32m      2\u001b[0m     \u001b[0mstart\u001b[0m \u001b[1;33m=\u001b[0m \u001b[0mtime\u001b[0m\u001b[1;33m(\u001b[0m\u001b[1;33m)\u001b[0m\u001b[1;33m\u001b[0m\u001b[0m\n\u001b[0;32m      3\u001b[0m     \u001b[0mprint\u001b[0m\u001b[1;33m(\u001b[0m\u001b[1;34m'makin model'\u001b[0m\u001b[1;33m)\u001b[0m\u001b[1;33m\u001b[0m\u001b[0m\n\u001b[1;32m----> 4\u001b[1;33m     \u001b[0mLDA\u001b[0m \u001b[1;33m=\u001b[0m \u001b[0mgensim\u001b[0m\u001b[1;33m.\u001b[0m\u001b[0mmodels\u001b[0m\u001b[1;33m.\u001b[0m\u001b[0mldamodel\u001b[0m\u001b[1;33m.\u001b[0m\u001b[0mLdaModel\u001b[0m\u001b[1;33m(\u001b[0m\u001b[0mcorpus\u001b[0m\u001b[1;33m,\u001b[0m \u001b[0mid2word\u001b[0m\u001b[1;33m=\u001b[0m\u001b[0mdictionary\u001b[0m\u001b[1;33m,\u001b[0m \u001b[0mpasses\u001b[0m\u001b[1;33m=\u001b[0m\u001b[0mnum_passes\u001b[0m\u001b[1;33m,\u001b[0m \u001b[0mnum_topics\u001b[0m \u001b[1;33m=\u001b[0m \u001b[0mnum_topics\u001b[0m\u001b[1;33m,\u001b[0m \u001b[0mchunksize\u001b[0m\u001b[1;33m=\u001b[0m\u001b[0mchunksize\u001b[0m\u001b[1;33m)\u001b[0m\u001b[1;33m\u001b[0m\u001b[0m\n\u001b[0m\u001b[0;32m      5\u001b[0m     \u001b[1;31m#print time\u001b[0m\u001b[1;33m\u001b[0m\u001b[1;33m\u001b[0m\u001b[0m\n\u001b[0;32m      6\u001b[0m     \u001b[0mprint\u001b[0m \u001b[1;33m(\u001b[0m\u001b[1;34m'used: {:.2f}s'\u001b[0m\u001b[1;33m.\u001b[0m\u001b[0mformat\u001b[0m\u001b[1;33m(\u001b[0m\u001b[0mtime\u001b[0m\u001b[1;33m(\u001b[0m\u001b[1;33m)\u001b[0m\u001b[1;33m-\u001b[0m\u001b[0mstart\u001b[0m\u001b[1;33m)\u001b[0m\u001b[1;33m)\u001b[0m\u001b[1;33m\u001b[0m\u001b[0m\n",
      "\u001b[1;32m~\\Anaconda3\\lib\\site-packages\\gensim\\models\\ldamodel.py\u001b[0m in \u001b[0;36m__init__\u001b[1;34m(self, corpus, num_topics, id2word, distributed, chunksize, passes, update_every, alpha, eta, decay, offset, eval_every, iterations, gamma_threshold, minimum_probability, random_state, ns_conf, minimum_phi_value, per_word_topics, callbacks, dtype)\u001b[0m\n\u001b[0;32m    430\u001b[0m             \u001b[0mself\u001b[0m\u001b[1;33m.\u001b[0m\u001b[0mnum_terms\u001b[0m \u001b[1;33m=\u001b[0m \u001b[0mlen\u001b[0m\u001b[1;33m(\u001b[0m\u001b[0mself\u001b[0m\u001b[1;33m.\u001b[0m\u001b[0mid2word\u001b[0m\u001b[1;33m)\u001b[0m\u001b[1;33m\u001b[0m\u001b[0m\n\u001b[0;32m    431\u001b[0m         \u001b[1;32melif\u001b[0m \u001b[0mlen\u001b[0m\u001b[1;33m(\u001b[0m\u001b[0mself\u001b[0m\u001b[1;33m.\u001b[0m\u001b[0mid2word\u001b[0m\u001b[1;33m)\u001b[0m \u001b[1;33m>\u001b[0m \u001b[1;36m0\u001b[0m\u001b[1;33m:\u001b[0m\u001b[1;33m\u001b[0m\u001b[0m\n\u001b[1;32m--> 432\u001b[1;33m             \u001b[0mself\u001b[0m\u001b[1;33m.\u001b[0m\u001b[0mnum_terms\u001b[0m \u001b[1;33m=\u001b[0m \u001b[1;36m1\u001b[0m \u001b[1;33m+\u001b[0m \u001b[0mmax\u001b[0m\u001b[1;33m(\u001b[0m\u001b[0mself\u001b[0m\u001b[1;33m.\u001b[0m\u001b[0mid2word\u001b[0m\u001b[1;33m.\u001b[0m\u001b[0mkeys\u001b[0m\u001b[1;33m(\u001b[0m\u001b[1;33m)\u001b[0m\u001b[1;33m)\u001b[0m\u001b[1;33m\u001b[0m\u001b[0m\n\u001b[0m\u001b[0;32m    433\u001b[0m         \u001b[1;32melse\u001b[0m\u001b[1;33m:\u001b[0m\u001b[1;33m\u001b[0m\u001b[0m\n\u001b[0;32m    434\u001b[0m             \u001b[0mself\u001b[0m\u001b[1;33m.\u001b[0m\u001b[0mnum_terms\u001b[0m \u001b[1;33m=\u001b[0m \u001b[1;36m0\u001b[0m\u001b[1;33m\u001b[0m\u001b[0m\n",
      "\u001b[1;31mAttributeError\u001b[0m: 'MyCorpus' object has no attribute 'keys'"
     ]
    }
   ],
   "source": [
    "evaluate_graph(both_cor, both_dict, 50, 1000, 20)"
   ]
  },
  {
   "cell_type": "code",
   "execution_count": 27,
   "metadata": {},
   "outputs": [
    {
     "name": "stderr",
     "output_type": "stream",
     "text": [
      "2018-09-04 22:44:17,212 : INFO : using symmetric alpha at 0.1\n",
      "2018-09-04 22:44:17,216 : INFO : using symmetric eta at 0.1\n",
      "2018-09-04 22:44:17,220 : INFO : using serial LDA version on this node\n",
      "2018-09-04 22:44:17,244 : INFO : running online (multi-pass) LDA training, 10 topics, 20 passes over the supplied corpus of 34 documents, updating model once every 34 documents, evaluating perplexity every 34 documents, iterating 50x with a convergence threshold of 0.001000\n"
     ]
    },
    {
     "name": "stdout",
     "output_type": "stream",
     "text": [
      "makin model\n"
     ]
    },
    {
     "name": "stderr",
     "output_type": "stream",
     "text": [
      "2018-09-04 22:44:19,317 : INFO : -11.053 per-word bound, 2124.0 perplexity estimate based on a held-out corpus of 34 documents with 218978 words\n",
      "2018-09-04 22:44:19,317 : INFO : PROGRESS: pass 0, at document #34/34\n",
      "2018-09-04 22:44:19,473 : INFO : topic #3 (0.100): 0.011*\"smallpox\" + 0.009*\"leicester\" + 0.004*\"cowpox\" + 0.003*\"sheffield\" + 0.002*\"guardians\" + 0.002*\"borough\" + 0.002*\"million\" + 0.002*\"birch\" + 0.002*\"fatality\" + 0.002*\"red\"\n",
      "2018-09-04 22:44:19,473 : INFO : topic #9 (0.100): 0.019*\"smallpox\" + 0.006*\"cowpox\" + 0.005*\"sheffield\" + 0.003*\"borough\" + 0.003*\"leicester\" + 0.003*\"aged\" + 0.002*\"revaccinated\" + 0.002*\"pitted\" + 0.001*\"birch\" + 0.001*\"epidemics\"\n",
      "2018-09-04 22:44:19,477 : INFO : topic #7 (0.100): 0.015*\"smallpox\" + 0.013*\"sheffield\" + 0.006*\"cowpox\" + 0.003*\"revaccinated\" + 0.003*\"leicester\" + 0.003*\"aged\" + 0.003*\"borough\" + 0.002*\"census\" + 0.002*\"pitted\" + 0.002*\"west\"\n",
      "2018-09-04 22:44:19,477 : INFO : topic #4 (0.100): 0.014*\"smallpox\" + 0.007*\"cowpox\" + 0.005*\"leicester\" + 0.005*\"sheffield\" + 0.002*\"borough\" + 0.002*\"revaccinated\" + 0.001*\"birch\" + 0.001*\"guardians\" + 0.001*\"epidemics\" + 0.001*\"aged\"\n",
      "2018-09-04 22:44:19,481 : INFO : topic #0 (0.100): 0.009*\"smallpox\" + 0.009*\"sheffield\" + 0.003*\"aged\" + 0.003*\"revaccinated\" + 0.003*\"cowpox\" + 0.003*\"leicester\" + 0.002*\"borough\" + 0.002*\"pustule\" + 0.002*\"red\" + 0.002*\"figures\"\n",
      "2018-09-04 22:44:19,481 : INFO : topic diff=1.709616, rho=1.000000\n",
      "2018-09-04 22:44:21,778 : INFO : -9.852 per-word bound, 923.9 perplexity estimate based on a held-out corpus of 34 documents with 218978 words\n",
      "2018-09-04 22:44:21,778 : INFO : PROGRESS: pass 1, at document #34/34\n",
      "2018-09-04 22:44:21,958 : INFO : topic #7 (0.100): 0.034*\"sheffield\" + 0.012*\"borough\" + 0.011*\"aged\" + 0.011*\"revaccinated\" + 0.007*\"smallpox\" + 0.007*\"pitted\" + 0.007*\"census\" + 0.005*\"respectively\" + 0.005*\"barry\" + 0.005*\"workhouse\"\n",
      "2018-09-04 22:44:21,962 : INFO : topic #4 (0.100): 0.016*\"smallpox\" + 0.009*\"cowpox\" + 0.003*\"leicester\" + 0.003*\"sheffield\" + 0.001*\"borough\" + 0.001*\"pearson\" + 0.001*\"revaccinated\" + 0.001*\"birch\" + 0.001*\"variolation\" + 0.001*\"walker\"\n",
      "2018-09-04 22:44:21,962 : INFO : topic #5 (0.100): 0.008*\"birch\" + 0.006*\"smallpox\" + 0.005*\"ringwood\" + 0.005*\"leicester\" + 0.002*\"pamphlet\" + 0.002*\"cowpox\" + 0.002*\"failures\" + 0.002*\"ring\" + 0.002*\"adams\" + 0.002*\"governors\"\n",
      "2018-09-04 22:44:21,962 : INFO : topic #3 (0.100): 0.016*\"leicester\" + 0.006*\"smallpox\" + 0.003*\"guardians\" + 0.003*\"million\" + 0.003*\"commission\" + 0.002*\"fatality\" + 0.002*\"red\" + 0.002*\"cowpox\" + 0.002*\"births\" + 0.002*\"punctures\"\n",
      "2018-09-04 22:44:21,966 : INFO : topic #0 (0.100): 0.006*\"smallpox\" + 0.005*\"areola\" + 0.005*\"pustule\" + 0.004*\"sheffield\" + 0.004*\"red\" + 0.003*\"punctures\" + 0.003*\"scab\" + 0.003*\"aged\" + 0.003*\"affection\" + 0.002*\"phenomena\"\n",
      "2018-09-04 22:44:21,966 : INFO : topic diff=0.943649, rho=0.577350\n",
      "2018-09-04 22:44:24,323 : INFO : -9.362 per-word bound, 658.1 perplexity estimate based on a held-out corpus of 34 documents with 218978 words\n",
      "2018-09-04 22:44:24,323 : INFO : PROGRESS: pass 2, at document #34/34\n",
      "2018-09-04 22:44:24,470 : INFO : topic #3 (0.100): 0.024*\"leicester\" + 0.004*\"commission\" + 0.004*\"guardians\" + 0.004*\"million\" + 0.003*\"smallpox\" + 0.003*\"fatality\" + 0.002*\"births\" + 0.002*\"toxin\" + 0.002*\"tables\" + 0.002*\"revaccination\"\n",
      "2018-09-04 22:44:24,474 : INFO : topic #4 (0.100): 0.012*\"smallpox\" + 0.007*\"cowpox\" + 0.003*\"leicester\" + 0.002*\"sheffield\" + 0.002*\"dan\" + 0.002*\"sam\" + 0.002*\"physical\" + 0.002*\"fmall\" + 0.001*\"doctors\" + 0.001*\"humours\"\n",
      "2018-09-04 22:44:24,474 : INFO : topic #8 (0.100): 0.007*\"smallpox\" + 0.005*\"sheffield\" + 0.004*\"leicester\" + 0.003*\"cowpox\" + 0.002*\"aged\" + 0.002*\"borough\" + 0.002*\"revaccinated\" + 0.002*\"census\" + 0.002*\"guardians\" + 0.001*\"epidemics\"\n",
      "2018-09-04 22:44:24,478 : INFO : topic #0 (0.100): 0.007*\"areola\" + 0.006*\"red\" + 0.005*\"pustule\" + 0.005*\"punctures\" + 0.005*\"smallpox\" + 0.004*\"scab\" + 0.003*\"affection\" + 0.003*\"brown\" + 0.003*\"fame\" + 0.003*\"row\"\n",
      "2018-09-04 22:44:24,478 : INFO : topic #2 (0.100): 0.033*\"smallpox\" + 0.017*\"cowpox\" + 0.003*\"leicester\" + 0.003*\"pearson\" + 0.002*\"variolation\" + 0.002*\"walker\" + 0.002*\"baron\" + 0.002*\"spurious\" + 0.001*\"doctors\" + 0.001*\"claim\"\n",
      "2018-09-04 22:44:24,478 : INFO : topic diff=0.961834, rho=0.500000\n",
      "2018-09-04 22:44:26,703 : INFO : -9.107 per-word bound, 551.4 perplexity estimate based on a held-out corpus of 34 documents with 218978 words\n",
      "2018-09-04 22:44:26,703 : INFO : PROGRESS: pass 3, at document #34/34\n",
      "2018-09-04 22:44:26,835 : INFO : topic #9 (0.100): 0.029*\"smallpox\" + 0.004*\"talk\" + 0.003*\"cowpox\" + 0.002*\"inquirer\" + 0.002*\"doctors\" + 0.002*\"hygiene\" + 0.002*\"german\" + 0.002*\"germany\" + 0.002*\"liberty\" + 0.002*\"congress\"\n",
      "2018-09-04 22:44:26,839 : INFO : topic #6 (0.100): 0.013*\"smallpox\" + 0.002*\"calf\" + 0.002*\"god\" + 0.002*\"teeth\" + 0.002*\"syphilitic\" + 0.002*\"figures\" + 0.002*\"poisoning\" + 0.001*\"cowpox\" + 0.001*\"birch\" + 0.001*\"moseley\"\n",
      "2018-09-04 22:44:26,839 : INFO : topic #7 (0.100): 0.048*\"sheffield\" + 0.017*\"borough\" + 0.015*\"aged\" + 0.015*\"revaccinated\" + 0.011*\"pitted\" + 0.010*\"census\" + 0.008*\"respectively\" + 0.007*\"barry\" + 0.007*\"workhouse\" + 0.007*\"hallam\"\n",
      "2018-09-04 22:44:26,839 : INFO : topic #1 (0.100): 0.005*\"leicester\" + 0.003*\"syphilitic\" + 0.002*\"sheffield\" + 0.002*\"essay\" + 0.002*\"consumption\" + 0.002*\"aged\" + 0.002*\"epidemics\" + 0.002*\"commission\" + 0.002*\"scarlatina\" + 0.002*\"figures\"\n",
      "2018-09-04 22:44:26,839 : INFO : topic #3 (0.100): 0.027*\"leicester\" + 0.005*\"commission\" + 0.004*\"guardians\" + 0.004*\"million\" + 0.004*\"fatality\" + 0.003*\"births\" + 0.003*\"toxin\" + 0.002*\"tables\" + 0.002*\"figures\" + 0.002*\"revaccination\"\n",
      "2018-09-04 22:44:26,843 : INFO : topic diff=0.816218, rho=0.447214\n",
      "2018-09-04 22:44:29,020 : INFO : -8.986 per-word bound, 507.1 perplexity estimate based on a held-out corpus of 34 documents with 218978 words\n",
      "2018-09-04 22:44:29,020 : INFO : PROGRESS: pass 4, at document #34/34\n",
      "2018-09-04 22:44:29,148 : INFO : topic #8 (0.100): 0.003*\"smallpox\" + 0.003*\"variola\" + 0.003*\"returns\" + 0.003*\"sheffield\" + 0.002*\"regards\" + 0.002*\"ending\" + 0.002*\"epidemiological\" + 0.002*\"ireland\" + 0.002*\"leicester\" + 0.002*\"exposure\"\n",
      "2018-09-04 22:44:29,148 : INFO : topic #7 (0.100): 0.050*\"sheffield\" + 0.018*\"borough\" + 0.016*\"aged\" + 0.016*\"revaccinated\" + 0.011*\"pitted\" + 0.010*\"census\" + 0.008*\"respectively\" + 0.007*\"barry\" + 0.007*\"workhouse\" + 0.007*\"hallam\"\n",
      "2018-09-04 22:44:29,148 : INFO : topic #4 (0.100): 0.005*\"smallpox\" + 0.004*\"physical\" + 0.003*\"humours\" + 0.003*\"dan\" + 0.003*\"sam\" + 0.003*\"cowpox\" + 0.003*\"fmall\" + 0.002*\"doctors\" + 0.002*\"vital\" + 0.002*\"humour\"\n",
      "2018-09-04 22:44:29,152 : INFO : topic #0 (0.100): 0.008*\"areola\" + 0.007*\"red\" + 0.007*\"punctures\" + 0.006*\"pustule\" + 0.005*\"scab\" + 0.004*\"smallpox\" + 0.004*\"brown\" + 0.004*\"fame\" + 0.004*\"row\" + 0.004*\"affection\"\n",
      "2018-09-04 22:44:29,152 : INFO : topic #2 (0.100): 0.037*\"smallpox\" + 0.018*\"cowpox\" + 0.003*\"pearson\" + 0.003*\"variolation\" + 0.002*\"walker\" + 0.002*\"baron\" + 0.002*\"spurious\" + 0.001*\"woodville\" + 0.001*\"doctors\" + 0.001*\"claim\"\n",
      "2018-09-04 22:44:29,152 : INFO : topic diff=0.668247, rho=0.408248\n",
      "2018-09-04 22:44:31,313 : INFO : -8.920 per-word bound, 484.5 perplexity estimate based on a held-out corpus of 34 documents with 218978 words\n",
      "2018-09-04 22:44:31,313 : INFO : PROGRESS: pass 5, at document #34/34\n",
      "2018-09-04 22:44:31,445 : INFO : topic #7 (0.100): 0.051*\"sheffield\" + 0.018*\"borough\" + 0.017*\"aged\" + 0.016*\"revaccinated\" + 0.011*\"pitted\" + 0.010*\"census\" + 0.008*\"respectively\" + 0.008*\"barry\" + 0.008*\"workhouse\" + 0.007*\"hallam\"\n",
      "2018-09-04 22:44:31,445 : INFO : topic #0 (0.100): 0.008*\"areola\" + 0.008*\"red\" + 0.007*\"punctures\" + 0.006*\"pustule\" + 0.005*\"scab\" + 0.004*\"smallpox\" + 0.004*\"brown\" + 0.004*\"fame\" + 0.004*\"row\" + 0.004*\"affection\"\n",
      "2018-09-04 22:44:31,445 : INFO : topic #3 (0.100): 0.029*\"leicester\" + 0.005*\"commission\" + 0.005*\"guardians\" + 0.005*\"million\" + 0.004*\"fatality\" + 0.003*\"births\" + 0.003*\"toxin\" + 0.002*\"figures\" + 0.002*\"tables\" + 0.002*\"calf\"\n",
      "2018-09-04 22:44:31,445 : INFO : topic #6 (0.100): 0.011*\"smallpox\" + 0.003*\"calf\" + 0.002*\"god\" + 0.002*\"teeth\" + 0.002*\"poisoning\" + 0.002*\"syphilitic\" + 0.002*\"figures\" + 0.001*\"prison\" + 0.001*\"registrar\" + 0.001*\"moseley\"\n"
     ]
    },
    {
     "name": "stderr",
     "output_type": "stream",
     "text": [
      "2018-09-04 22:44:31,449 : INFO : topic #5 (0.100): 0.015*\"birch\" + 0.009*\"ringwood\" + 0.004*\"pamphlet\" + 0.003*\"failures\" + 0.003*\"ring\" + 0.003*\"adams\" + 0.003*\"governors\" + 0.002*\"conduct\" + 0.002*\"dear\" + 0.002*\"westcott\"\n",
      "2018-09-04 22:44:31,449 : INFO : topic diff=0.532284, rho=0.377964\n",
      "2018-09-04 22:44:33,502 : INFO : -8.882 per-word bound, 471.9 perplexity estimate based on a held-out corpus of 34 documents with 218978 words\n",
      "2018-09-04 22:44:33,502 : INFO : PROGRESS: pass 6, at document #34/34\n",
      "2018-09-04 22:44:33,630 : INFO : topic #6 (0.100): 0.011*\"smallpox\" + 0.003*\"calf\" + 0.003*\"god\" + 0.002*\"teeth\" + 0.002*\"poisoning\" + 0.002*\"syphilitic\" + 0.002*\"figures\" + 0.002*\"prison\" + 0.001*\"doctors\" + 0.001*\"registrar\"\n",
      "2018-09-04 22:44:33,630 : INFO : topic #9 (0.100): 0.028*\"smallpox\" + 0.005*\"talk\" + 0.003*\"inquirer\" + 0.003*\"hygiene\" + 0.002*\"german\" + 0.002*\"doctors\" + 0.002*\"congress\" + 0.002*\"germany\" + 0.002*\"cowpox\" + 0.002*\"sanitation\"\n",
      "2018-09-04 22:44:33,634 : INFO : topic #7 (0.100): 0.052*\"sheffield\" + 0.019*\"borough\" + 0.017*\"aged\" + 0.017*\"revaccinated\" + 0.012*\"pitted\" + 0.011*\"census\" + 0.008*\"respectively\" + 0.008*\"barry\" + 0.008*\"workhouse\" + 0.007*\"hallam\"\n",
      "2018-09-04 22:44:33,634 : INFO : topic #8 (0.100): 0.004*\"variola\" + 0.003*\"returns\" + 0.003*\"regards\" + 0.003*\"ending\" + 0.003*\"epidemiological\" + 0.002*\"ireland\" + 0.002*\"exposure\" + 0.002*\"determine\" + 0.002*\"modifying\" + 0.002*\"comparison\"\n",
      "2018-09-04 22:44:33,634 : INFO : topic #0 (0.100): 0.009*\"areola\" + 0.008*\"red\" + 0.007*\"punctures\" + 0.006*\"pustule\" + 0.005*\"scab\" + 0.004*\"smallpox\" + 0.004*\"brown\" + 0.004*\"fame\" + 0.004*\"row\" + 0.004*\"affection\"\n",
      "2018-09-04 22:44:33,638 : INFO : topic diff=0.416332, rho=0.353553\n"
     ]
    },
    {
     "ename": "KeyboardInterrupt",
     "evalue": "",
     "output_type": "error",
     "traceback": [
      "\u001b[1;31m---------------------------------------------------------------------------\u001b[0m",
      "\u001b[1;31mKeyboardInterrupt\u001b[0m                         Traceback (most recent call last)",
      "\u001b[1;32m<ipython-input-27-a1f3e31af6f4>\u001b[0m in \u001b[0;36m<module>\u001b[1;34m()\u001b[0m\n\u001b[1;32m----> 1\u001b[1;33m \u001b[0mbothLDA\u001b[0m \u001b[1;33m=\u001b[0m \u001b[0mlda_model\u001b[0m\u001b[1;33m(\u001b[0m\u001b[0mboth_cor\u001b[0m\u001b[1;33m,\u001b[0m \u001b[0mboth_dict\u001b[0m\u001b[1;33m,\u001b[0m \u001b[1;36m20\u001b[0m\u001b[1;33m,\u001b[0m \u001b[1;36m10\u001b[0m\u001b[1;33m,\u001b[0m \u001b[1;36m100\u001b[0m\u001b[1;33m)\u001b[0m\u001b[1;33m\u001b[0m\u001b[0m\n\u001b[0m",
      "\u001b[1;32m<ipython-input-22-bb31473b43a6>\u001b[0m in \u001b[0;36mlda_model\u001b[1;34m(corpus, dictionary, num_passes, num_topics, chunksize)\u001b[0m\n\u001b[0;32m      2\u001b[0m     \u001b[0mstart\u001b[0m \u001b[1;33m=\u001b[0m \u001b[0mtime\u001b[0m\u001b[1;33m(\u001b[0m\u001b[1;33m)\u001b[0m\u001b[1;33m\u001b[0m\u001b[0m\n\u001b[0;32m      3\u001b[0m     \u001b[0mprint\u001b[0m\u001b[1;33m(\u001b[0m\u001b[1;34m'makin model'\u001b[0m\u001b[1;33m)\u001b[0m\u001b[1;33m\u001b[0m\u001b[0m\n\u001b[1;32m----> 4\u001b[1;33m     \u001b[0mLDA\u001b[0m \u001b[1;33m=\u001b[0m \u001b[0mgensim\u001b[0m\u001b[1;33m.\u001b[0m\u001b[0mmodels\u001b[0m\u001b[1;33m.\u001b[0m\u001b[0mldamodel\u001b[0m\u001b[1;33m.\u001b[0m\u001b[0mLdaModel\u001b[0m\u001b[1;33m(\u001b[0m\u001b[0mcorpus\u001b[0m\u001b[1;33m,\u001b[0m \u001b[0mid2word\u001b[0m\u001b[1;33m=\u001b[0m\u001b[0mdictionary\u001b[0m\u001b[1;33m,\u001b[0m \u001b[0mpasses\u001b[0m\u001b[1;33m=\u001b[0m\u001b[0mnum_passes\u001b[0m\u001b[1;33m,\u001b[0m \u001b[0mnum_topics\u001b[0m \u001b[1;33m=\u001b[0m \u001b[0mnum_topics\u001b[0m\u001b[1;33m,\u001b[0m \u001b[0mchunksize\u001b[0m\u001b[1;33m=\u001b[0m\u001b[0mchunksize\u001b[0m\u001b[1;33m)\u001b[0m\u001b[1;33m\u001b[0m\u001b[0m\n\u001b[0m\u001b[0;32m      5\u001b[0m     \u001b[1;31m#print time\u001b[0m\u001b[1;33m\u001b[0m\u001b[1;33m\u001b[0m\u001b[0m\n\u001b[0;32m      6\u001b[0m     \u001b[0mprint\u001b[0m \u001b[1;33m(\u001b[0m\u001b[1;34m'used: {:.2f}s'\u001b[0m\u001b[1;33m.\u001b[0m\u001b[0mformat\u001b[0m\u001b[1;33m(\u001b[0m\u001b[0mtime\u001b[0m\u001b[1;33m(\u001b[0m\u001b[1;33m)\u001b[0m\u001b[1;33m-\u001b[0m\u001b[0mstart\u001b[0m\u001b[1;33m)\u001b[0m\u001b[1;33m)\u001b[0m\u001b[1;33m\u001b[0m\u001b[0m\n",
      "\u001b[1;32m~\\Anaconda3\\lib\\site-packages\\gensim\\models\\ldamodel.py\u001b[0m in \u001b[0;36m__init__\u001b[1;34m(self, corpus, num_topics, id2word, distributed, chunksize, passes, update_every, alpha, eta, decay, offset, eval_every, iterations, gamma_threshold, minimum_probability, random_state, ns_conf, minimum_phi_value, per_word_topics, callbacks, dtype)\u001b[0m\n\u001b[0;32m    513\u001b[0m         \u001b[1;32mif\u001b[0m \u001b[0mcorpus\u001b[0m \u001b[1;32mis\u001b[0m \u001b[1;32mnot\u001b[0m \u001b[1;32mNone\u001b[0m\u001b[1;33m:\u001b[0m\u001b[1;33m\u001b[0m\u001b[0m\n\u001b[0;32m    514\u001b[0m             \u001b[0muse_numpy\u001b[0m \u001b[1;33m=\u001b[0m \u001b[0mself\u001b[0m\u001b[1;33m.\u001b[0m\u001b[0mdispatcher\u001b[0m \u001b[1;32mis\u001b[0m \u001b[1;32mnot\u001b[0m \u001b[1;32mNone\u001b[0m\u001b[1;33m\u001b[0m\u001b[0m\n\u001b[1;32m--> 515\u001b[1;33m             \u001b[0mself\u001b[0m\u001b[1;33m.\u001b[0m\u001b[0mupdate\u001b[0m\u001b[1;33m(\u001b[0m\u001b[0mcorpus\u001b[0m\u001b[1;33m,\u001b[0m \u001b[0mchunks_as_numpy\u001b[0m\u001b[1;33m=\u001b[0m\u001b[0muse_numpy\u001b[0m\u001b[1;33m)\u001b[0m\u001b[1;33m\u001b[0m\u001b[0m\n\u001b[0m\u001b[0;32m    516\u001b[0m \u001b[1;33m\u001b[0m\u001b[0m\n\u001b[0;32m    517\u001b[0m     \u001b[1;32mdef\u001b[0m \u001b[0minit_dir_prior\u001b[0m\u001b[1;33m(\u001b[0m\u001b[0mself\u001b[0m\u001b[1;33m,\u001b[0m \u001b[0mprior\u001b[0m\u001b[1;33m,\u001b[0m \u001b[0mname\u001b[0m\u001b[1;33m)\u001b[0m\u001b[1;33m:\u001b[0m\u001b[1;33m\u001b[0m\u001b[0m\n",
      "\u001b[1;32m~\\Anaconda3\\lib\\site-packages\\gensim\\models\\ldamodel.py\u001b[0m in \u001b[0;36mupdate\u001b[1;34m(self, corpus, chunksize, decay, offset, passes, update_every, eval_every, iterations, gamma_threshold, chunks_as_numpy)\u001b[0m\n\u001b[0;32m    946\u001b[0m \u001b[1;33m\u001b[0m\u001b[0m\n\u001b[0;32m    947\u001b[0m                 \u001b[1;32mif\u001b[0m \u001b[0meval_every\u001b[0m \u001b[1;32mand\u001b[0m \u001b[1;33m(\u001b[0m\u001b[1;33m(\u001b[0m\u001b[0mreallen\u001b[0m \u001b[1;33m==\u001b[0m \u001b[0mlencorpus\u001b[0m\u001b[1;33m)\u001b[0m \u001b[1;32mor\u001b[0m \u001b[1;33m(\u001b[0m\u001b[1;33m(\u001b[0m\u001b[0mchunk_no\u001b[0m \u001b[1;33m+\u001b[0m \u001b[1;36m1\u001b[0m\u001b[1;33m)\u001b[0m \u001b[1;33m%\u001b[0m \u001b[1;33m(\u001b[0m\u001b[0meval_every\u001b[0m \u001b[1;33m*\u001b[0m \u001b[0mself\u001b[0m\u001b[1;33m.\u001b[0m\u001b[0mnumworkers\u001b[0m\u001b[1;33m)\u001b[0m \u001b[1;33m==\u001b[0m \u001b[1;36m0\u001b[0m\u001b[1;33m)\u001b[0m\u001b[1;33m)\u001b[0m\u001b[1;33m:\u001b[0m\u001b[1;33m\u001b[0m\u001b[0m\n\u001b[1;32m--> 948\u001b[1;33m                     \u001b[0mself\u001b[0m\u001b[1;33m.\u001b[0m\u001b[0mlog_perplexity\u001b[0m\u001b[1;33m(\u001b[0m\u001b[0mchunk\u001b[0m\u001b[1;33m,\u001b[0m \u001b[0mtotal_docs\u001b[0m\u001b[1;33m=\u001b[0m\u001b[0mlencorpus\u001b[0m\u001b[1;33m)\u001b[0m\u001b[1;33m\u001b[0m\u001b[0m\n\u001b[0m\u001b[0;32m    949\u001b[0m \u001b[1;33m\u001b[0m\u001b[0m\n\u001b[0;32m    950\u001b[0m                 \u001b[1;32mif\u001b[0m \u001b[0mself\u001b[0m\u001b[1;33m.\u001b[0m\u001b[0mdispatcher\u001b[0m\u001b[1;33m:\u001b[0m\u001b[1;33m\u001b[0m\u001b[0m\n",
      "\u001b[1;32m~\\Anaconda3\\lib\\site-packages\\gensim\\models\\ldamodel.py\u001b[0m in \u001b[0;36mlog_perplexity\u001b[1;34m(self, chunk, total_docs)\u001b[0m\n\u001b[0;32m    802\u001b[0m         \u001b[0mcorpus_words\u001b[0m \u001b[1;33m=\u001b[0m \u001b[0msum\u001b[0m\u001b[1;33m(\u001b[0m\u001b[0mcnt\u001b[0m \u001b[1;32mfor\u001b[0m \u001b[0mdocument\u001b[0m \u001b[1;32min\u001b[0m \u001b[0mchunk\u001b[0m \u001b[1;32mfor\u001b[0m \u001b[0m_\u001b[0m\u001b[1;33m,\u001b[0m \u001b[0mcnt\u001b[0m \u001b[1;32min\u001b[0m \u001b[0mdocument\u001b[0m\u001b[1;33m)\u001b[0m\u001b[1;33m\u001b[0m\u001b[0m\n\u001b[0;32m    803\u001b[0m         \u001b[0msubsample_ratio\u001b[0m \u001b[1;33m=\u001b[0m \u001b[1;36m1.0\u001b[0m \u001b[1;33m*\u001b[0m \u001b[0mtotal_docs\u001b[0m \u001b[1;33m/\u001b[0m \u001b[0mlen\u001b[0m\u001b[1;33m(\u001b[0m\u001b[0mchunk\u001b[0m\u001b[1;33m)\u001b[0m\u001b[1;33m\u001b[0m\u001b[0m\n\u001b[1;32m--> 804\u001b[1;33m         \u001b[0mperwordbound\u001b[0m \u001b[1;33m=\u001b[0m \u001b[0mself\u001b[0m\u001b[1;33m.\u001b[0m\u001b[0mbound\u001b[0m\u001b[1;33m(\u001b[0m\u001b[0mchunk\u001b[0m\u001b[1;33m,\u001b[0m \u001b[0msubsample_ratio\u001b[0m\u001b[1;33m=\u001b[0m\u001b[0msubsample_ratio\u001b[0m\u001b[1;33m)\u001b[0m \u001b[1;33m/\u001b[0m \u001b[1;33m(\u001b[0m\u001b[0msubsample_ratio\u001b[0m \u001b[1;33m*\u001b[0m \u001b[0mcorpus_words\u001b[0m\u001b[1;33m)\u001b[0m\u001b[1;33m\u001b[0m\u001b[0m\n\u001b[0m\u001b[0;32m    805\u001b[0m         logger.info(\n\u001b[0;32m    806\u001b[0m             \u001b[1;34m\"%.3f per-word bound, %.1f perplexity estimate based on a held-out corpus of %i documents with %i words\"\u001b[0m\u001b[1;33m,\u001b[0m\u001b[1;33m\u001b[0m\u001b[0m\n",
      "\u001b[1;32m~\\Anaconda3\\lib\\site-packages\\gensim\\models\\ldamodel.py\u001b[0m in \u001b[0;36mbound\u001b[1;34m(self, corpus, gamma, subsample_ratio)\u001b[0m\n\u001b[0;32m   1075\u001b[0m \u001b[1;33m\u001b[0m\u001b[0m\n\u001b[0;32m   1076\u001b[0m             \u001b[1;31m# E[log p(doc | theta, beta)]\u001b[0m\u001b[1;33m\u001b[0m\u001b[1;33m\u001b[0m\u001b[0m\n\u001b[1;32m-> 1077\u001b[1;33m             \u001b[0mscore\u001b[0m \u001b[1;33m+=\u001b[0m \u001b[0mnp\u001b[0m\u001b[1;33m.\u001b[0m\u001b[0msum\u001b[0m\u001b[1;33m(\u001b[0m\u001b[0mcnt\u001b[0m \u001b[1;33m*\u001b[0m \u001b[0mlogsumexp\u001b[0m\u001b[1;33m(\u001b[0m\u001b[0mElogthetad\u001b[0m \u001b[1;33m+\u001b[0m \u001b[0mElogbeta\u001b[0m\u001b[1;33m[\u001b[0m\u001b[1;33m:\u001b[0m\u001b[1;33m,\u001b[0m \u001b[0mint\u001b[0m\u001b[1;33m(\u001b[0m\u001b[0mid\u001b[0m\u001b[1;33m)\u001b[0m\u001b[1;33m]\u001b[0m\u001b[1;33m)\u001b[0m \u001b[1;32mfor\u001b[0m \u001b[0mid\u001b[0m\u001b[1;33m,\u001b[0m \u001b[0mcnt\u001b[0m \u001b[1;32min\u001b[0m \u001b[0mdoc\u001b[0m\u001b[1;33m)\u001b[0m\u001b[1;33m\u001b[0m\u001b[0m\n\u001b[0m\u001b[0;32m   1078\u001b[0m \u001b[1;33m\u001b[0m\u001b[0m\n\u001b[0;32m   1079\u001b[0m             \u001b[1;31m# E[log p(theta | alpha) - log q(theta | gamma)]; assumes alpha is a vector\u001b[0m\u001b[1;33m\u001b[0m\u001b[1;33m\u001b[0m\u001b[0m\n",
      "\u001b[1;32m~\\Anaconda3\\lib\\site-packages\\numpy\\core\\fromnumeric.py\u001b[0m in \u001b[0;36msum\u001b[1;34m(a, axis, dtype, out, keepdims)\u001b[0m\n\u001b[0;32m   1819\u001b[0m         \u001b[0mkwargs\u001b[0m\u001b[1;33m[\u001b[0m\u001b[1;34m'keepdims'\u001b[0m\u001b[1;33m]\u001b[0m \u001b[1;33m=\u001b[0m \u001b[0mkeepdims\u001b[0m\u001b[1;33m\u001b[0m\u001b[0m\n\u001b[0;32m   1820\u001b[0m     \u001b[1;32mif\u001b[0m \u001b[0misinstance\u001b[0m\u001b[1;33m(\u001b[0m\u001b[0ma\u001b[0m\u001b[1;33m,\u001b[0m \u001b[0m_gentype\u001b[0m\u001b[1;33m)\u001b[0m\u001b[1;33m:\u001b[0m\u001b[1;33m\u001b[0m\u001b[0m\n\u001b[1;32m-> 1821\u001b[1;33m         \u001b[0mres\u001b[0m \u001b[1;33m=\u001b[0m \u001b[0m_sum_\u001b[0m\u001b[1;33m(\u001b[0m\u001b[0ma\u001b[0m\u001b[1;33m)\u001b[0m\u001b[1;33m\u001b[0m\u001b[0m\n\u001b[0m\u001b[0;32m   1822\u001b[0m         \u001b[1;32mif\u001b[0m \u001b[0mout\u001b[0m \u001b[1;32mis\u001b[0m \u001b[1;32mnot\u001b[0m \u001b[1;32mNone\u001b[0m\u001b[1;33m:\u001b[0m\u001b[1;33m\u001b[0m\u001b[0m\n\u001b[0;32m   1823\u001b[0m             \u001b[0mout\u001b[0m\u001b[1;33m[\u001b[0m\u001b[1;33m...\u001b[0m\u001b[1;33m]\u001b[0m \u001b[1;33m=\u001b[0m \u001b[0mres\u001b[0m\u001b[1;33m\u001b[0m\u001b[0m\n",
      "\u001b[1;32m~\\Anaconda3\\lib\\site-packages\\gensim\\models\\ldamodel.py\u001b[0m in \u001b[0;36m<genexpr>\u001b[1;34m(.0)\u001b[0m\n\u001b[0;32m   1075\u001b[0m \u001b[1;33m\u001b[0m\u001b[0m\n\u001b[0;32m   1076\u001b[0m             \u001b[1;31m# E[log p(doc | theta, beta)]\u001b[0m\u001b[1;33m\u001b[0m\u001b[1;33m\u001b[0m\u001b[0m\n\u001b[1;32m-> 1077\u001b[1;33m             \u001b[0mscore\u001b[0m \u001b[1;33m+=\u001b[0m \u001b[0mnp\u001b[0m\u001b[1;33m.\u001b[0m\u001b[0msum\u001b[0m\u001b[1;33m(\u001b[0m\u001b[0mcnt\u001b[0m \u001b[1;33m*\u001b[0m \u001b[0mlogsumexp\u001b[0m\u001b[1;33m(\u001b[0m\u001b[0mElogthetad\u001b[0m \u001b[1;33m+\u001b[0m \u001b[0mElogbeta\u001b[0m\u001b[1;33m[\u001b[0m\u001b[1;33m:\u001b[0m\u001b[1;33m,\u001b[0m \u001b[0mint\u001b[0m\u001b[1;33m(\u001b[0m\u001b[0mid\u001b[0m\u001b[1;33m)\u001b[0m\u001b[1;33m]\u001b[0m\u001b[1;33m)\u001b[0m \u001b[1;32mfor\u001b[0m \u001b[0mid\u001b[0m\u001b[1;33m,\u001b[0m \u001b[0mcnt\u001b[0m \u001b[1;32min\u001b[0m \u001b[0mdoc\u001b[0m\u001b[1;33m)\u001b[0m\u001b[1;33m\u001b[0m\u001b[0m\n\u001b[0m\u001b[0;32m   1078\u001b[0m \u001b[1;33m\u001b[0m\u001b[0m\n\u001b[0;32m   1079\u001b[0m             \u001b[1;31m# E[log p(theta | alpha) - log q(theta | gamma)]; assumes alpha is a vector\u001b[0m\u001b[1;33m\u001b[0m\u001b[1;33m\u001b[0m\u001b[0m\n",
      "\u001b[1;31mKeyboardInterrupt\u001b[0m: "
     ]
    }
   ],
   "source": [
    "bothLDA = lda_model(both_cor, both_dict, 20, 10, 100)"
   ]
  },
  {
   "cell_type": "code",
   "execution_count": null,
   "metadata": {
    "collapsed": true
   },
   "outputs": [],
   "source": [
    "print_topics(bothLDA, 10)"
   ]
  },
  {
   "cell_type": "markdown",
   "metadata": {
    "collapsed": true
   },
   "source": [
    "both_topics = get_topics('both_corpus_w9TEST', bothLDA, 9)\n",
    "print(both_topics)"
   ]
  },
  {
   "cell_type": "markdown",
   "metadata": {
    "collapsed": true
   },
   "source": [
    "#make viz for both\n",
    "make_ldavis(bothLDA, both_cor_serial, both_dict, 'both_corpus_9TEST')"
   ]
  },
  {
   "cell_type": "markdown",
   "metadata": {
    "collapsed": true
   },
   "source": [
    "corpus = pickle.load(open('C:/Users/kec52/Documents/BLtext_research/both_corpus.pkl', 'rb'))\n",
    "serial_corpus = MmCorpus(datapath('C:/Users/kec52/Documents/BLtext_research/tmp/both_corpus_serialized.mm'))\n",
    "dictionary = Dictionary.load('C:/Users/kec52/Documents/BLtext_research/both_corpus_dictionary.dict')"
   ]
  },
  {
   "cell_type": "markdown",
   "metadata": {
    "collapsed": true
   },
   "source": [
    "lda = lda_model(corpus,dictionary, 50, 9)"
   ]
  },
  {
   "cell_type": "markdown",
   "metadata": {
    "collapsed": true
   },
   "source": [
    "print_topics(lda, 10)"
   ]
  },
  {
   "cell_type": "markdown",
   "metadata": {
    "collapsed": true
   },
   "source": [
    "get_topics('test_both2TEST', lda, 9)"
   ]
  },
  {
   "cell_type": "markdown",
   "metadata": {
    "collapsed": true
   },
   "source": [
    "make_ldavis(lda, serialized_corpus, dictionary, 'both_test_again2')"
   ]
  },
  {
   "cell_type": "code",
   "execution_count": null,
   "metadata": {
    "collapsed": true
   },
   "outputs": [],
   "source": []
  }
 ],
 "metadata": {
  "kernelspec": {
   "display_name": "Python 3",
   "language": "python",
   "name": "python3"
  },
  "language_info": {
   "codemirror_mode": {
    "name": "ipython",
    "version": 3
   },
   "file_extension": ".py",
   "mimetype": "text/x-python",
   "name": "python",
   "nbconvert_exporter": "python",
   "pygments_lexer": "ipython3",
   "version": "3.6.3"
  }
 },
 "nbformat": 4,
 "nbformat_minor": 2
}
