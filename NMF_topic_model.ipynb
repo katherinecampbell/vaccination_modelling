{
 "cells": [
  {
   "cell_type": "code",
   "execution_count": 1,
   "metadata": {},
   "outputs": [
    {
     "name": "stderr",
     "output_type": "stream",
     "text": [
      "C:\\Users\\kec52\\Anaconda3\\lib\\site-packages\\gensim\\utils.py:1209: UserWarning: detected Windows; aliasing chunkize to chunkize_serial\n",
      "  warnings.warn(\"detected Windows; aliasing chunkize to chunkize_serial\")\n"
     ]
    }
   ],
   "source": [
    "import os, os.path\n",
    "import sys\n",
    "import codecs\n",
    "import logging as log\n",
    "from time import time\n",
    "import pickle\n",
    "import io\n",
    "import pandas as pd\n",
    "from collections import Counter\n",
    "import numpy as np\n",
    "import matplotlib.pyplot as plt\n",
    "import scipy as sp\n",
    "import gensim\n",
    "from gensim.parsing.preprocessing import STOPWORDS\n",
    "from gensim.utils import simple_preprocess\n",
    "from sklearn.externals import joblib\n",
    "import sklearn\n",
    "import sklearn.feature_extraction.text as text\n",
    "from sklearn.feature_extraction.text import CountVectorizer, TfidfTransformer, TfidfVectorizer\n",
    "from sklearn.decomposition import NMF\n",
    "from sklearn.preprocessing import normalize\n",
    "import nltk\n",
    "from nltk.corpus import stopwords, wordnet as wn\n",
    "from nltk.stem.wordnet import WordNetLemmatizer\n",
    "from nltk.text import Text\n",
    "from itertools import *"
   ]
  },
  {
   "cell_type": "code",
   "execution_count": 2,
   "metadata": {},
   "outputs": [],
   "source": [
    "#stop word from txt files to lists\n",
    "with open ('C:/Users/kec52/Documents/BLtext_research/latin_stop.txt', 'r') as latin:\n",
    "    latin_stop = [word.strip(\",.\") for line in latin for word in line.lower().split()]\n",
    "    latin_stop.append('ab')\n",
    "\n",
    "with open ('C:/Users/kec52/Documents/BLtext_research/german_stop.txt', 'r') as german:\n",
    "    german_stop = [word.strip(\",.\") for line in german for word in line.lower().split()]\n",
    "    german_stop.append('aber')\n",
    "    \n",
    "with open ('C:/Users/kec52/Documents/BLtext_research/french_stop.txt', 'r') as french:\n",
    "    french_stop = [word.strip(\",.\") for line in french for word in line.lower().split()]\n",
    "    french_stop.append('alors')\n",
    "    \n",
    "with open ('C:/Users/kec52/Documents/BLtext_research/spanish_stop.txt', 'r') as spanish:\n",
    "    spanish_stop = [word.strip(\",.\") for line in spanish for word in line.lower().split()]\n",
    "    spanish_stop.append('un')\n",
    "    \n",
    "with open ('C:/Users/kec52/Documents/BLtext_research/extrastop.txt', 'r') as extra: #covers spelling mistakes\n",
    "    extrastop = [word.strip(\",.\") for line in extra for word in line.lower().split()]\n",
    "    extrastop.append('fhall')\n",
    "\n",
    "english_stop = list(STOPWORDS)\n",
    "\n",
    "extra_stop = ['tli', 'https', 'thk', 'http', 'org','ofthe', 'tha', 'tho', 'ther', 'there', 'der', 'dat', 'ain', 'tis', 'thee', 'thou', 'thy', 'waa']\n",
    "stop_words = english_stop + extra_stop + spanish_stop + german_stop + latin_stop + french_stop\n",
    "\n"
   ]
  },
  {
   "cell_type": "code",
   "execution_count": 3,
   "metadata": {
    "collapsed": true
   },
   "outputs": [],
   "source": [
    "def save_corpus( out_prefix, X, terms, doc_ids ):\n",
    "    matrix_outpath = \"%s.pkl\" % out_prefix \n",
    "    log.info( \"Saving document-term matrix to %s\" % matrix_outpath )\n",
    "    joblib.dump((X,terms,doc_ids), matrix_outpath ) "
   ]
  },
  {
   "cell_type": "code",
   "execution_count": 4,
   "metadata": {
    "collapsed": true
   },
   "outputs": [],
   "source": [
    "def load_corpus( in_path ):\n",
    "    (X,terms,doc_ids) = joblib.load( in_path )\n",
    "    return (X, terms, doc_ids)"
   ]
  },
  {
   "cell_type": "code",
   "execution_count": 5,
   "metadata": {
    "collapsed": true
   },
   "outputs": [],
   "source": [
    "def tokenize(text):\n",
    "    x = [token for token in simple_preprocess(text) if token not in stop_words and len(token) > 2]\n",
    "    print(x[:10])\n",
    "    return x"
   ]
  },
  {
   "cell_type": "code",
   "execution_count": 6,
   "metadata": {
    "collapsed": true
   },
   "outputs": [],
   "source": [
    "#lemmatize for verbs\n",
    "def get_lemma(word):\n",
    "    lemma = wn.morphy(word)\n",
    "    if lemma is None:\n",
    "        lemma = word\n",
    "    return lemma\n",
    "\n",
    "#lemmatize for nouns\n",
    "def get_lemma2(word):\n",
    "    return WordNetLemmatizer().lemmatize(word)"
   ]
  },
  {
   "cell_type": "code",
   "execution_count": 7,
   "metadata": {
    "collapsed": true
   },
   "outputs": [],
   "source": [
    "#clean texts\n",
    "def clean_txt(text):\n",
    "    tokens = tokenize(text)\n",
    "    tokens = [token for token in tokens if len(token) > 2]\n",
    "    tokens = [get_lemma(token) for token in tokens]\n",
    "    tokens = [get_lemma2(token) for token in tokens]\n",
    "    tokens = \" \".join(str(x) for x in tokens)\n",
    "    return tokens"
   ]
  },
  {
   "cell_type": "code",
   "execution_count": 8,
   "metadata": {
    "collapsed": true
   },
   "outputs": [],
   "source": [
    "class File2Doc(object):\n",
    "    def __init__(self, top_dir):\n",
    "        self.top_dir = top_dir\n",
    "\n",
    "    def __iter__(self):\n",
    "        for root, dirs, files in os.walk(self.top_dir):\n",
    "            for fname in filter(lambda fname: fname.endswith('.txt'), files):\n",
    "                with open(os.path.join(root, fname), encoding='utf8', errors='ignore') as file:\n",
    "                    document = file.read()\n",
    "                    #x = clean_txt(document) # or whatever tokenization suits\n",
    "                    yield document"
   ]
  },
  {
   "cell_type": "code",
   "execution_count": 9,
   "metadata": {},
   "outputs": [],
   "source": [
    "class MyDocIterator(object):\n",
    "    '''expects a path of folders in list'''\n",
    "    def __init__(self, folders=None):\n",
    "        self.folders = folders\n",
    "        if self.folders is not None:\n",
    "            assert isinstance(self.folders, list), 'folders should be a list'\n",
    "        if self.folders is None:\n",
    "            raise TypeError('Please specify at least one folder')\n",
    "    \n",
    "    def __iter__(self):\n",
    "        k = []\n",
    "        if self.folders is not None:\n",
    "            f = [File2Doc(folder) for folder in self.folders]\n",
    "            k.extend(f)\n",
    "        return chain.from_iterable(k)"
   ]
  },
  {
   "cell_type": "code",
   "execution_count": 10,
   "metadata": {
    "collapsed": true
   },
   "outputs": [],
   "source": [
    "def get_paths(corpus_path):\n",
    "    return sorted([os.path.join(corpus_path, fn) for fn in os.listdir(corpus_path)])"
   ]
  },
  {
   "cell_type": "code",
   "execution_count": 11,
   "metadata": {
    "collapsed": true
   },
   "outputs": [],
   "source": [
    "def get_tfidf(my_docs):\n",
    "    #tfidf_vectorizer = text.TfidfVectorizer(input='filename', analyzer='word', encoding='utf-8',tokenizer=tokenize, stop_words = STOPWORDS, min_df=5, max_df = 0.85)\n",
    "    tfidf_vectorizer = text.TfidfVectorizer(preprocessor = clean_txt, tokenizer=tokenize)\n",
    "    dtm = tfidf_vectorizer.fit_transform(my_docs).toarray()\n",
    "    print('dtm size: ', dtm.shape)\n",
    "    tfidf_topic_vocab = np.array(tfidf_vectorizer.get_feature_names() )\n",
    "    print('length topic vocab: ', len(tfidf_topic_vocab))\n",
    "    return dtm, tfidf_topic_vocab"
   ]
  },
  {
   "cell_type": "code",
   "execution_count": 12,
   "metadata": {
    "collapsed": true
   },
   "outputs": [],
   "source": [
    "def get_NMF_topics(dtm, vocab, corpus_name, num_topics, num_words):\n",
    "    clf = NMF(n_components=num_topics, random_state=1)\n",
    "    print(clf)\n",
    "    doc_topic = clf.fit_transform(dtm)\n",
    "    word_dict={}\n",
    "    for topic_idx, topic in enumerate (clf.components_):\n",
    "        print (\"Topic \", topic_idx)\n",
    "        print (\" \".join([vocab[i] for i in topic.argsort()[:-num_words - 1:-1]]))\n",
    "        word_dict['Topic # ' + '{:02d}'.format(topic_idx +1)] = [ vocab[i] for i in topic.argsort()[:-num_words - 1:-1]]\n",
    "    topics = pd.DataFrame(word_dict)\n",
    "    topics.to_csv(corpus_name+'_topics.csv')\n",
    "    doc_topic = doc_topic / np.sum(doc_topic, axis=0, keepdims=True)\n",
    "    return doc_topic"
   ]
  },
  {
   "cell_type": "code",
   "execution_count": 13,
   "metadata": {
    "collapsed": true
   },
   "outputs": [],
   "source": [
    "def doc_names_topics(filenames, doc_topic, num_topics):\n",
    "    documents = []\n",
    "    for fn in filenames:\n",
    "        basename = os.path.basename(fn)\n",
    "        name, ext = os.path.splitext(basename)\n",
    "        name = name.rstrip('0123456789')\n",
    "        documents.append(name)\n",
    "    doc_names = np.asarray(documents)\n",
    "    doc_topic_orig = doc_topic.copy()\n",
    "    num_groups = len(set(doc_names))\n",
    "    doc_topic_grouped = np.zeros((num_groups, num_topics))\n",
    "    print('num groups: ',num_groups)\n",
    "    documents = sorted(set(doc_names))\n",
    "    return doc_topic_orig, doc_topic_grouped, documents\n",
    "\n",
    "def top_topics_total(doc_topic,documents, num_to_display):\n",
    "    top_topics_total = []\n",
    "    print('doc_topic len is: ', len(doc_topic))\n",
    "    for i in range(len(doc_topic)):\n",
    "        top_topics = np.argsort(doc_topic[i,:])[::-1][0:num_to_display]\n",
    "        top_topics_str = ' '.join(str(topic) for topic in top_topics)\n",
    "        print(\"{}: {}\".format(documents[i], top_topics_str))\n",
    "        top_topics_split = top_topics_str.split(' ')\n",
    "        top_topics_total.extend(top_topics_split)\n",
    "    return top_topics_total\n",
    "\n",
    "def NMF_vis(top_topics_total):\n",
    "    #make a giant array of top topics for all the documents\n",
    "    counts = Counter(top_topics_total)\n",
    "    labels, values = zip(*counts.items())\n",
    "    indSort = np.argsort(values)[::-1]\n",
    "    # rearrange \n",
    "    labels = np.array(labels)[indSort]\n",
    "    values = np.array(values)[indSort]\n",
    "    indexes = np.arange(len(labels))\n",
    "    bar_width = 0.3\n",
    "    plt.bar(indexes, values)\n",
    "    # add labels\n",
    "    plt.xticks(indexes + bar_width, labels)\n",
    "    plt.show()\n",
    "    "
   ]
  },
  {
   "cell_type": "code",
   "execution_count": 14,
   "metadata": {
    "collapsed": true
   },
   "outputs": [],
   "source": [
    "pro_files = get_paths('C:/Users/kec52/Documents/BLtext_research/proVaxTextLib/proTexts')"
   ]
  },
  {
   "cell_type": "markdown",
   "metadata": {},
   "source": [
    "pro_dtm, pro_word = get_tfidf(pro_files)"
   ]
  },
  {
   "cell_type": "code",
   "execution_count": 15,
   "metadata": {
    "collapsed": true
   },
   "outputs": [],
   "source": [
    "my_pro_docs = MyDocIterator(['C:/Users/kec52/Documents/BLtext_research/proVaxTextLib/proTexts'])"
   ]
  },
  {
   "cell_type": "code",
   "execution_count": 16,
   "metadata": {},
   "outputs": [
    {
     "name": "stdout",
     "output_type": "stream",
     "text": [
      "['rowland', 'oliver', 'price', 'boards', 'goskelt', 'printer', 'little', 'queen', 'sueâ', 'rowland']\n",
      "['rowland', 'oliver', 'price', 'board', 'goskelt', 'printer', 'little', 'queen', 'sueâ', 'rowland']\n",
      "['uxv', 'royal', 'college', 'phyficians', 'london', 'vaccination', 'containing', 'opinions', 'royal', 'colleges']\n",
      "['uxv', 'royal', 'college', 'phyficians', 'london', 'vaccination', 'contain', 'opinion', 'royal', 'college']\n",
      "['report', 'state', 'progress', 'vaccination', 'bengal', 'years', 'submitted', 'medical', 'board', 'fort']\n",
      "['report', 'state', 'progress', 'vaccination', 'bengal', 'year', 'submit', 'medical', 'board', 'fort']\n",
      "['digitized', 'internet', 'archive', 'archive', 'details', 'king', 'college', 'london', 'library', 'fto']\n",
      "['digitize', 'internet', 'archive', 'archive', 'king', 'college', 'london', 'library', 'fto', 'comi']\n",
      "['digitized', 'tine', 'internet', 'arcliive', 'littps', 'arcliive', 'details', 'report', 'surgeons', 'edinburgh']\n",
      "['digitize', 'tine', 'internet', 'arcliive', 'littps', 'arcliive', 'report', 'surgeon', 'edinburgh', 'vaccine']\n",
      "['vsett', 'lxs', 'observations', 'ofojpox', 'necessity', 'adopting', 'legislative', 'measures', 'enforcing', 'vaccination']\n",
      "['vsett', 'observation', 'ofojpox', 'necessity', 'adopt', 'legislative', 'measure', 'enforce', 'vaccination', 'uttttx']\n",
      "['question', 'vaccination', 'popularly', 'considered', 'ith', 'dissipate', 'doubts', 'continue', 'disturb', 'public']\n",
      "['question', 'vaccination', 'popularly', 'consider', 'ith', 'dissipate', 'doubt', 'continue', 'disturb', 'public']\n",
      "['entered', 'stationers', 'hall', 'cottage', 'dialogue', 'vaccination', 'daniel', 'doubtful', 'samuel', 'sensible']\n",
      "['enter', 'stationer', 'hall', 'cottage', 'dialogue', 'vaccination', 'daniel', 'doubtful', 'samuel', 'sensible']\n",
      "['vaccination', 'revaccination', 'results', 'years', 'experience', 'kingdom', 'tof', 'wirtemberg', 'reprinted', 'xiii']\n",
      "['vaccination', 'revaccination', 'result', 'year', 'experience', 'kingdom', 'tof', 'wirtemberg', 'reprint', 'xiii']\n",
      "['protective', 'modifying', 'powers', 'vaccination', 'edavard', 'cator', 'seaton', 'vice', 'pnesident', 'western']\n",
      "['protective', 'modify', 'power', 'vaccination', 'edavard', 'cator', 'seaton', 'vice', 'pnesident', 'western']\n",
      "['sanction', 'metropolitan', 'association', 'medical', 'officers', 'health', 'vaccination', 'edward', 'ballard', 'medical']\n",
      "['sanction', 'metropolitan', 'association', 'medical', 'officer', 'health', 'vaccination', 'edward', 'ballard', 'medical']\n",
      "['blanc', 'henry', 'compulsory', 'vaccination', 'london', 'yale', 'medical', 'library', 'historical', 'library']\n",
      "['blanc', 'henry', 'compulsory', 'vaccination', 'london', 'yale', 'medical', 'library', 'historical', 'library']\n",
      "['vaccination', 'injurious', 'popular', 'essay', 'principles', 'practice', 'vaccination', 'henry', 'alleyne', 'nicholson']\n",
      "['vaccination', 'injurious', 'popular', 'essay', 'principle', 'practice', 'vaccination', 'henry', 'alleyne', 'nicholson']\n",
      "['paper', 'read', 'meetiug', 'wopcestep', 'young', 'men', 'christian', 'association', 'dec', 'woodward']\n",
      "['paper', 'read', 'meetiug', 'wopcestep', 'young', 'men', 'christian', 'association', 'dec', 'woodward']\n",
      "['digitized', 'internet', 'archive', 'archive', 'details', 'jun', 'local', 'government', 'board', 'report']\n",
      "['digitize', 'internet', 'archive', 'archive', 'jun', 'local', 'government', 'board', 'report', 'epidemic']\n",
      "['cox', 'turn', 'reprinted', 'george', 'hospital', 'gazette', 'january', 'age', 'compulsion', 'gone']\n",
      "['cox', 'turn', 'reprint', 'george', 'hospital', 'gazette', 'january', 'age', 'compulsion', 'scruple']\n",
      "dtm size:  (16, 20567)\n",
      "length topic vocab:  20567\n"
     ]
    }
   ],
   "source": [
    "pro_dtm, pro_word = get_tfidf(my_pro_docs)"
   ]
  },
  {
   "cell_type": "code",
   "execution_count": 17,
   "metadata": {},
   "outputs": [
    {
     "name": "stdout",
     "output_type": "stream",
     "text": [
      "NMF(alpha=0.0, beta_loss='frobenius', init=None, l1_ratio=0.0, max_iter=200,\n",
      "  n_components=4, random_state=1, shuffle=False, solver='cd', tol=0.0001,\n",
      "  verbose=0)\n",
      "Topic  0\n",
      "pox small vaccination vaccinate case child disease year cent person attack sheffield time death medical hospital lymph know fact state\n",
      "Topic  1\n",
      "pox college small vaccination inoculation fmall birch cafe report royal phyficians practice vaccine general cow inoculate native surgeon difeafe court\n",
      "Topic  2\n",
      "vaccine pock smallpox cow disease pox year vaccination vesicle small day case puncture lymph inoculation matter arm pustule heim subject\n",
      "Topic  3\n",
      "conscience starch vaccination jenner doctor mother fortune spook robb gruel exit biscuit child worse prophet objector sauce verily declare babe\n"
     ]
    }
   ],
   "source": [
    "pro_topics = get_NMF_topics(pro_dtm, pro_word,'pro_corpus', 4, 20)"
   ]
  },
  {
   "cell_type": "code",
   "execution_count": 18,
   "metadata": {},
   "outputs": [
    {
     "name": "stdout",
     "output_type": "stream",
     "text": [
      "num groups:  16\n"
     ]
    }
   ],
   "source": [
    "pro_topic_orig, pro_topic_grouped, pro_docs = doc_names_topics(pro_files, pro_topics, 6)"
   ]
  },
  {
   "cell_type": "code",
   "execution_count": 19,
   "metadata": {},
   "outputs": [
    {
     "name": "stdout",
     "output_type": "stream",
     "text": [
      "doc_topic len is:  16\n",
      "1807, A Rowland for an Olivier: 1 2 0\n",
      "1807, Report of the Royal College of Physicians of London: 1 3 2\n",
      "1807, Report on the state and progress of vaccination in Bengal: 1 3 2\n",
      "1808, Hints for the consideration of Parliament: 1 0 2\n",
      "1809, Report of the surgeons of the Edinburgh Vaccine Institution: 2 1 3\n",
      "1828, Observations on cowpox: 2 3 0\n",
      "1829, The question of vaccination popularly considered: 2 0 3\n",
      "1830, A cottage dialogue on vaccination: 0 1 3\n",
      "1839, Vaccination and re-vaccination: 2 0 3\n",
      "1857, On the protective and modifying powers of vaccination: 0 2 1\n",
      "1859, Vaccination: 0 3 2\n",
      "1869, Compulsory vaccination: 0 2 3\n",
      "1869, Is vaccination injurious: 0 2 3\n",
      "1888, A pamphlet on vaccination: 0 3 2\n",
      "1889, Report on an epidemic of small-pox at Sheffield: 0 3 2\n",
      "1899, Vaccination Burke'd: 3 2 1\n"
     ]
    }
   ],
   "source": [
    "top_topics = top_topics_total(pro_topic_orig,pro_docs, 3)"
   ]
  },
  {
   "cell_type": "code",
   "execution_count": 20,
   "metadata": {},
   "outputs": [
    {
     "data": {
      "image/png": "[encoded data removed]",
      "text/plain": [
       "<Figure size 432x288 with 1 Axes>"
      ]
     },
     "metadata": {},
     "output_type": "display_data"
    }
   ],
   "source": [
    "NMF_vis(top_topics)"
   ]
  },
  {
   "cell_type": "code",
   "execution_count": 21,
   "metadata": {
    "collapsed": true
   },
   "outputs": [],
   "source": [
    "anti_files = get_paths('C:/Users/kec52/Documents/BLtext_research/antiVaxTextLib/antiTexts')"
   ]
  },
  {
   "cell_type": "code",
   "execution_count": 22,
   "metadata": {
    "collapsed": true
   },
   "outputs": [],
   "source": [
    "my_anti_docs = MyDocIterator(['C:/Users/kec52/Documents/BLtext_research/antiVaxTextLib/antiTexts'])"
   ]
  },
  {
   "cell_type": "code",
   "execution_count": 23,
   "metadata": {},
   "outputs": [
    {
     "name": "stdout",
     "output_type": "stream",
     "text": [
      "['ros', 'puli', 'copy', 'jnswer', 'queries', 'hontiott', 'college', 'burgeons', 'letter', 'college']\n",
      "['pul', 'copy', 'jnswer', 'query', 'hontiott', 'college', 'burgeon', 'letter', 'college', 'physician']\n",
      "['digitized', 'internet', 'archive', 'archive', 'details', 'king', 'college', 'london', 'inquiry', 'anttvariolous']\n",
      "['digitize', 'internet', 'archive', 'archive', 'king', 'college', 'london', 'inquiry', 'anttvariolous', 'power']\n",
      "['yeaes', 'experience', 'public', 'vaccinator', 'small', 'pox', 'vaccination', 'lictntittie', 'ihe', 'royal']\n",
      "['yeaes', 'experience', 'public', 'vaccinator', 'small', 'pox', 'vaccination', 'lictntittie', 'ihe', 'royal']\n",
      "['vaccination', 'remonstrance', 'respecting', 'vaccination', 'addressed', 'hon', 'henry', 'bruce', 'vice', 'president']\n",
      "['vaccination', 'remonstrance', 'respect', 'vaccination', 'address', 'hon', 'henry', 'bruce', 'vice', 'president']\n",
      "['haye', 'yaccinated', 'peotection', 'small', 'pox', 'vaccinated', 'peotection', 'small', 'pox', 'essay']\n",
      "['haye', 'yaccinated', 'peotection', 'small', 'pox', 'vaccinate', 'peotection', 'small', 'pox', 'essay']\n",
      "['translation', 'reserved', 'vaccination', 'tested', 'effects', 'health', 'mortality', 'population', 'essay', 'charles']\n",
      "['translation', 'reserve', 'vaccination', 'test', 'effect', 'health', 'mortality', 'population', 'essay', 'charles']\n",
      "['compulsory', 'vaccination', 'held', 'marylebone', 'vestry', 'hall', 'wednesday', 'evening', 'october', 'price']\n",
      "['compulsory', 'vaccination', 'hold', 'marylebone', 'vestry', 'hall', 'wednesday', 'evening', 'october', 'price']\n",
      "['boston', 'medical', 'library', 'francis', 'countway', 'library', 'medicine', 'boston', 'digitized', 'internet']\n",
      "['boston', 'medical', 'library', 'francis', 'countway', 'library', 'medicine', 'boston', 'digitize', 'internet']\n",
      "['digitized', 'internet', 'archive', 'funding', 'open', 'knowledge', 'commons', 'harvard', 'medical', 'school']\n",
      "['digitize', 'internet', 'archive', 'funding', 'open', 'knowledge', 'common', 'harvard', 'medical', 'school']\n",
      "['digitized', 'internet', 'archive', 'archive', 'details', 'political', 'vaccination', 'essay', 'read', 'birmingham']\n",
      "['digitize', 'internet', 'archive', 'archive', 'political', 'vaccination', 'essay', 'read', 'birmingham', 'anti']\n",
      "['digitized', 'internet', 'archive', 'archive', 'details', 'roiigljt', 'pome', 'lljt', 'plf', 'miss']\n",
      "['digitize', 'internet', 'archive', 'archive', 'roiigljt', 'pome', 'lljt', 'plf', 'miss', 'chandos']\n",
      "['university', 'library', 'leeds', 'library', 'school', 'medicine', 'digitized', 'internet', 'archive', 'archive']\n",
      "['university', 'library', 'leeds', 'library', 'school', 'medicine', 'digitize', 'internet', 'archive', 'archive']\n",
      "['sanitation', 'yaccination', 'true', 'protection', 'small', 'pox', 'paper', 'read', 'second', 'international']\n",
      "['sanitation', 'yaccination', 'true', 'protection', 'small', 'pox', 'paper', 'read', 'second', 'international']\n",
      "['royal', 'society', 'kou', 'tub', 'momotron', 'health', 'buckingham', 'palace', 'road', 'london']\n",
      "['royal', 'society', 'kou', 'tub', 'momotron', 'health', 'buckingham', 'palace', 'road', 'london']\n",
      "['library', 'cfc', 'accession', 'class', 'mark', 'story', 'great', 'delusion', 'digitized', 'tine']\n",
      "['library', 'cfc', 'accession', 'class', 'mark', 'story', 'great', 'delusion', 'digitize', 'tine']\n",
      "['vaccination', 'proved', 'useless', 'dangerous', 'years', 'registration', 'statistics', 'alfred', 'wallace', 'members']\n",
      "['vaccination', 'prove', 'useless', 'dangerous', 'year', 'registration', 'statistic', 'alfred', 'wallace', 'member']\n",
      "['adverse', 'vaccination', 'american', 'colonial', 'continental', 'sixpence', 'adverse', 'vaccination', 'american', 'colonial']\n",
      "['adverse', 'vaccination', 'american', 'colonial', 'continental', 'sixpence', 'adverse', 'vaccination', 'american', 'colonial']\n",
      "['library', 'date', 'lit', 'nua', 'eece', 'class', 'marlg', 'ajj', 'jqjjaccession', 'digitized']\n",
      "['library', 'date', 'lit', 'nua', 'eece', 'class', 'marlg', 'ajj', 'jqjjaccession', 'digitize']\n",
      "dtm size:  (18, 26112)\n",
      "length topic vocab:  26112\n"
     ]
    }
   ],
   "source": [
    "anti_dtm, anti_word= get_tfidf(my_anti_docs)"
   ]
  },
  {
   "cell_type": "code",
   "execution_count": 24,
   "metadata": {},
   "outputs": [
    {
     "name": "stdout",
     "output_type": "stream",
     "text": [
      "NMF(alpha=0.0, beta_loss='frobenius', init=None, l1_ratio=0.0, max_iter=200,\n",
      "  n_components=6, random_state=1, shuffle=False, solver='cd', tol=0.0001,\n",
      "  verbose=0)\n",
      "Topic  0\n",
      "pox small disease case vaccination cow practice inoculation vesicle child day vaccine time appearance year eruption areola pustule produce jenner\n",
      "Topic  1\n",
      "smallpox vaccination cowpox jenner vaccinate year case disease medical child time horsegrease death practice day inoculation london tion person health\n",
      "Topic  2\n",
      "child infect syphilis vaccinate syphilitic vaccination lymph series chiabrera manzone time case mother month depaul adenitis girolama norcy day vesicle\n",
      "Topic  3\n",
      "law vaccination disease medical pox blood parliament small child right compulsory health focus surgeon men vaccinate public legislator force know\n",
      "Topic  4\n",
      "vaccination pox small death year disease mortality vaccinate case leicester rate medical report cause increase general table number epidemic time\n",
      "Topic  5\n",
      "pox vaccination small vaccinate disease year time fact know child class patient matter public hong kong alto pugilist favour gether\n"
     ]
    }
   ],
   "source": [
    "anti_topics = get_NMF_topics(anti_dtm, anti_word, 'anti_corpus', 6, 20)"
   ]
  },
  {
   "cell_type": "code",
   "execution_count": 25,
   "metadata": {},
   "outputs": [
    {
     "name": "stdout",
     "output_type": "stream",
     "text": [
      "num groups:  18\n"
     ]
    }
   ],
   "source": [
    "anti_topic_orig, anti_topic_grouped, anti_docs = doc_names_topics(anti_files, anti_topics, 6)"
   ]
  },
  {
   "cell_type": "code",
   "execution_count": 26,
   "metadata": {},
   "outputs": [
    {
     "name": "stdout",
     "output_type": "stream",
     "text": [
      "doc_topic len is:  18\n",
      "1807_a_copy_of_an_answer_to_the_queries: 0 3 4\n",
      "1809, An inquiry into the antivariolus practice of vaccination: 0 2 1\n",
      "1866, Twenty years' experience as a public vaccinator: 5 4 3\n",
      "1866, Vaccination, a remonstrance: 1 2 4\n",
      "1868, Have you been vaccinated: 0 5 4\n",
      "1868, Vaccination and its tested effects: 4 0 5\n",
      "1870, Compulsory vaccination - report of a public meeting: 4 5 0\n",
      "1871, An attempt to prove that vaccination with its compulsory law: 3 0 5\n",
      "1873, Disasters from vaccination: 2 5 4\n",
      "1874, The political side of the vaccination system: 3 5 4\n",
      "1876, Vaccination brought home to the people: 3 0 5\n",
      "1877, Vaccination tracts: 1 2 3\n",
      "1881, Sanitation, not vaccination: 4 3 0\n",
      "1884, Compulsory vaccination in England: 4 2 5\n",
      "1885, The story of a great delusion: 1 0 5\n",
      "1889, Forty-five years of registration statistics: 4 5 3\n",
      "1906, Professional opinion adverse to vaccination: 1 3 2\n",
      "1912, Leicester, Sanitation vs Vaccination: 4 2 1\n"
     ]
    }
   ],
   "source": [
    "anti_top_topics = top_topics_total(anti_topic_orig,anti_docs, 3)"
   ]
  },
  {
   "cell_type": "code",
   "execution_count": 27,
   "metadata": {},
   "outputs": [
    {
     "data": {
      "image/png": "[encoded data removed]",
      "text/plain": [
       "<Figure size 432x288 with 1 Axes>"
      ]
     },
     "metadata": {},
     "output_type": "display_data"
    }
   ],
   "source": [
    "NMF_vis(anti_top_topics)"
   ]
  },
  {
   "cell_type": "code",
   "execution_count": 28,
   "metadata": {
    "collapsed": true
   },
   "outputs": [],
   "source": [
    "both_files = get_paths('C:/Users/kec52/Documents/BLtext_research/bothTexts')"
   ]
  },
  {
   "cell_type": "code",
   "execution_count": 29,
   "metadata": {
    "collapsed": true
   },
   "outputs": [],
   "source": [
    "my_both_docs = MyDocIterator(['C:/Users/kec52/Documents/BLtext_research/bothTexts'])"
   ]
  },
  {
   "cell_type": "code",
   "execution_count": 31,
   "metadata": {},
   "outputs": [
    {
     "name": "stdout",
     "output_type": "stream",
     "text": [
      "['rowland', 'oliver', 'price', 'boards', 'goskelt', 'printer', 'little', 'queen', 'sueã', 'rowland']\n",
      "['rowland', 'oliver', 'price', 'board', 'goskelt', 'printer', 'little', 'queen', 'sueã', 'rowland']\n",
      "['uxv', 'royal', 'college', 'phyficians', 'london', 'vaccination', 'containing', 'opinions', 'royal', 'colleges']\n",
      "['uxv', 'royal', 'college', 'phyficians', 'london', 'vaccination', 'contain', 'opinion', 'royal', 'college']\n",
      "['report', 'state', 'progress', 'vaccination', 'bengal', 'years', 'submitted', 'medical', 'board', 'fort']\n",
      "['report', 'state', 'progress', 'vaccination', 'bengal', 'year', 'submit', 'medical', 'board', 'fort']\n",
      "['ros', 'puli', 'copy', 'jnswer', 'queries', 'hontiott', 'college', 'burgeons', 'letter', 'college']\n",
      "['pul', 'copy', 'jnswer', 'query', 'hontiott', 'college', 'burgeon', 'letter', 'college', 'physician']\n",
      "['digitized', 'internet', 'archive', 'archive', 'details', 'kingâ', 'college', 'london', 'library', 'fto']\n",
      "['digitize', 'internet', 'archive', 'archive', 'kingâ', 'college', 'london', 'library', 'fto', 'comi']\n",
      "['digitized', 'internet', 'archive', 'archive', 'details', 'king', 'college', 'london', 'inquiry', 'anttvariolous']\n",
      "['digitize', 'internet', 'archive', 'archive', 'king', 'college', 'london', 'inquiry', 'anttvariolous', 'power']\n",
      "['digitized', 'tine', 'internet', 'arcliive', 'littps', 'arcliive', 'details', 'report', 'surgeons', 'edinburgh']\n",
      "['digitize', 'tine', 'internet', 'arcliive', 'littps', 'arcliive', 'report', 'surgeon', 'edinburgh', 'vaccine']\n",
      "['vsett', 'lxs', 'observations', 'ofojpox', 'necessity', 'adopting', 'legislative', 'measures', 'enforcing', 'vaccination']\n",
      "['vsett', 'observation', 'ofojpox', 'necessity', 'adopt', 'legislative', 'measure', 'enforce', 'vaccination', 'uttttx']\n",
      "['question', 'vaccination', 'popularly', 'considered', 'ith', 'dissipate', 'doubts', 'continue', 'disturb', 'public']\n",
      "['question', 'vaccination', 'popularly', 'consider', 'ith', 'dissipate', 'doubt', 'continue', 'disturb', 'public']\n",
      "['entered', 'stationers', 'hall', 'cottage', 'dialogue', 'vaccination', 'daniel', 'doubtful', 'samuel', 'sensible']\n",
      "['enter', 'stationer', 'hall', 'cottage', 'dialogue', 'vaccination', 'daniel', 'doubtful', 'samuel', 'sensible']\n",
      "['vaccination', 'revaccination', 'results', 'yearsâ', 'experience', 'kingdom', 'tof', 'wirtemberg', 'reprinted', 'xiii']\n",
      "['vaccination', 'revaccination', 'result', 'yearsâ', 'experience', 'kingdom', 'tof', 'wirtemberg', 'reprint', 'xiii']\n",
      "['protective', 'modifying', 'powers', 'vaccination', 'edavard', 'cator', 'seaton', 'vice', 'pnesident', 'western']\n",
      "['protective', 'modify', 'power', 'vaccination', 'edavard', 'cator', 'seaton', 'vice', 'pnesident', 'western']\n",
      "['sanction', 'metropolitan', 'association', 'medical', 'officers', 'health', 'vaccination', 'edward', 'ballard', 'medical']\n",
      "['sanction', 'metropolitan', 'association', 'medical', 'officer', 'health', 'vaccination', 'edward', 'ballard', 'medical']\n",
      "['yeaes', 'experience', 'public', 'vaccinator', 'small', 'pox', 'vaccination', 'lictntittie', 'ihe', 'royal']\n",
      "['yeaes', 'experience', 'public', 'vaccinator', 'small', 'pox', 'vaccination', 'lictntittie', 'ihe', 'royal']\n",
      "['vaccination', 'remonstrance', 'respecting', 'vaccination', 'addressed', 'hon', 'henry', 'bruce', 'vice', 'president']\n",
      "['vaccination', 'remonstrance', 'respect', 'vaccination', 'address', 'hon', 'henry', 'bruce', 'vice', 'president']\n",
      "['haye', 'yaccinated', 'peotection', 'small', 'pox', 'vaccinated', 'peotection', 'small', 'pox', 'essay']\n",
      "['haye', 'yaccinated', 'peotection', 'small', 'pox', 'vaccinate', 'peotection', 'small', 'pox', 'essay']\n",
      "['translation', 'reserved', 'vaccination', 'tested', 'effects', 'health', 'mortality', 'population', 'essay', 'charles']\n",
      "['translation', 'reserve', 'vaccination', 'test', 'effect', 'health', 'mortality', 'population', 'essay', 'charles']\n",
      "['blanc', 'henry', 'compulsory', 'vaccination', 'london', 'yale', 'medical', 'library', 'historical', 'library']\n",
      "['blanc', 'henry', 'compulsory', 'vaccination', 'london', 'yale', 'medical', 'library', 'historical', 'library']\n",
      "['vaccination', 'injurious', 'popular', 'essay', 'principles', 'practice', 'vaccination', 'henry', 'alleyne', 'nicholson']\n",
      "['vaccination', 'injurious', 'popular', 'essay', 'principle', 'practice', 'vaccination', 'henry', 'alleyne', 'nicholson']\n",
      "['compulsory', 'vaccination', 'held', 'marylebone', 'vestry', 'hall', 'wednesday', 'evening', 'october', 'price']\n",
      "['compulsory', 'vaccination', 'hold', 'marylebone', 'vestry', 'hall', 'wednesday', 'evening', 'october', 'price']\n",
      "['boston', 'medical', 'library', 'francis', 'countway', 'library', 'medicine', 'boston', 'digitized', 'internet']\n",
      "['boston', 'medical', 'library', 'francis', 'countway', 'library', 'medicine', 'boston', 'digitize', 'internet']\n",
      "['digitized', 'internet', 'archive', 'funding', 'open', 'knowledge', 'commons', 'harvard', 'medical', 'school']\n",
      "['digitize', 'internet', 'archive', 'funding', 'open', 'knowledge', 'common', 'harvard', 'medical', 'school']\n",
      "['digitized', 'internet', 'archive', 'archive', 'details', 'political', 'vaccination', 'essay', 'read', 'birmingham']\n",
      "['digitize', 'internet', 'archive', 'archive', 'political', 'vaccination', 'essay', 'read', 'birmingham', 'anti']\n",
      "['digitized', 'internet', 'archive', 'archive', 'details', 'roiigljt', 'pome', 'lljt', 'plf', 'miss']\n",
      "['digitize', 'internet', 'archive', 'archive', 'roiigljt', 'pome', 'lljt', 'plf', 'miss', 'chandos']\n",
      "['university', 'library', 'leeds', 'library', 'school', 'medicine', 'digitized', 'internet', 'archive', 'archive']\n",
      "['university', 'library', 'leeds', 'library', 'school', 'medicine', 'digitize', 'internet', 'archive', 'archive']\n",
      "['sanitation', 'yaccination', 'true', 'protection', 'small', 'pox', 'paper', 'read', 'second', 'international']\n",
      "['sanitation', 'yaccination', 'true', 'protection', 'small', 'pox', 'paper', 'read', 'second', 'international']\n",
      "['royal', 'society', 'kou', 'tub', 'momotron', 'health', 'buckingham', 'palace', 'road', 'london']\n",
      "['royal', 'society', 'kou', 'tub', 'momotron', 'health', 'buckingham', 'palace', 'road', 'london']\n",
      "['library', 'cfc', 'accession', 'class', 'mark', 'story', 'great', 'delusion', 'digitized', 'tine']\n",
      "['library', 'cfc', 'accession', 'class', 'mark', 'story', 'great', 'delusion', 'digitize', 'tine']\n",
      "['paper', 'read', 'meetiug', 'wopcestep', 'young', 'men', 'christian', 'association', 'dec', 'woodward']\n",
      "['paper', 'read', 'meetiug', 'wopcestep', 'young', 'men', 'christian', 'association', 'dec', 'woodward']\n",
      "['vaccination', 'proved', 'useless', 'dangerous', 'years', 'registration', 'statistics', 'alfred', 'wallace', 'members']\n",
      "['vaccination', 'prove', 'useless', 'dangerous', 'year', 'registration', 'statistic', 'alfred', 'wallace', 'member']\n",
      "['digitized', 'internet', 'archive', 'archive', 'details', 'jun', 'local', 'government', 'board', 'report']\n",
      "['digitize', 'internet', 'archive', 'archive', 'jun', 'local', 'government', 'board', 'report', 'epidemic']\n",
      "['cox', 'turn', 'reprinted', 'georgeâ', 'hospital', 'gazette', 'january', 'age', 'compulsion', 'gone']\n",
      "['cox', 'turn', 'reprint', 'georgeâ', 'hospital', 'gazette', 'january', 'age', 'compulsion', 'scruple']\n",
      "['adverse', 'vaccination', 'american', 'colonial', 'continental', 'sixpence', 'adverse', 'vaccination', 'american', 'colonial']\n",
      "['adverse', 'vaccination', 'american', 'colonial', 'continental', 'sixpence', 'adverse', 'vaccination', 'american', 'colonial']\n",
      "['library', 'date', 'lit', 'nua', 'eece', 'class', 'marlg', 'ajj', 'jqjjaccession', 'digitized']\n",
      "['library', 'date', 'lit', 'nua', 'eece', 'class', 'marlg', 'ajj', 'jqjjaccession', 'digitize']\n",
      "dtm size:  (34, 37647)\n",
      "length topic vocab:  37647\n"
     ]
    }
   ],
   "source": [
    "both_dtm, both_word= get_tfidf(my_both_docs)"
   ]
  },
  {
   "cell_type": "code",
   "execution_count": 32,
   "metadata": {},
   "outputs": [
    {
     "name": "stdout",
     "output_type": "stream",
     "text": [
      "NMF(alpha=0.0, beta_loss='frobenius', init=None, l1_ratio=0.0, max_iter=200,\n",
      "  n_components=9, random_state=1, shuffle=False, solver='cd', tol=0.0001,\n",
      "  verbose=0)\n",
      "Topic  0\n",
      "vaccination pox small year vaccinate disease death case mortality cent child medical epidemic person time age hospital fact rate leicester\n",
      "Topic  1\n",
      "smallpox vaccination cowpox disease jenner case year medical time vaccinate death horsegrease inoculation practice virus fact person state life child\n",
      "Topic  2\n",
      "pox vaccine small vesicle pock day cow disease case year inoculation puncture pustule arm areola matter heim lymph produce vaccination\n",
      "Topic  3\n",
      "child syphilis infect syphilitic vaccination vaccinate lymph chiabrera series manzone case depaul time mother month adenitis girolama norcy fact anus\n",
      "Topic  4\n",
      "fmall cafe native vaccination pox vaccinate fome calcutta difeafe thefe vaccine fchool boy fame robertfon againft campbell inoculator shoolbred station\n",
      "Topic  5\n",
      "law vaccination disease medical pox blood parliament small compulsory child poison health force cow case nature vaccine matter men public\n",
      "Topic  6\n",
      "starch vaccination jenner conscience robbâ biscuit forâ gruel sauce fortune mother exit vaccinate declare child babe prophet verily small milk\n",
      "Topic  7\n",
      "pox small college vaccination birch inoculation cow practice ringwood committee report opinion case public disease inoculate surgeon patient royal birchâ\n",
      "Topic  8\n",
      "pox small sam dan know doctor people sure vaccinate child thing good tell catch daniel trotter parish think come cow\n"
     ]
    }
   ],
   "source": [
    "both_topics = get_NMF_topics(both_dtm, both_word, 'both_corpus', 9, 20)"
   ]
  },
  {
   "cell_type": "code",
   "execution_count": 33,
   "metadata": {},
   "outputs": [
    {
     "name": "stdout",
     "output_type": "stream",
     "text": [
      "num groups:  34\n"
     ]
    }
   ],
   "source": [
    "both_topic_orig, both_topic_grouped, both_docs = doc_names_topics(both_files, both_topics, 9)"
   ]
  },
  {
   "cell_type": "code",
   "execution_count": 34,
   "metadata": {
    "scrolled": true
   },
   "outputs": [
    {
     "name": "stdout",
     "output_type": "stream",
     "text": [
      "doc_topic len is:  34\n",
      "1807, A Rowland for an Olivier: 7 5 1\n",
      "1807, Report of the Royal College of Physicians of London: 4 7 8\n",
      "1807, Report on the state and progress of vaccination in Bengal: 4 8 7\n",
      "1807_a_copy_of_an_answer_to_the_queries: 7 8 2\n",
      "1808, Hints for the consideration of Parliament: 7 8 2\n",
      "1809, An inquiry into the antivariolus practice of vaccination: 2 7 3\n",
      "1809, Report of the surgeons of the Edinburgh Vaccine Institution: 2 4 8\n",
      "1828, Observations on cowpox: 1 2 7\n",
      "1829, The question of vaccination popularly considered: 2 5 6\n",
      "1830, A cottage dialogue on vaccination: 8 7 6\n",
      "1839, Vaccination and re-vaccination: 2 3 0\n",
      "1857, On the protective and modifying powers of vaccination: 0 7 2\n",
      "1859, Vaccination: 8 0 3\n",
      "1866, Twenty years' experience as a public vaccinator: 8 0 6\n",
      "1866, Vaccination, a remonstrance: 3 1 0\n",
      "1868, Have you been vaccinated: 7 8 2\n",
      "1868, Vaccination and its tested effects: 0 7 2\n",
      "1869, Compulsory vaccination: 3 0 5\n",
      "1869, Is vaccination injurious: 0 2 5\n",
      "1870, Compulsory vaccination - report of a public meeting: 0 5 7\n",
      "1871, An attempt to prove that vaccination with its compulsory law: 5 8 2\n",
      "1873, Disasters from vaccination: 3 8 7\n",
      "1874, The political side of the vaccination system: 5 8 7\n",
      "1876, Vaccination brought home to the people: 5 8 0\n",
      "1877, Vaccination tracts: 1 3 5\n",
      "1881, Sanitation, not vaccination: 5 0 7\n",
      "1884, Compulsory vaccination in England: 0 5 3\n",
      "1885, The story of a great delusion: 1 7 6\n",
      "1888, A pamphlet on vaccination: 0 3 8\n",
      "1889, Forty-five years of registration statistics: 0 4 8\n",
      "1889, Report on an epidemic of small-pox at Sheffield: 0 8 7\n",
      "1899, Vaccination Burke'd: 6 8 7\n",
      "1906, Professional opinion adverse to vaccination: 1 5 3\n",
      "1912, Leicester, Sanitation vs Vaccination: 0 5 1\n"
     ]
    }
   ],
   "source": [
    "both_top_topics = top_topics_total(both_topic_orig,both_docs, 3)"
   ]
  },
  {
   "cell_type": "code",
   "execution_count": 35,
   "metadata": {},
   "outputs": [
    {
     "data": {
      "image/png": "[encoded data removed]",
      "text/plain": [
       "<Figure size 432x288 with 1 Axes>"
      ]
     },
     "metadata": {},
     "output_type": "display_data"
    }
   ],
   "source": [
    "NMF_vis(both_top_topics)"
   ]
  },
  {
   "cell_type": "code",
   "execution_count": null,
   "metadata": {
    "collapsed": true
   },
   "outputs": [],
   "source": []
  },
  {
   "cell_type": "code",
   "execution_count": null,
   "metadata": {
    "collapsed": true
   },
   "outputs": [],
   "source": []
  }
 ],
 "metadata": {
  "kernelspec": {
   "display_name": "Python 3",
   "language": "python",
   "name": "python3"
  },
  "language_info": {
   "codemirror_mode": {
    "name": "ipython",
    "version": 3
   },
   "file_extension": ".py",
   "mimetype": "text/x-python",
   "name": "python",
   "nbconvert_exporter": "python",
   "pygments_lexer": "ipython3",
   "version": "3.6.3"
  }
 },
 "nbformat": 4,
 "nbformat_minor": 2
}
